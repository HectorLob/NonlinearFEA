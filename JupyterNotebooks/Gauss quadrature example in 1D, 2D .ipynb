{
 "cells": [
  {
   "cell_type": "code",
   "execution_count": 1,
   "metadata": {},
   "outputs": [],
   "source": [
    "import numpy as np"
   ]
  },
  {
   "cell_type": "code",
   "execution_count": 2,
   "metadata": {},
   "outputs": [],
   "source": [
    "# Shape functions and derivatives \n",
    "\n",
    "def N1(xi):\n",
    "    return 0.5*xi*(xi-1)\n",
    "def N2(xi):\n",
    "    return -1.0*(xi+1)*(xi-1)\n",
    "def N3(xi):\n",
    "    return 0.5*xi*(xi+1)\n",
    "def dN1dxi(xi):\n",
    "    return 0.5*(xi-1) + 0.5*xi\n",
    "def dN2dxi(xi):\n",
    "    return -1.0*(xi-1) -1.0*(xi+1)\n",
    "def dN3dxi(xi):\n",
    "    return 0.5*(xi+1) + 0.5*xi"
   ]
  },
  {
   "cell_type": "code",
   "execution_count": 3,
   "metadata": {},
   "outputs": [
    {
     "name": "stdout",
     "output_type": "stream",
     "text": [
      "element 0\n",
      "made up of nodes 0,1,2\n",
      "element 1\n",
      "made up of nodes 2,3,4\n",
      "integral\n",
      "2.666666666666667\n"
     ]
    }
   ],
   "source": [
    "## what if we had two elements \n",
    "node_x = np.array([0.,1.,2.,3.,4.])\n",
    "elements = np.array([[0,1,2],[2,3,4]])\n",
    "node_theta = np.array([0.0,-0.5,0.0,1.5,4.0])\n",
    "\n",
    "## FOR LOOP OVER ELEMENTS \n",
    "integral = 0\n",
    "for ei in range(2):\n",
    "    print('element %i'%ei)\n",
    "    n1e = elements[ei,0]\n",
    "    n2e = elements[ei,1]\n",
    "    n3e = elements[ei,2]\n",
    "    print('made up of nodes %i,%i,%i'%(n1e,n2e,n3e))\n",
    "    x1e = node_x[n1e]\n",
    "    x2e = node_x[n2e]\n",
    "    x3e = node_x[n3e]\n",
    "    # nodal values of theta\n",
    "    th1e = node_theta[n1e]\n",
    "    th2e = node_theta[n2e]\n",
    "    th3e = node_theta[n3e]\n",
    "    # Integral, with 3 point Gauss \n",
    "    xi_ip_vec = np.array([-np.sqrt(3/5.),0,np.sqrt(3/5.)])\n",
    "    w_ip_vec = np.array([5./9,8./9,5./9])\n",
    "    ## LOOP OVER INTEGRATION POINTS\n",
    "    for ip in range(3):\n",
    "        xi = xi_ip_vec[ip]\n",
    "        wip = w_ip_vec[ip]\n",
    "        ## EVALUATE THE ISOPARAMETRIC MAP\n",
    "        x = N1(xi)*x1e + N2(xi)*x2e + N3(xi)*x3e \n",
    "        ## EVALUATE THE JACOBIAN OF THE ISOPARAMETRIC MAP\n",
    "        dxdxi = dN1dxi(xi)*x1e + dN2dxi(xi)*x2e +  dN3dxi(xi)*x3e\n",
    "        ## EVALUATE THE FUNCTION AT XI\n",
    "        fxi = N1(xi)*th1e + N2(xi)*th2e + N3(xi)*th3e \n",
    "        ## PUT TOGETHER \n",
    "        integral += wip*dxdxi*fxi \n",
    "\n",
    "print('integral')\n",
    "print(integral)"
   ]
  },
  {
   "cell_type": "markdown",
   "metadata": {},
   "source": [
    "## Integration in one quadratic quadrilateral "
   ]
  },
  {
   "cell_type": "code",
   "execution_count": 12,
   "metadata": {},
   "outputs": [],
   "source": [
    "## nodal coordinates of the quadrilateral in x-y space \n",
    "node_x = np.array([[0.,0.], [3.,0.], [5.,4.], [2.,4.], [1.5,0.], [4.5, 2.], [3.5,4.], [1.5,2.], [2.5,2],\\\n",
    "                  [4.,0.],[5.5,2],[6.,4],[5.,0.],[6.5,2],[7.,4]])\n",
    "elements = np.array([[0,1,2,3,4,5,6,7,8],[1,12,14,2,9,13,11,5,10]])"
   ]
  },
  {
   "cell_type": "code",
   "execution_count": 5,
   "metadata": {},
   "outputs": [],
   "source": [
    "def func(x,y):\n",
    "    return 0.5*x**2-y"
   ]
  },
  {
   "cell_type": "code",
   "execution_count": 10,
   "metadata": {},
   "outputs": [],
   "source": [
    "## SHAPE FUNCTIONS FOR 2D QUADRATIC QUADRILATERAL\n",
    "def Ns(xi,eta):\n",
    "    # get 2D functions from 'tensor product of 1d functions'\n",
    "    N1_2d = N1(xi)*N1(eta)\n",
    "    N2_2d = N3(xi)*N1(eta)\n",
    "    N3_2d = N3(xi)*N3(eta)\n",
    "    N4_2d = N1(xi)*N3(eta)\n",
    "    N5_2d = N2(xi)*N1(eta)\n",
    "    N6_2d = N3(xi)*N2(eta)\n",
    "    N7_2d = N2(xi)*N3(eta)\n",
    "    N8_2d = N1(xi)*N2(eta)\n",
    "    N9_2d = N2(xi)*N2(eta)\n",
    "    return np.array([N1_2d,N2_2d,N3_2d,N4_2d,N5_2d,N6_2d,N7_2d,N8_2d,N9_2d])\n",
    "\n",
    "def dNsdxi(xi,eta):\n",
    "    dN1_2d = [dN1dxi(xi)*N1(eta),N1(xi)*dN1dxi(eta)]\n",
    "    dN2_2d = [dN3dxi(xi)*N1(eta),N3(xi)*dN1dxi(eta)]\n",
    "    dN3_2d = [dN3dxi(xi)*N3(eta),N3(xi)*dN3dxi(eta)]\n",
    "    dN4_2d = [dN1dxi(xi)*N3(eta),N1(xi)*dN3dxi(eta)]\n",
    "    dN5_2d = [dN2dxi(xi)*N1(eta),N2(xi)*dN1dxi(eta)]\n",
    "    dN6_2d = [dN3dxi(xi)*N2(eta),N3(xi)*dN2dxi(eta)]\n",
    "    dN7_2d = [dN2dxi(xi)*N3(eta),N2(xi)*dN3dxi(eta)]\n",
    "    dN8_2d = [dN1dxi(xi)*N2(eta),N1(xi)*dN2dxi(eta)]\n",
    "    dN9_2d = [dN2dxi(xi)*N2(eta),N2(xi)*dN2dxi(eta)]\n",
    "    return np.array([[dN1_2d[0],dN2_2d[0],dN3_2d[0],dN4_2d[0],dN5_2d[0],dN6_2d[0],dN7_2d[0],dN8_2d[0],dN9_2d[0]],\\\n",
    "                     [dN1_2d[1],dN2_2d[1],dN3_2d[1],dN4_2d[1],dN5_2d[1],dN6_2d[1],dN7_2d[1],dN8_2d[1],dN9_2d[1]]])"
   ]
  },
  {
   "cell_type": "code",
   "execution_count": 16,
   "metadata": {},
   "outputs": [
    {
     "name": "stdout",
     "output_type": "stream",
     "text": [
      "element 0\n",
      "global node numbers that make up this element\n",
      "[0 1 2 3 4 5 6 7 8]\n",
      "coordinates of the nodes that make up this element\n",
      "[[0.  0. ]\n",
      " [3.  0. ]\n",
      " [5.  4. ]\n",
      " [2.  4. ]\n",
      " [1.5 0. ]\n",
      " [4.5 2. ]\n",
      " [3.5 4. ]\n",
      " [1.5 2. ]\n",
      " [2.5 2. ]]\n",
      "loop over integration points\n",
      "xi, eta\n",
      "-0.5773502691896257 -0.5773502691896257\n",
      "x,y\n",
      "1.1677354381370468 0.8452994616207485\n",
      "xi, eta\n",
      "-0.5773502691896257 0.5773502691896257\n",
      "x,y\n",
      "2.3224359765162985 3.1547005383792515\n",
      "xi, eta\n",
      "0.5773502691896257 -0.5773502691896257\n",
      "x,y\n",
      "2.899786245705924 0.8452994616207485\n",
      "xi, eta\n",
      "0.5773502691896257 0.5773502691896257\n",
      "x,y\n",
      "4.054486784085176 3.1547005383792515\n",
      "element 1\n",
      "global node numbers that make up this element\n",
      "[ 1 12 14  2  9 13 11  5 10]\n",
      "coordinates of the nodes that make up this element\n",
      "[[3.  0. ]\n",
      " [5.  0. ]\n",
      " [7.  4. ]\n",
      " [5.  4. ]\n",
      " [4.  0. ]\n",
      " [6.5 2. ]\n",
      " [6.  4. ]\n",
      " [4.5 2. ]\n",
      " [5.5 2. ]]\n",
      "loop over integration points\n",
      "xi, eta\n",
      "-0.5773502691896257 -0.5773502691896257\n",
      "x,y\n",
      "4.178632794954082 0.8452994616207485\n",
      "xi, eta\n",
      "-0.5773502691896257 0.5773502691896257\n",
      "x,y\n",
      "5.333333333333334 3.1547005383792515\n",
      "xi, eta\n",
      "0.5773502691896257 -0.5773502691896257\n",
      "x,y\n",
      "5.333333333333334 0.8452994616207485\n",
      "xi, eta\n",
      "0.5773502691896257 0.5773502691896257\n",
      "x,y\n",
      "6.4880338717125845 3.1547005383792515\n",
      "integral\n",
      "130.81481481481484\n"
     ]
    }
   ],
   "source": [
    "## INTEGRAL \n",
    "## FOR LOOP OVER ELEMENTS \n",
    "integral = 0\n",
    "for ei in range(2):\n",
    "    print('element %i'%ei)\n",
    "#     n1e = elements[ei,0]\n",
    "#     n2e = elements[ei,1]\n",
    "#     n3e = elements[ei,2]\n",
    "#     print('made up of nodes %i,%i,%i'%(n1e,n2e,n3e))\n",
    "#     x1e = node_x[n1e]\n",
    "#     x2e = node_x[n2e]\n",
    "#     x3e = node_x[n3e]\n",
    "#     # nodal values of theta\n",
    "#     th1e = node_theta[n1e]\n",
    "#     th2e = node_theta[n2e]\n",
    "#     th3e = node_theta[n3e]\n",
    "    x_node_ei = np.zeros((9,2))\n",
    "    # loop over local node number, 0, to 9\n",
    "    for ni in range(9):\n",
    "        global_node = elements[ei,ni]\n",
    "        x_node_ei[ni] = node_x[global_node]\n",
    "    print('global node numbers that make up this element')\n",
    "    print(elements[ei])\n",
    "    print('coordinates of the nodes that make up this element')\n",
    "    print(x_node_ei)\n",
    "    # Integral, with 3 point Gauss per direction \n",
    "    #xi_ip_vec = np.array([-np.sqrt(3/5.),0,np.sqrt(3/5.)])\n",
    "    #w_ip_vec = np.array([5./9,8./9,5./9])\n",
    "    xi_ip_vec = np.array([-np.sqrt(1/3.),np.sqrt(1/3.)])\n",
    "    w_ip_vec = np.array([1.0,1.0])\n",
    "    ## LOOP OVER INTEGRATION POINTS\n",
    "    print('loop over integration points')\n",
    "    for ip_1 in range(2):\n",
    "        for ip_2 in range(2):\n",
    "            xi = xi_ip_vec[ip_1]\n",
    "            eta = xi_ip_vec[ip_2]\n",
    "            print('xi, eta')\n",
    "            print(xi,eta)\n",
    "            wip1 = w_ip_vec[ip_1]\n",
    "            wip2 = w_ip_vec[ip_2]\n",
    "            ## EVALUATE THE ISOPARAMETRIC MAP\n",
    "            Nvec = Ns(xi,eta)\n",
    "            #print(Nvec)\n",
    "            x = np.zeros((2))\n",
    "            for ni in range(9):\n",
    "                x += Nvec[ni]*x_node_ei[ni]\n",
    "            print('x,y')\n",
    "            print(x[0],x[1])\n",
    "            ## EVALUATE THE JACOBIAN OF THE ISOPARAMETRIC MAP\n",
    "            dxdxi = np.zeros((2,2))\n",
    "            dNvec = dNsdxi(xi,eta)\n",
    "            for ni in range(9):\n",
    "                dxdxi += np.outer(x_node_ei[ni],dNvec[:,ni])\n",
    "            ## EVALUATE THE FUNCTION AT XI\n",
    "            fxy = func(x[0],x[1])\n",
    "            ## PUT TOGETHER \n",
    "            integral += wip1*wip2*np.linalg.det(dxdxi)*fxy \n",
    "\n",
    "print('integral')\n",
    "print(integral)"
   ]
  },
  {
   "cell_type": "code",
   "execution_count": 18,
   "metadata": {},
   "outputs": [
    {
     "data": {
      "text/plain": [
       "'%.5f'"
      ]
     },
     "execution_count": 18,
     "metadata": {},
     "output_type": "execute_result"
    }
   ],
   "source": [
    "import matplotlib\n",
    "import random\n",
    "import matplotlib.pyplot as plt\n",
    "import matplotlib.tri as mtri\n",
    "from matplotlib.patches import Polygon\n",
    "from matplotlib.collections import PatchCollection\n",
    "%matplotlib inline \n",
    "%precision 5"
   ]
  },
  {
   "cell_type": "code",
   "execution_count": 22,
   "metadata": {},
   "outputs": [
    {
     "data": {
      "text/plain": [
       "(-0.3219325247694748,\n",
       " 5.322629037039524,\n",
       " -0.2547448310325913,\n",
       " 4.2547506070971375)"
      ]
     },
     "execution_count": 22,
     "metadata": {},
     "output_type": "execute_result"
    },
    {
     "data": {
      "image/png": "[encoded data removed]",
      "text/plain": [
       "<Figure size 720x360 with 2 Axes>"
      ]
     },
     "metadata": {
      "needs_background": "light"
     },
     "output_type": "display_data"
    }
   ],
   "source": [
    "f, (ax1,ax2) = plt.subplots(1, 2,figsize=(10,5))\n",
    "xi_vec = np.linspace(-1,1,30)\n",
    "eta_vec = np.linspace(-1,1,30)\n",
    "xi_mat = np.zeros((30*30))\n",
    "eta_mat = np.zeros((30*30))\n",
    "x_mat = np.zeros((30*30))\n",
    "y_mat = np.zeros((30*30))\n",
    "for i in range(30):\n",
    "    for j in range(30):\n",
    "        ## EVALUATE ISOPARAMETRIC MAP FROM XI,ETA TO X,Y\n",
    "        xi = xi_vec[i]\n",
    "        eta = eta_vec[j]\n",
    "        evalN = Ns(xi,eta)\n",
    "        x = 0\n",
    "        y = 0\n",
    "        for ni in range(9):\n",
    "            x+= evalN[ni]*node_x[ni,0]\n",
    "            y+= evalN[ni]*node_x[ni,1]\n",
    "        ## STORE\n",
    "        x_mat[i*30+j] = x\n",
    "        y_mat[i*30+j] = y\n",
    "        xi_mat[i*30+j] = xi\n",
    "        eta_mat[i*30+j] = eta\n",
    "ax1.scatter(xi_mat,eta_mat)\n",
    "ax2.scatter(x_mat,y_mat)\n",
    "for ni in range(9):\n",
    "    ax2.scatter(node_x[ni,0],node_x[ni,1],color='red')\n",
    "ax1.axis('equal')\n",
    "ax2.axis('equal')"
   ]
  },
  {
   "cell_type": "code",
   "execution_count": null,
   "metadata": {},
   "outputs": [],
   "source": []
  }
 ],
 "metadata": {
  "kernelspec": {
   "display_name": "Python 3",
   "language": "python",
   "name": "python3"
  },
  "language_info": {
   "codemirror_mode": {
    "name": "ipython",
    "version": 3
   },
   "file_extension": ".py",
   "mimetype": "text/x-python",
   "name": "python",
   "nbconvert_exporter": "python",
   "pygments_lexer": "ipython3",
   "version": "3.7.6"
  }
 },
 "nbformat": 4,
 "nbformat_minor": 4
}
