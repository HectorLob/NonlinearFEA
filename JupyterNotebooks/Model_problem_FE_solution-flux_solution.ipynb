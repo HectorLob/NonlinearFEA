{
 "cells": [
  {
   "cell_type": "code",
   "execution_count": 1,
   "metadata": {},
   "outputs": [
    {
     "data": {
      "text/plain": [
       "'%.5f'"
      ]
     },
     "execution_count": 1,
     "metadata": {},
     "output_type": "execute_result"
    }
   ],
   "source": [
    "import numpy as np\n",
    "import sympy as sp\n",
    "import matplotlib\n",
    "import random\n",
    "import matplotlib.pyplot as plt\n",
    "import matplotlib.tri as mtri\n",
    "from matplotlib.patches import Polygon\n",
    "from matplotlib.collections import PatchCollection\n",
    "%matplotlib inline \n",
    "%precision 5"
   ]
  },
  {
   "cell_type": "markdown",
   "metadata": {},
   "source": [
    "## Boundary value problem \n",
    "\n",
    "Consider a square domain $(x,y)\\in \\Omega = [0, 1]\\times [0,1]$. Only dirichlet boundary conditions are considered in this example. At the left boundary consider $\\theta=0$ and at the right side consider $\\theta=1$. On the top and botom sides we have $\\theta=x^2$. There is a source term $s(\\theta) = -6\\theta$, and the conductivity is $k(\\theta)=\\theta)$. The problem is the find $\\theta \\in \\Omega$ such that \n",
    "\n",
    "$k(\\theta) \\nabla_x \\theta + s(\\theta) = 0 \\in \\Omega$ \n",
    "\n",
    "with the conductivity and source terms defined above $k(\\theta) = \\theta, s(\\theta) = -6\\theta$ and with the boundary conditions specified above, i.e. known $\\theta$ on all boundaries $\\partial \\Omega$. \n",
    "\n",
    "### Weak form\n",
    "\n",
    "The weak form of this problem leads to the following integral that needs to be calculated for every element \n",
    "\n",
    "$\\int_{\\Omega^e} \\mathbf{q}\\cdot \\nabla_x w\\,  d\\Omega^e + \\int_{\\Omega^e} s\\, w \\, d\\Omega^e$ \n",
    "\n",
    "where $\\mathbf{q} = -k(\\theta)\\nabla_x \\theta$ is the flux, which depends on the unknown scalar field $\\theta$, and $s(\\theta)$ is the source term, which also depends on the unknown field $\\theta$. The weight function is $w$. \n",
    "\n",
    "### Residual\n",
    "\n",
    "This integral, upon introducing the dicrete weight function $w^h = \\sum N_i^e w_i^e$ and taking the nodal values of the weight function $w_i^e$ out of the integral, leads to the residual vector \n",
    "\n",
    "$R^e_a = \\int_{\\Omega^e} \\mathbf{q}(\\theta^h) \\cdot \\nabla_x N_a^e \\, d\\Omega^e + \\int_{\\Omega^e} s(\\theta^h) N_a^e \\, d\\Omega^e$ \n",
    "\n",
    "for each node $a=1,2,3,4$. \n",
    "\n",
    "### Tangent\n",
    "\n",
    "\n",
    "Linearization of the residual in the direction of the increment $\\Delta \\theta$ and substitution of the discrete increment lead to the tangent matrix $\\mathbf{K}^e$ for the element, which is the $4\\times 4$ matrix needed for the Newton-Raphson iterations as will be seen in this notebook \n",
    "\n",
    "$K_{ab}^e = \\int_{\\Omega^e} \\left(-\\frac{d \\, k(\\theta)}{d\\, \\theta}\\, N_b^e \\, \\nabla_x\\theta \\cdot \\nabla_x N_a^e \\right)d\\Omega^e + \\int_{\\Omega^e} -k(\\theta) \\nabla_x N_b^e \\cdot \\nabla_x N_a^e d\\Omega^e  + \\int_{\\Omega^e} \\left(\\frac{d\\, s(\\theta)}{d\\, \\theta}\\, N_b^e \\, N_a^e \\right) d\\Omega^e $\n",
    "\n",
    "\n",
    "\n",
    " "
   ]
  },
  {
   "cell_type": "markdown",
   "metadata": {},
   "source": [
    "## Mesh \n",
    "\n",
    "Consider a simple mesh made out of 5 quadrilateral elements and 8 nodes. "
   ]
  },
  {
   "cell_type": "code",
   "execution_count": 2,
   "metadata": {},
   "outputs": [],
   "source": [
    "n_node = 8\n",
    "n_elem = 5\n",
    "node_x = np.array([[0.,0.],[0.,1.],[1.,1.],[1.,0.],\n",
    "                   [0.27,0.25],[0.75,0.27],[0.73,0.75],[0.25,0.73]])\n",
    "elements = np.array([[0,3,5,4],[3,2,6,5],[2,1,7,6],[1,0,4,7],[4,5,6,7]])\n",
    "\n",
    "# for the homework the best strategy is to add a mesh for boundary \n",
    "n_boundary_e = 1\n",
    "boundary_elements = np.array([[3,2]])"
   ]
  },
  {
   "cell_type": "code",
   "execution_count": 80,
   "metadata": {},
   "outputs": [
    {
     "data": {
      "text/plain": [
       "<matplotlib.collections.PathCollection at 0x7f9f36e95ca0>"
      ]
     },
     "execution_count": 80,
     "metadata": {},
     "output_type": "execute_result"
    },
    {
     "data": {
      "image/png": "[encoded data removed]",
      "text/plain": [
       "<Figure size 360x360 with 1 Axes>"
      ]
     },
     "metadata": {
      "needs_background": "light"
     },
     "output_type": "display_data"
    }
   ],
   "source": [
    "## PLOT THETA \n",
    "f, (ax1) = plt.subplots(1, 1, sharey=True,figsize=(5,5))\n",
    "ax1.set_xlim([-0.1, 1.1])\n",
    "ax1.set_ylim([-0.1, 1.1])\n",
    "ax1.set_aspect('equal')\n",
    "patches1 = []\n",
    "colors1 = np.zeros((n_elem))\n",
    "for i in range(n_elem):\n",
    "    n1 = elements[i,0]\n",
    "    n2 = elements[i,1]\n",
    "    n3 = elements[i,2]\n",
    "    n4 = elements[i,3]\n",
    "    polygon = Polygon([node_x[n1],node_x[n2],node_x[n3],node_x[n4]], closed=True)\n",
    "    patches1.append(polygon)\n",
    "    colors1[i] = 0.0\n",
    "p1 = PatchCollection(patches1)\n",
    "p1.set_array(colors1)\n",
    "ax1.add_collection(p1)\n",
    "ax1.scatter(node_x[:,0],node_x[:,1])\n",
    "\n"
   ]
  },
  {
   "cell_type": "markdown",
   "metadata": {},
   "source": [
    "## Newton Raphson solution \n",
    "\n",
    "We start with a guess for the solution. Clearly, this guess has to satisfy the essential boundary conditions. \n",
    "For each iteration of the Newton Raphson, the total residual and total tangent are needed. For that, a loop over the elements of the mesh is done. Inside of this loop, the residual and tangent for an individual element is calculated and then *assembled* into the global residual and tangent. The residual and tangent are used to compute the increment. The increment is used to update our guess. The Newton-Loop continues until convergence. "
   ]
  },
  {
   "cell_type": "code",
   "execution_count": 5,
   "metadata": {},
   "outputs": [],
   "source": [
    "# Definition of the shape function and the derivative with respect to parent domain xi\n",
    "\n",
    "def Nvec(xi,eta):\n",
    "    return 0.25*np.array([(1-xi)*(1-eta),(1+xi)*(1-eta),(1+xi)*(1+eta),(1-xi)*(1+eta)])\n",
    "\n",
    "def dNvecdxi(xi,eta):\n",
    "    return 0.25*np.array([[(-1)*(1-eta),(+1)*(1-eta),(+1)*(1+eta),(-1)*(1+eta)],\\\n",
    "                          [(1-xi)*(-1),(1+xi)*(-1),(1+xi)*(+1),(1-xi)*(+1)]])\n",
    "\n",
    "# For the flux use 1D functions \n",
    "def N1D(xi):\n",
    "    return 0.5*np.array([(1-xi),(1+xi)])\n",
    "\n",
    "def dN1Ddxi(xi):\n",
    "    return 0.5*np.array([-1.0,1.0])"
   ]
  },
  {
   "cell_type": "code",
   "execution_count": 6,
   "metadata": {},
   "outputs": [],
   "source": [
    "# First guess for the Newton Raphson algorithm, remember it needs to satisfy the essential boundary conditions \n",
    "# for homework, only essential boundary conditions on the left end\n",
    "node_th = np.zeros((n_node))\n",
    "for ni in range(n_node):\n",
    "    if node_x[ni,0] >0.00001:\n",
    "        node_th[ni] = 1.0 \n",
    "        \n",
    "# create the flux over the nodes, not the best because in this case the bottom and top\n",
    "# are on the boundary with natural boundary conditions but they have zero flux, this\n",
    "# type of array would not work because it would lead non-zero flux on the bottom and top \n",
    "node_qn = np.array([0.0,0.0,-2.0,-2.0,0.0,0.0,0.0,0.0])"
   ]
  },
  {
   "cell_type": "code",
   "execution_count": 7,
   "metadata": {},
   "outputs": [
    {
     "name": "stdout",
     "output_type": "stream",
     "text": [
      "iteration 1\n",
      "residual 3.350617\n",
      "iteration 2\n",
      "residual 0.809665\n",
      "iteration 3\n",
      "residual 0.125524\n",
      "iteration 4\n",
      "residual 0.011850\n",
      "iteration 5\n",
      "residual 0.000178\n",
      "iteration 6\n",
      "residual 0.000000\n"
     ]
    }
   ],
   "source": [
    "\n",
    "\n",
    "#----------------------#\n",
    "# NEWTON LOOP\n",
    "#----------------------#\n",
    "res = 1\n",
    "iter = 0\n",
    "itermax = 20\n",
    "tol = 1e-5\n",
    "while res>tol and iter<itermax:\n",
    "    # INITIALIZE GLOBAL RESIDUAL AND TANGENT\n",
    "    RR = np.zeros((n_node))\n",
    "    KK = np.zeros((n_node,n_node))\n",
    "    #----------------------#\n",
    "    # LOOP OVER ELEMENTS\n",
    "    #----------------------#\n",
    "    for ei in range(n_elem):\n",
    "        # node coordinates \n",
    "        node_ei = elements[ei]\n",
    "        x1e = node_x[node_ei[0]]\n",
    "        x2e = node_x[node_ei[1]]\n",
    "        x3e = node_x[node_ei[2]]\n",
    "        x4e = node_x[node_ei[3]]\n",
    "        # nodal values for the field theta\n",
    "        th1e = node_th[node_ei[0]]\n",
    "        th2e = node_th[node_ei[1]]\n",
    "        th3e = node_th[node_ei[2]]\n",
    "        th4e = node_th[node_ei[3]]\n",
    "        #------------------------------#\n",
    "        # LOOP OVER INTEGRATION POINTS\n",
    "        #------------------------------#\n",
    "        # integration points (using 2x2 Gauss quadrature in the parent domain)\n",
    "        IP_xi = np.array([[-1./np.sqrt(3),-1./np.sqrt(3)],[+1./np.sqrt(3),-1./np.sqrt(3)],\\\n",
    "                              [+1./np.sqrt(3),+1./np.sqrt(3)],[-1./np.sqrt(3),+1./np.sqrt(3)]])\n",
    "        IP_wi = np.array([1.,1.,1.,1.])\n",
    "        # Initialize the ELEMENT residual to a vector of zeros \n",
    "        Re = np.zeros((4)) # note the size of the residual is the number of nodes \n",
    "        # Initialize the ELEMENT tangent to a matrix of zeros \n",
    "        Ke = np.zeros((4,4))\n",
    "        # this is where the actual loop starts \n",
    "        for ip in range(4):\n",
    "            xi  = IP_xi[ip,0]\n",
    "            eta = IP_xi[ip,1]\n",
    "            wip = IP_wi[ip]\n",
    "            # evaluate the isoparametric map \n",
    "            Ns = Nvec(xi,eta)\n",
    "            x = Ns[0]*x1e + Ns[1]*x2e + Ns[2]*x3e + Ns[3]*x4e \n",
    "            # evaluate the Jacobian \n",
    "            dNsdxi = dNvecdxi(xi,eta)\n",
    "            dxdxi = np.outer(x1e,dNsdxi[:,0])+np.outer(x2e,dNsdxi[:,1])+np.outer(x3e,dNsdxi[:,2])+np.outer(x4e,dNsdxi[:,3])\n",
    "            # get gradient of basis function with respect to x using inverse jacobian \n",
    "            JinvT = np.linalg.inv(dxdxi).transpose()\n",
    "            dNsdx = np.dot(JinvT,dNsdxi)\n",
    "            # evaluate the field theta_h at integration point \n",
    "            theta = Ns[0]*th1e + Ns[1]*th2e + Ns[2]*th3e + Ns[3]*th4e \n",
    "            # evaluate the gradient of theta_h with respect to coordinates x \n",
    "            gradx_theta = th1e*dNsdx[:,0]+th2e*dNsdx[:,1]+th3e*dNsdx[:,2]+th4e*dNsdx[:,3]\n",
    "            # evaluate the conductivity \n",
    "            k = theta \n",
    "            # evaluate the source \n",
    "            s = -6.0*theta\n",
    "            #------------------------------#\n",
    "            # INTEGRATE THE RESIDUAL\n",
    "            # for the homework, add flux!! \n",
    "            #------------------------------#\n",
    "            Re[0] +=  wip*np.linalg.det(dxdxi)*(k*np.dot(gradx_theta,dNsdx[:,0]) - s*Ns[0] )\n",
    "            Re[1] +=  wip*np.linalg.det(dxdxi)*(k*np.dot(gradx_theta,dNsdx[:,1]) - s*Ns[1] )\n",
    "            Re[2] +=  wip*np.linalg.det(dxdxi)*(k*np.dot(gradx_theta,dNsdx[:,2]) - s*Ns[2] )\n",
    "            Re[3] +=  wip*np.linalg.det(dxdxi)*(k*np.dot(gradx_theta,dNsdx[:,3]) - s*Ns[3] ) \n",
    "            # for the tangent a couple of derivatives needed first \n",
    "            dkdtheta = 1.0 \n",
    "            dsdtheta = -6.0\n",
    "            #------------------------------#\n",
    "            # INTEGRATE THE TANGENT\n",
    "            #------------------------------#\n",
    "            # easier to do in two for loops, both are over the nodes, remember that the residual \n",
    "            # has four entries because there are four shape functions, which we referred to N_a \n",
    "            # When we did the linearization and plugged in the discrete increment we intriduced\n",
    "            # additional shape functions N_b, where b=1,2,3,4 because there are four nodes \n",
    "            for a in range(4):\n",
    "                for b in range(4):\n",
    "                    Ke[a,b] +=  wip*np.linalg.det(dxdxi)*(dkdtheta*Ns[b]*np.dot(gradx_theta,dNsdx[:,a])\\\n",
    "                                                          +k*np.dot(dNsdx[:,b],dNsdx[:,a]) - dsdtheta*Ns[a]*Ns[b] )\n",
    "        #------------------------------#\n",
    "        # ASSEMBLE INTO GLOBAL RR, KK\n",
    "        #------------------------------#\n",
    "        # Here again it is convenient to have a loop over nodes of the element\n",
    "        for a in range(4):\n",
    "            RR[node_ei[a]] += Re[a]\n",
    "            for b in range(4):\n",
    "                KK[node_ei[a],node_ei[b]] += Ke[a,b]\n",
    "    \n",
    "    #-------------------------------------------#\n",
    "    # Fill in the flux residual \n",
    "    #-------------------------------------------#\n",
    "    # start with initial flux of zeros \n",
    "    RRq = np.zeros((n_node))\n",
    "    for ei in range(n_boundary_e):\n",
    "        # node coordinates for the boundary elements\n",
    "        node_ei = boundary_elements[ei]\n",
    "        x1e = node_x[node_ei[0]]\n",
    "        x2e = node_x[node_ei[1]]\n",
    "        # nodal values for the flux,\n",
    "        # note, this is not optimal, the way I have it right now there is a single\n",
    "        # flux per node, but that would not work in all cases, it works here because\n",
    "        # the only element that Im considering as a boundary element is the right\n",
    "        # if the mesh was fine enough then this would work, but for the current mesh\n",
    "        # the best would probably be to have not a single flux per node but a single\n",
    "        # flux per node per boundary element\n",
    "        q1e = node_qn[node_ei[0]]\n",
    "        q2e = node_qn[node_ei[1]]\n",
    "        # length of the edge \n",
    "        le = np.linalg.norm(x2e-x1e)\n",
    "        #------------------------------#\n",
    "        # LOOP OVER INTEGRATION POINTS\n",
    "        #------------------------------#\n",
    "        # integration points in 1D\n",
    "        IP_xi = np.array([-1./np.sqrt(3),+1./np.sqrt(3)]) \n",
    "        IP_wi = np.array([1.,1.])\n",
    "        # Initialize the ELEMENT residual to a vector of zeros \n",
    "        Req = np.zeros((2)) # note the size of the residual is the number of nodes \n",
    "        for ip in range(2):\n",
    "            xi = IP_xi[ip]\n",
    "            wip = IP_wi[ip]\n",
    "            qn = N1D(xi)[0]*q1e + N1D(xi)[1]*q2e\n",
    "            # the isoparametric map over the edge is in a local \n",
    "            # coordinate system such that sx1e = 0, sx2e = le\n",
    "            # and sx = N1*0 + N2*le = N2*le \n",
    "            sx = N1D(xi)[1]*le\n",
    "            # the corresponding Jacobian \n",
    "            dsxdxi = dN1Ddxi(xi)[1]*le\n",
    "            # the integral \n",
    "            Req[0] += wip*dsxdxi*qn*N1D(xi)[0]\n",
    "            Req[1] += wip*dsxdxi*qn*N1D(xi)[1]\n",
    "        #------------------------------#\n",
    "        # ASSEMBLE INTO GLOBAL RRq\n",
    "        #------------------------------#\n",
    "        RRq[node_ei[0]]+=Req[0]    \n",
    "        RRq[node_ei[1]]+=Req[1]\n",
    "    \n",
    "    #-------------------------------------------#\n",
    "    # PARTITION, ONLY RR FROM NODES WITHOUT EBC\n",
    "    #-------------------------------------------#\n",
    "    RR_dof = RR[2:] + RRq[2:] # ignore the first 2 nodes, i.e. ignore 0,1 \n",
    "    KK_dof = KK[2:,2:] # ignore the corresponding rows and columns in KK \n",
    "    \n",
    "    #------------------------------#\n",
    "    # NEWTON STEP\n",
    "    #------------------------------#\n",
    "    res = np.linalg.norm(RR_dof)\n",
    "    th_incr = np.linalg.solve(KK_dof,RR_dof)\n",
    "    # note, the increment is only for nodes which are not in the EBC \n",
    "    node_th[2:] -= th_incr \n",
    "    iter+=1\n",
    "    print('iteration %i'%iter)\n",
    "    print('residual %f'%res)\n",
    "\n"
   ]
  },
  {
   "cell_type": "markdown",
   "metadata": {},
   "source": [
    "## Plot"
   ]
  },
  {
   "cell_type": "code",
   "execution_count": 8,
   "metadata": {},
   "outputs": [
    {
     "data": {
      "text/plain": [
       "<matplotlib.colorbar.Colorbar at 0x7fb74dd157c0>"
      ]
     },
     "execution_count": 8,
     "metadata": {},
     "output_type": "execute_result"
    },
    {
     "data": {
      "image/png": "[encoded data removed]",
      "text/plain": [
       "<Figure size 360x360 with 2 Axes>"
      ]
     },
     "metadata": {
      "needs_background": "light"
     },
     "output_type": "display_data"
    }
   ],
   "source": [
    "f, (ax1) = plt.subplots(1, 1, sharey=True,figsize=(5,5))\n",
    "ax1.set_xlim([-0.1, 1.1])\n",
    "ax1.set_ylim([-0.1, 1.1])\n",
    "ax1.set_aspect('equal')\n",
    "patches1 = []\n",
    "colors1 = np.zeros((n_elem))\n",
    "theta_vec_e = []\n",
    "x_vec_e = []\n",
    "y_vec_e = []\n",
    "for i in range(n_elem):\n",
    "    n1 = elements[i,0]\n",
    "    n2 = elements[i,1]\n",
    "    n3 = elements[i,2]\n",
    "    n4 = elements[i,3]\n",
    "    x1e = node_x[n1]\n",
    "    x2e = node_x[n2]\n",
    "    x3e = node_x[n3]\n",
    "    x4e = node_x[n4]\n",
    "    th1e = node_th[n1]\n",
    "    th2e = node_th[n2]\n",
    "    th3e = node_th[n3]\n",
    "    th4e = node_th[n4]\n",
    "    polygon = Polygon([node_x[n1],node_x[n2],node_x[n3],node_x[n4]], closed=True)\n",
    "    patches1.append(polygon)\n",
    "    colors1[i] = 0.0\n",
    "    # create a scatter plot by sampling over the parent domain \n",
    "    theta_vec = np.zeros((900))\n",
    "    x_vec = np.zeros((900,2))\n",
    "    for ii in range(30):\n",
    "        for jj in range(30):\n",
    "            xi = -1 + ii/29.*2 \n",
    "            eta = -1 + jj/29.*2 \n",
    "            Ns = Nvec(xi,eta)\n",
    "            x_vec[ii*30+jj] = Ns[0]*x1e + Ns[1]*x2e + Ns[2]*x3e + Ns[3]*x4e \n",
    "            theta_vec[ii*30+jj]= Ns[0]*th1e + Ns[1]*th2e + Ns[2]*th3e + Ns[3]*th4e \n",
    "    theta_vec_e.append(theta_vec)\n",
    "    x_vec_e.append(x_vec[:,0])\n",
    "    y_vec_e.append(x_vec[:,1])\n",
    "\n",
    "\n",
    "p1 = PatchCollection(patches1)\n",
    "p1.set_array(colors1)\n",
    "ax1.add_collection(p1)\n",
    "\n",
    "x_vec_all = np.stack((x_vec_e[0],x_vec_e[1],x_vec_e[2],x_vec_e[3],x_vec_e[4]))\n",
    "y_vec_all = np.stack((y_vec_e[0],y_vec_e[1],y_vec_e[2],y_vec_e[3],y_vec_e[4]))\n",
    "th_vec_all = np.stack((theta_vec_e[0],theta_vec_e[1],theta_vec_e[2],theta_vec_e[3],theta_vec_e[4]))\n",
    "\n",
    "sc = ax1.scatter(x_vec_all,y_vec_all,c=th_vec_all,s=30)\n",
    "plt.colorbar(sc,ax=ax1)"
   ]
  },
  {
   "cell_type": "code",
   "execution_count": null,
   "metadata": {},
   "outputs": [],
   "source": []
  },
  {
   "cell_type": "code",
   "execution_count": null,
   "metadata": {},
   "outputs": [],
   "source": []
  }
 ],
 "metadata": {
  "kernelspec": {
   "display_name": "Python 3",
   "language": "python",
   "name": "python3"
  },
  "language_info": {
   "codemirror_mode": {
    "name": "ipython",
    "version": 3
   },
   "file_extension": ".py",
   "mimetype": "text/x-python",
   "name": "python",
   "nbconvert_exporter": "python",
   "pygments_lexer": "ipython3",
   "version": "3.8.5"
  }
 },
 "nbformat": 4,
 "nbformat_minor": 4
}
