{
 "cells": [
  {
   "cell_type": "code",
   "execution_count": 1,
   "metadata": {},
   "outputs": [],
   "source": [
    "import numpy as np\n",
    "from numpy import sqrt, cos, sin\n",
    "import matplotlib\n",
    "import matplotlib.pyplot as plt"
   ]
  },
  {
   "cell_type": "markdown",
   "metadata": {},
   "source": [
    "# Solution of nonlinear system of equations \n"
   ]
  },
  {
   "cell_type": "markdown",
   "metadata": {},
   "source": [
    "Consider polynomials for a moment. You are probably already aware that there is no general algebraic formula for the roots of fifth degree polynomials or above. In fact you might have come across the Newton-Raphson algorithm precisely in this context, that is, obtaining the zeros of higher order polynomials numerically. If you have, then this notebook won't be too alien. In the previous python notebook and video 1 (nonlinearities in solid mechanics) we already talked about expanding the nonlinear function of a problem using Taylor series to end up with a polynomial of manageable order (for which we could solve exactly). However, many times we might want to solve the original problem directly. Because the solution can have no algebraic solution, we have to do numerically. The Newton-Raphson algorithm was already implemented in the previous Python notebook to compute the *exact* solution, so you can go back and check those solutions as well after doing the activities of this notebook. \n",
    "\n",
    "Problem for a function of a single variable: find $x$ such that $f(x)=0$\n",
    "\n",
    "The Newton-Raphson algorithm is simply to start with some guess $x^{(0)}$ and then do \n",
    "\n",
    "$$x^{(i+1)}=x^{(i)} - \\frac{f(x^{(i)})}{f'(x^{(i)})}$$\n",
    "\n",
    "where $f'(x)$ is the derivative of $f$ with respect to $x$. "
   ]
  },
  {
   "cell_type": "markdown",
   "metadata": {},
   "source": [
    "## Example 1\n",
    "\n",
    "Find the roots of \n",
    "\n",
    "$ 4x^5 +3x^4 + 2x^3 + x^2 -1 = 0$"
   ]
  },
  {
   "cell_type": "code",
   "execution_count": 2,
   "metadata": {},
   "outputs": [],
   "source": [
    "## Defining the function and it's derivative \n",
    "# NOTE: that's all we need to be able to do, evaluate the function and its derivative! \n",
    "\n",
    "def f(x): \n",
    "    return 4*x**5 + 3*x**4 + 2*x**3 + x**2 - 1 \n",
    "\n",
    "def fprime(x):\n",
    "    return 20*x**4 + 12*x**3 + 6*x**2 + 2*x \n",
    "\n"
   ]
  },
  {
   "cell_type": "code",
   "execution_count": 33,
   "metadata": {},
   "outputs": [
    {
     "name": "stdout",
     "output_type": "stream",
     "text": [
      "iter =  1 res =  2.7321711328125\n",
      "iter =  2 res =  0.6974499167192494\n",
      "iter =  3 res =  0.1061922799480044\n",
      "iter =  4 res =  0.004006006811365648\n",
      "iter =  5 res =  6.389191156586094e-06\n",
      "iter =  6 res =  1.6329160246186802e-11\n",
      "\n",
      "FINAL value of f(x) was  1.6329160246186802e-11  at x =  0.5328203015411785\n",
      "the solution converged! (up to desired tolerance)\n"
     ]
    }
   ],
   "source": [
    "## Newton raphson, \n",
    "# start with some guess \n",
    "x_i = 1\n",
    "# this array is to store all the steps of the NR algorithm \n",
    "x_sol = [x_i]\n",
    "# LOOP until convergence or max number of iterations has been reached \n",
    "# evaluate the function to see how far we are from the solution \n",
    "res = f(x_i) \n",
    "# tolerance for convergence \n",
    "tol = 1e-7\n",
    "# max number of iterations and iteration counter\n",
    "iter = 0\n",
    "max_iter = 20\n",
    "# now the loop \n",
    "while np.abs(res)>tol and iter<max_iter:\n",
    "    # calcualte the new value for x\n",
    "    x_i1 = x_i - f(x_i)/fprime(x_i)\n",
    "    # compute the new value of the function to see how close we are to f==0\n",
    "    res = f(x_i1)\n",
    "    # reset the variable x_i for the next iteration \n",
    "    x_i = x_i1 \n",
    "    # increment of iterations \n",
    "    iter += 1 \n",
    "    # print so you can see how the residual goes down with every iteration \n",
    "    print('iter = ',iter,'res = ',res)\n",
    "    # store the solution so we can plot the path of the solution later \n",
    "    x_sol.append(x_i)\n",
    "print('\\nFINAL value of f(x) was ',res, ' at x = ',x_i)\n",
    "if iter<max_iter:\n",
    "    print('the solution converged! (up to desired tolerance)')"
   ]
  },
  {
   "cell_type": "code",
   "execution_count": 34,
   "metadata": {},
   "outputs": [
    {
     "data": {
      "text/plain": [
       "<matplotlib.collections.PathCollection at 0x7fa3583df490>"
      ]
     },
     "execution_count": 34,
     "metadata": {},
     "output_type": "execute_result"
    },
    {
     "data": {
      "image/png": "[encoded data removed]",
      "text/plain": [
       "<Figure size 432x288 with 1 Axes>"
      ]
     },
     "metadata": {
      "needs_background": "light"
     },
     "output_type": "display_data"
    }
   ],
   "source": [
    "# plot just to get an idea\n",
    "x_ls = np.linspace(-1.3,1.3,200)\n",
    "font = {'family' : 'Arial',\n",
    "        'size'   : 18}\n",
    "matplotlib.rc('font', **font)\n",
    "# plotting the function\n",
    "plt.plot(x_ls,f(x_ls),color='black',linewidth=2)\n",
    "# plot the y=0 line\n",
    "plt.plot(x_ls,np.zeros((200)),color='black',linestyle='dashed')\n",
    "# plot the sequence of steps of the NR\n",
    "plt.plot(x_sol,f(np.asarray(x_sol)),color='red')\n",
    "plt.scatter(x_sol,f(np.asarray(x_sol)),color='red')\n",
    "#plt.savefig('L02E1r.png')"
   ]
  },
  {
   "cell_type": "markdown",
   "metadata": {},
   "source": [
    "**Activity** \n",
    "\n",
    "Repeat the evaluation of the algorithm in the example, but for different initial guesses\n",
    "* Do you always get to the solution regardless of where you start? I recommend trying the initial points [-0.8,-0.3,0.2, 0.7]\n",
    "* How many iterations does it take to converge as you start with guesses that are farther from the actual zero of the polynomial? \n",
    "* Try with the initial guess $x^{(0)}=0$, what happens? "
   ]
  },
  {
   "cell_type": "code",
   "execution_count": null,
   "metadata": {},
   "outputs": [],
   "source": []
  },
  {
   "cell_type": "markdown",
   "metadata": {},
   "source": [
    "## Example 2\n",
    "\n",
    "Solve: \n",
    "\n",
    "$ R_1(x_1,x_2) \\equiv 2x_1^2x_2 - 2x_1x_2^2 + x_1x_2 - 1 = 0$\n",
    "\n",
    "$ R_2(x_1, x_2) \\equiv x_1 - x_2 = 0$\n",
    "\n",
    "The algorithm is described in the video. Briefly, now we have a vector of unknowns, in this case $\\mathbf{x}=[x_1,x_2]$, and we have a vector of equations we want to solve $\\mathbf{R}(\\mathbf{x})$. We have some initial guess $mathbf{x}^{(0)} = [x_1^{(0)},x_2^{(0)}]$, the Newton Raphson algorithm is \n",
    "\n",
    "$$\\mathbf{x}^{(i+1)} = \\mathbf{x}^{(i)} - \\mathbf{K}^{-1} \\mathbf{R}(\\mathbf{x}^{(i)})$$ \n",
    "\n",
    "where the matrix $\\mathbf{K}^{-1}$ is the inverse of the tangent matrix $\\mathbf{K}$. The tangent matrix is basically the gradient of the residual function with respect to the vector of variables \n",
    "\n",
    "$$\\mathbf{K} = \\frac{\\partial \\mathbf{R}(\\mathbf{x})}{\\partial \\mathbf{x}}$$ \n",
    "\n",
    "Note that if we have a vecto of $m$ unknowns and a corresponding system of $m$ equations, then the matrix $\\mathbf{K}$ is $m\\times m$. In this case, the matrix is $2\\times 2$ and we can expand a little \n",
    "\n",
    "$$\n",
    "\\mathbf{K} = \\begin{pmatrix}\\frac{\\partial R_1(x_1,x_2)}{\\partial x_1}&\\frac{\\partial R_1(x_1,x_2)}{\\partial x_2}\\\\ \\frac{\\partial R_2(x_1,x_2)}{\\partial x_1}&\\frac{\\partial R_2(x_1,x_2)}{\\partial x_2} \\end{pmatrix}\n",
    "$$\n",
    "\n",
    "In this particular case it is easy to take the derivatives of the polynomials and explicitly write \n",
    "\n",
    "$$\n",
    "\\mathbf{K} = \\begin{pmatrix} 4x_1 x_2 -2x_2^2+x_2 & 2x_1^2-4x_1 x_2 + x_1\\\\ 1&-1 \\end{pmatrix}\n",
    "$$\n",
    "\n",
    "Note again, as before, all we need to be able to do is evaluate the function and the tange matrix, and then just let the algorithm run and hopefully it will work :) "
   ]
  },
  {
   "cell_type": "code",
   "execution_count": 13,
   "metadata": {},
   "outputs": [],
   "source": [
    "def res(x):\n",
    "    res1 = 2*x[0]**2*x[1] - 2*x[0]*x[1]**2+x[0]*x[1]-1\n",
    "    res2 = x[0]-x[1]\n",
    "    \n",
    "    return np.array([res1,res2])\n",
    "\n",
    "def dres(x):\n",
    "    dres1dx1 = 4*x[0]*x[1] - 2*x[1]**2+x[1]\n",
    "    dres1dx2 = 2*x[0]**2 - 4*x[0]*x[1]+x[0]\n",
    "    dres2dx1 = 1\n",
    "    dres2dx2 = -1\n",
    "    return np.array([[dres1dx1,dres1dx2],[dres2dx1,dres2dx2]])"
   ]
  },
  {
   "cell_type": "code",
   "execution_count": 14,
   "metadata": {},
   "outputs": [
    {
     "data": {
      "text/plain": [
       "<matplotlib.colorbar.Colorbar at 0x7f9a4ed120d0>"
      ]
     },
     "execution_count": 14,
     "metadata": {},
     "output_type": "execute_result"
    },
    {
     "data": {
      "image/png": "[encoded data removed]",
      "text/plain": [
       "<Figure size 864x288 with 4 Axes>"
      ]
     },
     "metadata": {
      "needs_background": "light"
     },
     "output_type": "display_data"
    }
   ],
   "source": [
    "# plot just to get an idea \n",
    "\n",
    "x1_ls = np.linspace(-5,5,50)\n",
    "x2_ls = np.linspace(-5,5,50)\n",
    "x1_mg = np.zeros((50,50))\n",
    "x2_mg = np.zeros((50,50))\n",
    "res1_mg = np.zeros((50,50))\n",
    "res2_mg = np.zeros((50,50))\n",
    "for i in range(50):\n",
    "    for j in range(50):\n",
    "        x1_mg[i,j] = x1_ls[i]\n",
    "        x2_mg[i,j] = x2_ls[j]\n",
    "        res1_mg[i,j] = res([x1_ls[i],x2_ls[j]])[0]\n",
    "        res2_mg[i,j] = res([x1_ls[i],x2_ls[j]])[1]\n",
    "\n",
    "fig, _axs = plt.subplots(nrows=1, ncols=2,figsize=(12,4))\n",
    "cs1 = _axs[0].contourf(x1_mg,x2_mg,res1_mg)\n",
    "cs2 = _axs[1].contourf(x1_mg,x2_mg,res2_mg)\n",
    "fig.colorbar(cs1, ax=_axs[0])\n",
    "fig.colorbar(cs2, ax=_axs[1])\n",
    "\n",
    "#plt.savefig('L2E02contour.png')"
   ]
  },
  {
   "cell_type": "code",
   "execution_count": 23,
   "metadata": {},
   "outputs": [
    {
     "name": "stdout",
     "output_type": "stream",
     "text": [
      "Iterations: 4\n",
      "solution, x=1.000076,1.000076 \n"
     ]
    }
   ],
   "source": [
    "# Newton Raphson, start at 0.2,0.5 \n",
    "#x_sol = np.array([0.2,0.5])\n",
    "x_sol = np.array([2.5,2.0])\n",
    "tol = 1e-3\n",
    "itermax=100\n",
    "iter=0\n",
    "x1_iter = [x_sol[0]]\n",
    "x2_iter = [x_sol[1]]\n",
    "while np.linalg.norm(res(x_sol))>tol and iter<itermax:\n",
    "    x_sol -= np.linalg.solve(dres(x_sol),res(x_sol))\n",
    "    x1_iter.append(x_sol[0])\n",
    "    x2_iter.append(x_sol[1])\n",
    "    iter+=1\n",
    "print('Iterations: %i'%(iter))\n",
    "print('solution, x=%f,%f '%(x_sol[0],x_sol[1]))"
   ]
  },
  {
   "cell_type": "code",
   "execution_count": 27,
   "metadata": {},
   "outputs": [
    {
     "data": {
      "image/png": "[encoded data removed]",
      "text/plain": [
       "<Figure size 864x288 with 4 Axes>"
      ]
     },
     "metadata": {
      "needs_background": "light"
     },
     "output_type": "display_data"
    }
   ],
   "source": [
    "# plot sequence of points \n",
    "x1_ls = np.linspace(-3.6,3.6,50)\n",
    "x2_ls = np.linspace(-3.6,3.6,50)\n",
    "x1_mg = np.zeros((50,50))\n",
    "x2_mg = np.zeros((50,50))\n",
    "res1_mg = np.zeros((50,50))\n",
    "res2_mg = np.zeros((50,50))\n",
    "for i in range(50):\n",
    "    for j in range(50):\n",
    "        x1_mg[i,j] = x1_ls[i]\n",
    "        x2_mg[i,j] = x2_ls[j]\n",
    "        res1_mg[i,j] = res([x1_ls[i],x2_ls[j]])[0]\n",
    "        res2_mg[i,j] = res([x1_ls[i],x2_ls[j]])[1]\n",
    "\n",
    "fig, axs = plt.subplots(nrows=1, ncols=2,figsize=(12,4))\n",
    "cs1 = axs[0].contourf(x1_mg,x2_mg,res1_mg,levels=np.linspace(-50,50,25))\n",
    "# Plot up to point 'i' in the iterations \n",
    "i=4\n",
    "axs[0].plot(x1_iter[:i],x2_iter[:i],color='grey')\n",
    "axs[0].scatter(x1_iter[:i],x2_iter[:i],color='white')\n",
    "cs2 = axs[1].contourf(x1_mg,x2_mg,res2_mg)\n",
    "axs[1].plot(x1_iter[:i],x2_iter[:i],color='grey')\n",
    "axs[1].scatter(x1_iter[:i],x2_iter[:i],color='white')\n",
    "fig.colorbar(cs1, ax=axs[0])\n",
    "fig.colorbar(cs2, ax=axs[1])\n",
    "plt.savefig('images/L02E02NR_i4.png')"
   ]
  },
  {
   "cell_type": "code",
   "execution_count": null,
   "metadata": {},
   "outputs": [],
   "source": []
  },
  {
   "cell_type": "code",
   "execution_count": null,
   "metadata": {},
   "outputs": [],
   "source": []
  }
 ],
 "metadata": {
  "kernelspec": {
   "display_name": "Python 3",
   "language": "python",
   "name": "python3"
  },
  "language_info": {
   "codemirror_mode": {
    "name": "ipython",
    "version": 3
   },
   "file_extension": ".py",
   "mimetype": "text/x-python",
   "name": "python",
   "nbconvert_exporter": "python",
   "pygments_lexer": "ipython3",
   "version": "3.8.5"
  }
 },
 "nbformat": 4,
 "nbformat_minor": 4
}
