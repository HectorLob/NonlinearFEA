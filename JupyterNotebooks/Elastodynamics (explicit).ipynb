{
 "cells": [
  {
   "cell_type": "code",
   "execution_count": 1,
   "metadata": {},
   "outputs": [
    {
     "data": {
      "text/plain": [
       "'%.5f'"
      ]
     },
     "execution_count": 1,
     "metadata": {},
     "output_type": "execute_result"
    }
   ],
   "source": [
    "import numpy as np\n",
    "import sympy as sp\n",
    "import matplotlib\n",
    "import random\n",
    "import matplotlib.pyplot as plt\n",
    "import matplotlib.tri as mtri\n",
    "from matplotlib.patches import Polygon\n",
    "from matplotlib.collections import PatchCollection\n",
    "%matplotlib inline \n",
    "%precision 5"
   ]
  },
  {
   "cell_type": "markdown",
   "metadata": {},
   "source": [
    "# Residual and Tangent for Linear Momentum Balance\n",
    "\n",
    "The linear momentum balance problem can be formulated in terms of tensors that are associated with the reference or the deformed coordinates. They are equivalent, but some computations are easier in the reference and some computations are easier in the deformed configuration expressions. Overall, the discrete equations in the deformed configurations are more sparse and therefore more efficient numerically. \n",
    "\n",
    "The residual for the weak form in the reference configuration was achieved in previous lectures by discretizing \n",
    "\n",
    "$ \\int_{B^e}\\mathbf{ \\sigma} : \\delta \\mathbf{d}$ \n",
    "\n",
    "First, using the discrete nodal positions from the reference and deformed configurations $\\mathbf{X}_i^e$ and $\\mathbf{x}_i^e$ respectively, we can compute the discrete deformation gradient $\\mathbf{F}$ at any point inside of the element and compute the stress $\\mathbf{\\sigma}$. Then, by introducing the discrete weight function values or nodal variations $\\delta \\mathbf{u}_i^e$ and taking these outside of the integral leaving behind the shape functins and gradients, we arrive at the corresponding expression for the element residual $\\mathbf{R}^e$. \n",
    "\n",
    "For the tangent we need the linearization of the weak form. In the current configuration the linearization of the equations is (see also Wriggers pp 137)\n",
    "\n",
    "$ \\int_{B^e} \\mathbf{\\sigma}: \\nabla (\\Delta \\mathbf{u})^T \\nabla \\delta \\mathbf{u} + \\int_{B^e} \\Delta \\mathbf{\\epsilon}: \\mathbf{c}:\\delta \\mathbf{d}$ \n",
    "\n",
    "Introducing the discretizations $\\delta \\mathbf{u} = \\sum N_i \\delta \\mathbf{u}_i^e$ and $\\Delta \\mathbf{u} = \\sum N_i \\Delta \\mathbf{u}_i^e$ and taking the noda values $\\delta \\mathbf{u}_i^e$ and $\\Delta \\mathbf{u}_i^e$ outside of the integral one is left with the element tangent matrix $\\mathbf{K}^e$\n",
    "\n",
    "In order to avoid dealing with the fourth order tensor $\\mathbf{c}$, an alternative is to use Voigt notation to compute $\\Delta \\mathbf{\\epsilon}: \\mathbf{c}:\\nabla \\delta \\mathbf{d} = (\\Delta \\mathbf{\\epsilon})_{voig}^T\\mathbf{D} \\cdot(\\delta \\mathbf{d})_{voigt}$ with $\\mathbf{D}$ the $6\\times6$ matrix (in 3D) which is the Voigt notation equivalent of the fourth order tensor $\\mathbf{c}$. \n",
    "\n",
    "## Solution of a simple problem \n",
    "\n",
    "To showcase the calculation of the element residual and tangent and the solution of a simple problem, in the following we solve the problem of a square domain subject to Dirichlet boundary conditions of a strip biaxial test. The mesh consists of only 5 elements and 8 nodes. All the displacement on the boundaries will be prescribed and the goal is to solve for the displacement of the internal nodes. The material will be the Neo-Hookean material for plane stress \n",
    "\n",
    "$\\mathbf{\\sigma} = -p \\mathbf{I} + 2C_1 \\mathbf{b}$ \n",
    "\n",
    "where $p=2C_1J^{-2}$ and $J$ is the determinant of the two-dimensional deformation gradient $\\mathbf{F}$. The corresponding elasticity tensor is \n",
    "\n",
    "$\\mathbf{c} = 2p \\mathbf{I}\\otimes \\mathbf{I} + 2p\\mathbf{i}$\n",
    "\n",
    "where $\\mathbf{i}$ is the fourth order identity. The voigt notation for this tensor is just a $3\\times3$ matrix\n",
    "\n",
    "$\\mathbf{D} = \\begin{array}{ccc}4p&2p&0\\\\2p&4p&0\\\\0&0&2p \\end{array}$"
   ]
  },
  {
   "cell_type": "markdown",
   "metadata": {},
   "source": [
    "## Elastodynamics \n",
    "\n",
    "The strong form has an addiitonal inertia term, such that the strong form is \n",
    "\n",
    "$$\\nabla \\cdot \\sigma + \\rho \\mathbf{b} = \\rho \\mathbf{a}$$\n",
    "\n",
    "with $\\mathbf{b}$ a force per unit mass, $\\rho$ the density of the material in the deformed configuration, and $\\mathbf{a}$ the acceleration. The weak form has the usual stress term \n",
    "\n",
    "$ \\int_{B^e}\\mathbf{ \\sigma} : \\delta \\mathbf{d}$ \n",
    "\n",
    "and the usual weak form of the body force is \n",
    "\n",
    "$ \\int_{B^e}\\mathbf{b} : \\delta \\mathbf{v}$ \n",
    "\n",
    "but now there is an additional component to the weak form \n",
    "\n",
    "$ \\int_{B^e}\\mathbf{a} \\cdot \\delta \\mathbf{v}$ \n",
    "\n",
    "where $\\delta \\mathbf{v}$ is still an arbitrary variation that vanishes at the boundary with prescribed displacements, and $\\mathbf{a}$ is an additional unknown. Clearly the acceleration $\\mathbf{a}$ is not independent of the displacement, rather, it comes from differentiating the displacements in time. Thus, the components of the weak form above entail not only continuous field in space but also in time. When we introduce the finite elements we are discretizing in space, and a discretization scheme in time is also needed. Depending on this choice, different schemes for elastodynamics can be achieved. The simplest are explicit time integration schemes. The explicit time integration proposed in Wriggers Ch. 6 will be followed here. See also lectures notes. \n",
    "\n",
    "$\\sum \\sum \\int_{B^e} (N_i \\mathbf{a}_i) \\cdot (N_j \\delta \\mathbf{v}_j)$ \n",
    "\n",
    "$\\sum \\sum \\mathbf{a}_i \\cdot (\\int_{B^e} N_i  N_j \\mathbf{I} ) \\cdot\\mathbf{v}_j $ \n",
    "\n",
    "BE CAREFUL\n",
    "\n",
    "$(\\int_{B^e} N_i  N_j \\mathbf{I} )$"
   ]
  },
  {
   "cell_type": "code",
   "execution_count": 2,
   "metadata": {},
   "outputs": [],
   "source": [
    "n_node = 8\n",
    "n_elem = 5\n",
    "node_X = np.array([[0.,0.],[1.,0.],[1.,1.],[0.,1.],\n",
    "                   [0.27,0.25],[0.75,0.27],[0.73,0.75],[0.25,0.73]])\n",
    "elements = np.array([[0,1,5,4],[1,2,6,5],[2,3,7,6],[3,0,4,7],[4,5,6,7]])\n"
   ]
  },
  {
   "cell_type": "code",
   "execution_count": 9,
   "metadata": {},
   "outputs": [],
   "source": [
    "# READ THE MESH==========================================\n",
    "# reading the new mesh file \n",
    "meshfile = open(\"Mesh.txt\",'r').readlines()\n",
    "n_node = int(meshfile[1])\n",
    "node_X = np.zeros((n_node,2))\n",
    "for i in range(n_node):\n",
    "    aux = meshfile[2+i].split()\n",
    "    node_X[i,0] = float(aux[0])\n",
    "    node_X[i,1] = float(aux[1])\n",
    "n_elem = int(meshfile[3+n_node])\n",
    "elements = np.zeros((n_elem,4),dtype=int)\n",
    "for i in range(n_elem):\n",
    "    aux = meshfile[4+n_node+i].split()\n",
    "    elements[i,0] = int(aux[0])\n",
    "    elements[i,1] = int(aux[1])\n",
    "    elements[i,2] = int(aux[2])\n",
    "    elements[i,3] = int(aux[3])\n",
    "n_boundary_n = int(meshfile[5+n_node+n_elem])\n",
    "boundary_n = np.zeros((n_boundary_n),dtype=int)\n",
    "for i in range(n_boundary_n):\n",
    "    aux = int(meshfile[6+n_node+n_elem+i])\n",
    "    boundary_n[i] = aux"
   ]
  },
  {
   "cell_type": "code",
   "execution_count": 92,
   "metadata": {},
   "outputs": [
    {
     "data": {
      "text/plain": [
       "<matplotlib.collections.PatchCollection at 0x7fbd14693d30>"
      ]
     },
     "execution_count": 92,
     "metadata": {},
     "output_type": "execute_result"
    },
    {
     "data": {
      "image/png": "[encoded data removed]",
      "text/plain": [
       "<Figure size 1440x2880 with 1 Axes>"
      ]
     },
     "metadata": {
      "needs_background": "light"
     },
     "output_type": "display_data"
    }
   ],
   "source": [
    "# plot mesh to check\n",
    "## Plot the mesh \n",
    "fig, ax = plt.subplots(figsize=(20,40))\n",
    "ax.set_xlim([-1, 40])\n",
    "ax.set_ylim([-1, 2.5])\n",
    "ax.set_aspect('equal')\n",
    "patches = []\n",
    "#viridis = matplotlib.cm.get_cmap('viridis', 50)\n",
    "colors = np.zeros((n_elem))\n",
    "for i in range(n_elem):\n",
    "    n1 = elements[i,0]\n",
    "    n2 = elements[i,1]\n",
    "    n3 = elements[i,2]\n",
    "    n4 = elements[i,3]\n",
    "    polygon = Polygon([node_X[n1],node_X[n2],node_X[n3],node_X[n4]], closed=True)\n",
    "    patches.append(polygon)\n",
    "    colors[i] = 100.\n",
    "p = PatchCollection(patches)\n",
    "p.set_array(colors)\n",
    "ax.add_collection(p)"
   ]
  },
  {
   "cell_type": "code",
   "execution_count": 4,
   "metadata": {},
   "outputs": [],
   "source": [
    "# Shape functions and derivatives \n",
    "\n",
    "def Nvec(xi,eta):\n",
    "    return 0.25*np.array([(1-xi)*(1-eta),(1+xi)*(1-eta),(1+xi)*(1+eta),(1-xi)*(1+eta)])\n",
    "\n",
    "def dNvecdxi(xi,eta):\n",
    "    return 0.25*np.array([[(-1)*(1-eta),(+1)*(1-eta),(+1)*(1+eta),(-1)*(1+eta)],\\\n",
    "                          [(1-xi)*(-1),(1+xi)*(-1),(1+xi)*(+1),(1-xi)*(+1)]])"
   ]
  },
  {
   "cell_type": "markdown",
   "metadata": {},
   "source": [
    "## Functions to compute the element residual and mass matrix\n"
   ]
  },
  {
   "cell_type": "code",
   "execution_count": 83,
   "metadata": {},
   "outputs": [],
   "source": [
    "# compute mass matrix \n",
    "def assembleMM():\n",
    "    MM = np.zeros((n_node*2,n_node*2))\n",
    "    # loop over elements\n",
    "    for ei in range(n_elem): \n",
    "        # initialize the mass matrix for this element\n",
    "        Me = np.zeros((8,8))\n",
    "        # nodes that make up this element \n",
    "        node_ei = elements[ei]\n",
    "        # reference coordinates of the nodes making up this element (init to zero, fill in a loop)\n",
    "        node_X_ei = np.zeros((4,2))\n",
    "        # deformed coordinates of the nodes making up this element (init to zero, fill in a loop)\n",
    "        node_x_ei = np.zeros((4,2))\n",
    "        for ni in range(4):\n",
    "            node_X_ei[ni] = node_X[node_ei[ni]]\n",
    "            node_x_ei[ni] = node_x[node_ei[ni]]\n",
    "\n",
    "        # also, do a proper integration with four integration points \n",
    "        # Loop over integration points\n",
    "        # location and weight of integration points \n",
    "        IP_xi = np.array([[-1./np.sqrt(3),-1./np.sqrt(3)],[+1./np.sqrt(3),-1./np.sqrt(3)],\\\n",
    "                          [+1./np.sqrt(3),+1./np.sqrt(3)],[-1./np.sqrt(3),+1./np.sqrt(3)]])\n",
    "        IP_wi = np.array([1.,1.,1.,1.])\n",
    "        for ip in range(4):\n",
    "            xi  = IP_xi[ip,0]\n",
    "            eta = IP_xi[ip,1]\n",
    "            wi = IP_wi[ip]\n",
    "            # eval shape functions \n",
    "            Ns = Nvec(xi,eta)\n",
    "            # eval the isoparametric map for the reference and deformed points corresponding to xi,eta = 0\n",
    "            X = np.zeros((2))\n",
    "            x = np.zeros((2))\n",
    "            for ni in range(4):\n",
    "                X += Ns[ni]*node_X_ei[ni]\n",
    "                x += Ns[ni]*node_x_ei[ni]\n",
    "\n",
    "            # evaluate the Jacobians, first derivative of shape functions with respect to xi space then Jacobians \n",
    "            dNsdxi = dNvecdxi(xi,eta)\n",
    "            dXdxi = np.zeros((2,2))\n",
    "            dxdxi = np.zeros((2,2))\n",
    "            for ni in range(4):\n",
    "                dXdxi += np.outer(node_X_ei[ni],dNsdxi[:,ni])\n",
    "                dxdxi += np.outer(node_x_ei[ni],dNsdxi[:,ni])\n",
    "                \n",
    "            # get gradient of basis function with respect to X using inverse jacobian \n",
    "            JinvT = np.linalg.inv(dXdxi).transpose()\n",
    "            dNsdX = np.dot(JinvT,dNsdxi)\n",
    "\n",
    "            # get gradient of basis function with respect to x using inverse jacobian, the other one \n",
    "            jinvT = np.linalg.inv(dxdxi).transpose()\n",
    "            dNsdx = np.dot(jinvT,dNsdxi)\n",
    "\n",
    "            # get the deformation gradient \n",
    "            F = np.zeros((2,2))\n",
    "            for ni in range(4):\n",
    "                F += np.outer(node_x_ei[ni],dNsdX[:,ni])\n",
    "            detF = np.linalg.det(F)\n",
    "            # deformed thickness\n",
    "            h0 = 1.0 #mm\n",
    "            h = (1./detF)*h0\n",
    "            rho = 1e-3 # tonne/mm^3 \n",
    "            for ni in range(4):\n",
    "                for ci in range(2):\n",
    "                    for nj in range(4):\n",
    "                        for cj in range(2):\n",
    "                            Me[ni*2+ci,nj*2+cj] += wi*np.linalg.det(dxdxi)*rho*Ns[ni]*Ns[nj]*np.eye(2)[ci,cj]*h\n",
    "                            # global one \n",
    "                            MM[node_ei[ni]*2+ci,node_ei[nj]*2+cj] += wi*np.linalg.det(dxdxi)*rho*Ns[ni]*Ns[nj]*np.eye(2)[ci,cj]*h\n",
    "\n",
    "                        \n",
    "    return MM"
   ]
  },
  {
   "cell_type": "code",
   "execution_count": 84,
   "metadata": {},
   "outputs": [],
   "source": [
    "# putting it inside a function\n",
    "def assembleRR():\n",
    "    # assemble total residual \n",
    "    RR = np.zeros((2*n_node))\n",
    "    # assemble the total tangent \n",
    "    KK = np.zeros((n_node*2,n_node*2))\n",
    "    # loop over elements\n",
    "    for ei in range(n_elem): \n",
    "        # initialize the residual for this element\n",
    "        Re = np.zeros((8))\n",
    "        # initialize the tangent for this element\n",
    "        Ke = np.zeros((8,8))\n",
    "\n",
    "        # nodes that make up this element \n",
    "        node_ei = elements[ei]\n",
    "        # reference coordinates of the nodes making up this element (init to zero, fill in a loop)\n",
    "        node_X_ei = np.zeros((4,2))\n",
    "        # change to displacement\n",
    "        node_u_ei = np.zeros((4,2))\n",
    "        for ni in range(4):\n",
    "            node_X_ei[ni] = node_X[node_ei[ni]]\n",
    "            node_u_ei[ni] = node_un[node_ei[ni]] # note, using un \n",
    "\n",
    "        # also, do a proper integration with four integration points \n",
    "        # Loop over integration points\n",
    "        # location and weight of integration points \n",
    "        IP_xi = np.array([[-1./np.sqrt(3),-1./np.sqrt(3)],[+1./np.sqrt(3),-1./np.sqrt(3)],\\\n",
    "                          [+1./np.sqrt(3),+1./np.sqrt(3)],[-1./np.sqrt(3),+1./np.sqrt(3)]])\n",
    "        IP_wi = np.array([1.,1.,1.,1.])\n",
    "        for ip in range(4):\n",
    "            xi  = IP_xi[ip,0]\n",
    "            eta = IP_xi[ip,1]\n",
    "            wi = IP_wi[ip]\n",
    "            # eval shape functions \n",
    "            Ns = Nvec(xi,eta)\n",
    "            # eval the isoparametric map for the reference and deformed points corresponding to xi,eta = 0\n",
    "            X = np.zeros((2))\n",
    "            x = np.zeros((2))\n",
    "            for ni in range(4):\n",
    "                X += Ns[ni]*node_X_ei[ni]\n",
    "                # note, changed to displacements \n",
    "                x += Ns[ni]*(node_X_ei[ni]+node_u_ei[ni]) \n",
    "\n",
    "            # evaluate the Jacobians, first derivative of shape functions with respect to xi space then Jacobians \n",
    "            dNsdxi = dNvecdxi(xi,eta)\n",
    "            dXdxi = np.zeros((2,2))\n",
    "            dxdxi = np.zeros((2,2))\n",
    "            for ni in range(4):\n",
    "                dXdxi += np.outer(node_X_ei[ni],dNsdxi[:,ni])\n",
    "                dxdxi += np.outer(node_X_ei[ni]+node_u_ei[ni],dNsdxi[:,ni])\n",
    "\n",
    "            # get gradient of basis function with respect to X using inverse jacobian \n",
    "            JinvT = np.linalg.inv(dXdxi).transpose()\n",
    "            dNsdX = np.dot(JinvT,dNsdxi)\n",
    "\n",
    "            # get gradient of basis function with respect to x using inverse jacobian, the other one \n",
    "            jinvT = np.linalg.inv(dxdxi).transpose()\n",
    "            dNsdx = np.dot(jinvT,dNsdxi)\n",
    "\n",
    "            # get the deformation gradient \n",
    "            F = np.zeros((2,2))\n",
    "            for ni in range(4):\n",
    "                F += np.outer(node_X_ei[ni]+node_u_ei[ni],dNsdX[:,ni])\n",
    "            # compute the stress\n",
    "            detF = np.linalg.det(F)\n",
    "            b = np.dot(F,F.transpose())\n",
    "            c1 = 0.1 # MPa\n",
    "            p = 2*c1/(detF*detF)\n",
    "            sigma = -p*np.eye(2) + 2*c1*b\n",
    "            # for plane stress the deformed thickness is \n",
    "            h0 = 1.0 # mm \n",
    "            h = h0*(1./detF) # with h0 the reference thickness \n",
    "\n",
    "            # compute the variation of the symmetric velocity gradient by moving one node and one component\n",
    "            # of that node at a time, except if the node is on the boundary in which case no variation is allowed\n",
    "            for ni in range(4):\n",
    "                for ci in range(2):\n",
    "                    deltav = np.zeros((2))\n",
    "                    # note, no worries about the boundary because we will get rid of the corresponding rows\n",
    "                    # of the residual because they wont be zero \n",
    "                    deltav[ci] = 1\n",
    "                    gradx_v = np.outer(deltav,dNsdx[:,ni])\n",
    "                    deltad = 0.5*(gradx_v + gradx_v.transpose())\n",
    "                    # integrate over the solid, for this case plane stress so going to change to scale \n",
    "                    # by the compression in the off plane direction \n",
    "                    Re[ni*2+ci] += wi*np.linalg.det(dxdxi)*np.tensordot(sigma,deltad)*h\n",
    "\n",
    "                    # ASSEMBLE INTO GLOBAL RESIDUAL \n",
    "                    RR[node_ei[ni]*2+ci] += wi*np.linalg.det(dxdxi)*np.tensordot(sigma,deltad)*h\n",
    "                    \n",
    "                        \n",
    "    return RR\n",
    "                            \n",
    "        "
   ]
  },
  {
   "cell_type": "markdown",
   "metadata": {},
   "source": [
    "## Initialize, identify essential boundary conditions"
   ]
  },
  {
   "cell_type": "code",
   "execution_count": 157,
   "metadata": {},
   "outputs": [
    {
     "name": "stdout",
     "output_type": "stream",
     "text": [
      "EBC nodes\n",
      "[0, 78, 79, 157, 158, 236]\n",
      "NBC nodes\n",
      "[38, 39]\n"
     ]
    }
   ],
   "source": [
    "# Initial conditions \n",
    "node_x = np.zeros(node_X.shape)\n",
    "node_un_m1 = np.zeros((2*n_node))\n",
    "node_un_p1 = np.zeros((2*n_node))\n",
    "node_un = np.zeros((2*n_node))\n",
    "node_vn = np.zeros((2*n_node))\n",
    "node_an = np.zeros((2*n_node))\n",
    "# initialize empty arrays for the essential and natural BC \n",
    "EBC_n = []\n",
    "NBC_n = []\n",
    "for i in range(n_node):\n",
    "    X = node_X[i]\n",
    "    # first initialize with the same as original\n",
    "    node_x[i] = X\n",
    "    # check which nodes are in either end of the beam \n",
    "    if X[0]<0.1 :\n",
    "        EBC_n.append(i)\n",
    "    elif X[0]>38.5:\n",
    "        EBC_n.append(i)\n",
    "    elif X[1]>2.2 and X[0]>19.2 and X[0]<20:\n",
    "        NBC_n.append(i)\n",
    "print('EBC nodes')\n",
    "print(EBC_n)\n",
    "print('NBC nodes')\n",
    "print(NBC_n)\n",
    "# start everything with 0, no need to solve anything for this time step \n"
   ]
  },
  {
   "cell_type": "code",
   "execution_count": 161,
   "metadata": {},
   "outputs": [
    {
     "name": "stdout",
     "output_type": "stream",
     "text": [
      "step 0\n",
      "step 100\n",
      "step 200\n",
      "step 300\n",
      "step 400\n",
      "step 500\n",
      "step 600\n",
      "step 700\n",
      "step 800\n",
      "step 900\n"
     ]
    }
   ],
   "source": [
    "## Loop over time! \n",
    "time = 0 # already solved for because that's just initial conditions \n",
    "dt = 1e-6 # [s] \n",
    "nsteps = 1000\n",
    "# calculate the mass matrix only initially \n",
    "M = assembleMM()\n",
    "Minv = np.linalg.inv(M)\n",
    "# Row sum \n",
    "Mvec = np.zeros((2*n_node))\n",
    "for i in range(2*n_node):\n",
    "    Mvec[i] = np.sum(M[i,:])\n",
    "# viscosity proportional to mass \n",
    "C = 0.05*M\n",
    "Cvec = 0.05*Mvec\n",
    "A = M+dt/2.*C \n",
    "Ainv = np.linalg.inv(A)\n",
    "Avec = Mvec+dt/2.*Cvec\n",
    "# Loop \n",
    "node_x_hist = []\n",
    "for i in range(nsteps): \n",
    "    time += dt\n",
    "    # force vector, just applying a force at two nodes, gradually increasing the force, then keep force constant \n",
    "    P = np.zeros((n_node*2))\n",
    "    if time<1e-3:\n",
    "        P[NBC_n[0]*2+1] = -time # N\n",
    "        P[NBC_n[1]*2+1] = -time # N\n",
    "    if time>=1e-3:\n",
    "        P[NBC_n[0]*2+1] = -1e-3 # N\n",
    "        P[NBC_n[1]*2+1] = -1e-3 # N\n",
    "    # Compute the internal force vector\n",
    "    R = assembleRR()\n",
    "    # solve for the new displacements \n",
    "    #RHS = dt**2*(P-R) + dt/2.*np.dot(C,node_un_m1)+np.dot(M,2*node_un-node_un_m1)\n",
    "    #node_un_p1 = np.dot(Ainv, RHS)\n",
    "    RHS = dt**2*(P-R) + dt/2.*Cvec*node_un_m1+Mvec*(2*node_un-node_un_m1)\n",
    "    node_un_p1 = (1./Avec)*RHS\n",
    "    # make sure to satisfy EBC \n",
    "    for e in range(len(EBC_n)):\n",
    "        node_un_p1[EBC_n[e]*2+0] = 0.0\n",
    "        node_un_p1[EBC_n[e]*2+1] = 0.0\n",
    "    # recomopute velocities and accelerations, although they are never used \n",
    "    node_vn = (node_un_p1 - node_un_m1)/(2*dt)\n",
    "    node_an = (node_un_p1-2*node_un + node_un_m1)/dt**2 \n",
    "    # get updated deformed configuration \n",
    "    node_x = node_X + node_un_p1.reshape(n_node,2)\n",
    "    # save into a file at given time steps \n",
    "    if i%100==0:\n",
    "        print('step %i'%i)\n",
    "        node_x_hist.append(node_x)\n",
    "    # reset for the next time step \n",
    "    node_un_m1 = node_un\n",
    "    node_un = node_un_p1"
   ]
  },
  {
   "cell_type": "code",
   "execution_count": 162,
   "metadata": {},
   "outputs": [
    {
     "data": {
      "text/plain": [
       "<matplotlib.collections.PatchCollection at 0x7fbcfedec040>"
      ]
     },
     "execution_count": 162,
     "metadata": {},
     "output_type": "execute_result"
    },
    {
     "data": {
      "image/png": "[encoded data removed]",
      "text/plain": [
       "<Figure size 1440x2880 with 1 Axes>"
      ]
     },
     "metadata": {
      "needs_background": "light"
     },
     "output_type": "display_data"
    }
   ],
   "source": [
    "# plot mesh to check\n",
    "## Plot the mesh \n",
    "fig, ax = plt.subplots(figsize=(20,40))\n",
    "ax.set_xlim([-1, 40])\n",
    "ax.set_ylim([-1, 2.5])\n",
    "ax.set_aspect('equal')\n",
    "patches = []\n",
    "#viridis = matplotlib.cm.get_cmap('viridis', 50)\n",
    "colors = np.zeros((n_elem))\n",
    "ti=9\n",
    "for i in range(n_elem):\n",
    "    n1 = elements[i,0]\n",
    "    n2 = elements[i,1]\n",
    "    n3 = elements[i,2]\n",
    "    n4 = elements[i,3]\n",
    "    polygon = Polygon([node_x_hist[ti][n1],node_x_hist[ti][n2],node_x_hist[ti][n3],node_x_hist[ti][n4]], closed=True)\n",
    "    patches.append(polygon)\n",
    "    colors[i] = 100.\n",
    "p = PatchCollection(patches)\n",
    "p.set_array(colors)\n",
    "ax.add_collection(p)"
   ]
  },
  {
   "cell_type": "code",
   "execution_count": null,
   "metadata": {},
   "outputs": [],
   "source": []
  },
  {
   "cell_type": "code",
   "execution_count": null,
   "metadata": {},
   "outputs": [],
   "source": []
  },
  {
   "cell_type": "code",
   "execution_count": null,
   "metadata": {},
   "outputs": [],
   "source": []
  }
 ],
 "metadata": {
  "kernelspec": {
   "display_name": "Python 3",
   "language": "python",
   "name": "python3"
  },
  "language_info": {
   "codemirror_mode": {
    "name": "ipython",
    "version": 3
   },
   "file_extension": ".py",
   "mimetype": "text/x-python",
   "name": "python",
   "nbconvert_exporter": "python",
   "pygments_lexer": "ipython3",
   "version": "3.8.5"
  }
 },
 "nbformat": 4,
 "nbformat_minor": 4
}
