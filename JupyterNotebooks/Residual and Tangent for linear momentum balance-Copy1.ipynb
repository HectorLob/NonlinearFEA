{
 "cells": [
  {
   "cell_type": "code",
   "execution_count": 1,
   "metadata": {},
   "outputs": [
    {
     "data": {
      "text/plain": [
       "'%.5f'"
      ]
     },
     "execution_count": 1,
     "metadata": {},
     "output_type": "execute_result"
    }
   ],
   "source": [
    "import numpy as np\n",
    "import sympy as sp\n",
    "import matplotlib\n",
    "import random\n",
    "import matplotlib.pyplot as plt\n",
    "import matplotlib.tri as mtri\n",
    "from matplotlib.patches import Polygon\n",
    "from matplotlib.collections import PatchCollection\n",
    "%matplotlib inline \n",
    "%precision 5"
   ]
  },
  {
   "cell_type": "markdown",
   "metadata": {},
   "source": [
    "# Residual and Tangent for Linear Momentum Balance\n",
    "\n",
    "The linear momentum balance problem can be formulated in terms of tensors that are associated with the reference or the deformed coordinates. They are equivalent, but some computations are easier in the reference and some computations are easier in the deformed configuration expressions. Overall, the discrete equations in the deformed configurations are more sparse and therefore more efficient numerically. \n",
    "\n",
    "The residual for the weak form in the reference configuration was achieved in previous lectures by discretizing \n",
    "\n",
    "$ \\int_{B^e}\\mathbf{ \\sigma} : \\delta \\mathbf{d}$ \n",
    "\n",
    "First, using the discrete nodal positions from the reference and deformed configurations $\\mathbf{X}_i^e$ and $\\mathbf{x}_i^e$ respectively, we can compute the discrete deformation gradient $\\mathbf{F}$ at any point inside of the element and compute the stress $\\mathbf{\\sigma}$. Then, by introducing the discrete weight function values or nodal variations $\\delta \\mathbf{u}_i^e$ and taking these outside of the integral leaving behind the shape functins and gradients, we arrive at the corresponding expression for the element residual $\\mathbf{R}^e$. \n",
    "\n",
    "For the tangent we need the linearization of the weak form. In the current configuration the linearization of the equations is (see also Wriggers pp 137)\n",
    "\n",
    "$ \\int_{B^e} \\mathbf{\\sigma}: \\nabla (\\Delta \\mathbf{u})^T \\nabla \\delta \\mathbf{u} + \\int_{B^e} \\Delta \\mathbf{\\epsilon}: \\mathbf{c}:\\delta \\mathbf{d}$ \n",
    "\n",
    "Introducing the discretizations $\\delta \\mathbf{u} = \\sum N_i \\delta \\mathbf{u}_i^e$ and $\\Delta \\mathbf{u} = \\sum N_i \\Delta \\mathbf{u}_i^e$ and taking the noda values $\\delta \\mathbf{u}_i^e$ and $\\Delta \\mathbf{u}_i^e$ outside of the integral one is left with the element tangent matrix $\\mathbf{K}^e$\n",
    "\n",
    "In order to avoid dealing with the fourth order tensor $\\mathbf{c}$, an alternative is to use Voigt notation to compute $\\Delta \\mathbf{\\epsilon}: \\mathbf{c}:\\nabla \\delta \\mathbf{d} = (\\Delta \\mathbf{\\epsilon})_{voig}^T\\mathbf{D} \\cdot(\\delta \\mathbf{d})_{voigt}$ with $\\mathbf{D}$ the $6\\times6$ matrix (in 3D) which is the Voigt notation equivalent of the fourth order tensor $\\mathbf{c}$. \n",
    "\n",
    "## Solution of a simple problem \n",
    "\n",
    "To showcase the calculation of the element residual and tangent and the solution of a simple problem, in the following we solve the problem of a square domain subject to Dirichlet boundary conditions of a strip biaxial test. The mesh consists of only 5 elements and 8 nodes. All the displacement on the boundaries will be prescribed and the goal is to solve for the displacement of the internal nodes. The material will be the Neo-Hookean material for plane stress \n",
    "\n",
    "$\\mathbf{\\sigma} = -p \\mathbf{I} + 2C_1 \\mathbf{b}$ \n",
    "\n",
    "where $p=2C_1J^{-2}$ and $J$ is the determinant of the two-dimensional deformation gradient $\\mathbf{F}$. The corresponding elasticity tensor is \n",
    "\n",
    "$\\mathbf{c} = 2p \\mathbf{I}\\otimes \\mathbf{I} + 2p\\mathbf{i}$\n",
    "\n",
    "where $\\mathbf{i}$ is the fourth order identity. The voigt notation for this tensor is just a $3\\times3$ matrix\n",
    "\n",
    "$\\mathbf{D} = \\begin{array}{ccc}4p&2p&0\\\\2p&4p&0\\\\0&0&2p \\end{array}$"
   ]
  },
  {
   "cell_type": "code",
   "execution_count": 2,
   "metadata": {},
   "outputs": [],
   "source": [
    "n_node = 8\n",
    "n_elem = 5\n",
    "node_X = np.array([[0.,0.],[1.,0.],[1.,1.],[0.,1.],\n",
    "                   [0.27,0.25],[0.75,0.27],[0.73,0.75],[0.25,0.73]])\n",
    "elements = np.array([[0,1,5,4],[1,2,6,5],[2,3,7,6],[3,0,4,7],[4,5,6,7]])\n"
   ]
  },
  {
   "cell_type": "code",
   "execution_count": 3,
   "metadata": {},
   "outputs": [
    {
     "data": {
      "text/plain": [
       "<matplotlib.collections.PatchCollection at 0x7f8472e5b9a0>"
      ]
     },
     "execution_count": 3,
     "metadata": {},
     "output_type": "execute_result"
    },
    {
     "data": {
      "image/png": "[encoded data removed]",
      "text/plain": [
       "<Figure size 720x720 with 1 Axes>"
      ]
     },
     "metadata": {
      "needs_background": "light"
     },
     "output_type": "display_data"
    }
   ],
   "source": [
    "# plot mesh to check\n",
    "## Plot the mesh \n",
    "fig, ax = plt.subplots(figsize=(10,10))\n",
    "ax.set_xlim([-0.1, 1.1])\n",
    "ax.set_ylim([-0.1, 1.1])\n",
    "ax.set_aspect('equal')\n",
    "patches = []\n",
    "#viridis = matplotlib.cm.get_cmap('viridis', 50)\n",
    "colors = np.zeros((n_elem))\n",
    "for i in range(n_elem):\n",
    "    n1 = elements[i,0]\n",
    "    n2 = elements[i,1]\n",
    "    n3 = elements[i,2]\n",
    "    n4 = elements[i,3]\n",
    "    polygon = Polygon([node_X[n1],node_X[n2],node_X[n3],node_X[n4]], closed=True)\n",
    "    patches.append(polygon)\n",
    "    colors[i] = 100.\n",
    "p = PatchCollection(patches)\n",
    "p.set_array(colors)\n",
    "ax.add_collection(p)"
   ]
  },
  {
   "cell_type": "code",
   "execution_count": 4,
   "metadata": {},
   "outputs": [],
   "source": [
    "# Shape functions and derivatives \n",
    "\n",
    "def Nvec(xi,eta):\n",
    "    return 0.25*np.array([(1-xi)*(1-eta),(1+xi)*(1-eta),(1+xi)*(1+eta),(1-xi)*(1+eta)])\n",
    "\n",
    "def dNvecdxi(xi,eta):\n",
    "    return 0.25*np.array([[(-1)*(1-eta),(+1)*(1-eta),(+1)*(1+eta),(-1)*(1+eta)],\\\n",
    "                          [(1-xi)*(-1),(1+xi)*(-1),(1+xi)*(+1),(1-xi)*(+1)]])"
   ]
  },
  {
   "cell_type": "code",
   "execution_count": 24,
   "metadata": {},
   "outputs": [
    {
     "name": "stdout",
     "output_type": "stream",
     "text": [
      "DOF_fmap\n",
      "[[-1 -1]\n",
      " [-1 -1]\n",
      " [-1  0]\n",
      " [-1  1]\n",
      " [ 2  3]\n",
      " [ 4  5]\n",
      " [ 6  7]\n",
      " [ 8  9]]\n",
      "DOF_imap\n",
      "[[2, 1], [3, 1], [4, 0], [4, 1], [5, 0], [5, 1], [6, 0], [6, 1], [7, 0], [7, 1]]\n",
      "ndof\n",
      "10\n"
     ]
    }
   ],
   "source": [
    "## create DOF map \n",
    "node_x = np.zeros(node_X.shape)\n",
    "DOF_fmap = np.zeros((n_node,2),dtype=int)\n",
    "DOF_imap = [] \n",
    "dof = 0\n",
    "for i in range(n_node):\n",
    "    X = node_X[i]\n",
    "    if X[0]<0.001 and X[1]<0.001:\n",
    "        DOF_fmap[i,0] = -1\n",
    "        DOF_fmap[i,1] = -1\n",
    "        node_x[i,0] = 0.0\n",
    "        node_x[i,1] = 0.0 \n",
    "    elif X[1]<0.001 and X[0]>0.999:\n",
    "        DOF_fmap[i,1] = -1\n",
    "        node_x[i,1] = 0.0 \n",
    "        DOF_fmap[i,0] = -1\n",
    "        node_x[i,0] = 1.2\n",
    "    elif X[0]<0.001 and X[1]>0.999:\n",
    "        DOF_fmap[i,0] = -1\n",
    "        node_x[i,0] = 0.0 \n",
    "        DOF_fmap[i,1] = dof\n",
    "        node_x[i,1] = 1.0 \n",
    "        dof +=1 \n",
    "        DOF_imap.append([i,1])\n",
    "    elif X[0]>0.999 and X[1]>0.999:\n",
    "        DOF_fmap[i,0] = -1\n",
    "        node_x[i,0] = 1.2 \n",
    "        DOF_fmap[i,1] = dof \n",
    "        node_x[i,1] = 1.0 \n",
    "        dof +=1 \n",
    "        DOF_imap.append([i,1])\n",
    "    else:\n",
    "        DOF_fmap[i,0] = dof\n",
    "        DOF_fmap[i,1] = dof+1\n",
    "        node_x[i,0] = X[0]\n",
    "        node_x[i,1] = X[1]\n",
    "        dof+=2 \n",
    "        DOF_imap.append([i,0])\n",
    "        DOF_imap.append([i,1])\n",
    "        node_x[i,0]\n",
    "print('DOF_fmap')\n",
    "print(DOF_fmap)\n",
    "print('DOF_imap')\n",
    "print(DOF_imap)\n",
    "print('ndof')\n",
    "print(dof)"
   ]
  },
  {
   "cell_type": "code",
   "execution_count": 26,
   "metadata": {},
   "outputs": [],
   "source": [
    "# applyt the deformation to all the boundary nodes in the mesh, for the rest just keep original coords\n",
    "node_x = np.zeros(node_X.shape)\n",
    "for i in range(n_node):\n",
    "    X = node_X[i]\n",
    "    # first initialize with the same as original\n",
    "    node_x[i] = X\n",
    "    # but then apply boundary conditions\n",
    "    if X[0]<0.00001: \n",
    "        node_x[i,0] = 0.\n",
    "    if X[1]<0.00001: \n",
    "        node_x[i,1] = 0.\n",
    "    if X[0]>0.9999: \n",
    "        node_x[i,0] = 1.2\n",
    "    if X[1]>0.9999: \n",
    "        node_x[i,1] = 1.\n"
   ]
  },
  {
   "cell_type": "code",
   "execution_count": 25,
   "metadata": {},
   "outputs": [
    {
     "data": {
      "text/plain": [
       "<matplotlib.collections.PatchCollection at 0x7f84733b4610>"
      ]
     },
     "execution_count": 25,
     "metadata": {},
     "output_type": "execute_result"
    },
    {
     "data": {
      "image/png": "[encoded data removed]",
      "text/plain": [
       "<Figure size 720x720 with 1 Axes>"
      ]
     },
     "metadata": {
      "needs_background": "light"
     },
     "output_type": "display_data"
    }
   ],
   "source": [
    "## Plot the deformed mesh \n",
    "fig, ax = plt.subplots(figsize=(10,10))\n",
    "ax.set_xlim([-0.1, 1.5])\n",
    "ax.set_ylim([-0.1, 1.1])\n",
    "ax.set_aspect('equal')\n",
    "patches = []\n",
    "#viridis = matplotlib.cm.get_cmap('viridis', 50)\n",
    "colors = np.zeros((n_elem))\n",
    "for i in range(n_elem):\n",
    "    n1 = elements[i,0]\n",
    "    n2 = elements[i,1]\n",
    "    n3 = elements[i,2]\n",
    "    n4 = elements[i,3]\n",
    "    polygon = Polygon([node_x[n1],node_x[n2],node_x[n3],node_x[n4]], closed=True)\n",
    "    patches.append(polygon)\n",
    "    colors[i] = 0\n",
    "p = PatchCollection(patches)\n",
    "p.set_array(colors)\n",
    "ax.add_collection(p)"
   ]
  },
  {
   "cell_type": "markdown",
   "metadata": {},
   "source": [
    "## Compute the element residual and tangent and assemble into global residual and tangent\n",
    "\n"
   ]
  },
  {
   "cell_type": "code",
   "execution_count": 26,
   "metadata": {},
   "outputs": [],
   "source": [
    "# putting it inside a function\n",
    "def assembleRRKK():\n",
    "    # assemble total residual \n",
    "    RR = np.zeros((dof))\n",
    "    # assemble the total tangent \n",
    "    KK = np.zeros((dof,dof))\n",
    "    # loop over elements\n",
    "    for ei in range(n_elem): \n",
    "        # initialize the residual for this element\n",
    "        Re = np.zeros((8))\n",
    "        # initialize the tangent for this element\n",
    "        Ke = np.zeros((8,8))\n",
    "\n",
    "        # nodes that make up this element \n",
    "        node_ei = elements[ei]\n",
    "        # reference coordinates of the nodes making up this element (init to zero, fill in a loop)\n",
    "        node_X_ei = np.zeros((4,2))\n",
    "        # deformed coordinates of the nodes making up this element (init to zero, fill in a loop)\n",
    "        node_x_ei = np.zeros((4,2))\n",
    "        for ni in range(4):\n",
    "            node_X_ei[ni] = node_X[node_ei[ni]]\n",
    "            node_x_ei[ni] = node_x[node_ei[ni]]\n",
    "\n",
    "        # also, do a proper integration with four integration points \n",
    "        # Loop over integration points\n",
    "        # location and weight of integration points \n",
    "        IP_xi = np.array([[-1./np.sqrt(3),-1./np.sqrt(3)],[+1./np.sqrt(3),-1./np.sqrt(3)],\\\n",
    "                          [+1./np.sqrt(3),+1./np.sqrt(3)],[-1./np.sqrt(3),+1./np.sqrt(3)]])\n",
    "        IP_wi = np.array([1.,1.,1.,1.])\n",
    "        for ip in range(4):\n",
    "            xi  = IP_xi[ip,0]\n",
    "            eta = IP_xi[ip,1]\n",
    "            wi = IP_wi[ip]\n",
    "            # eval shape functions \n",
    "            Ns = Nvec(xi,eta)\n",
    "            # eval the isoparametric map for the reference and deformed points corresponding to xi,eta = 0\n",
    "            X = np.zeros((2))\n",
    "            x = np.zeros((2))\n",
    "            for ni in range(4):\n",
    "                X += Ns[ni]*node_X_ei[ni]\n",
    "                x += Ns[ni]*node_x_ei[ni]\n",
    "\n",
    "            # evaluate the Jacobians, first derivative of shape functions with respect to xi space then Jacobians \n",
    "            dNsdxi = dNvecdxi(xi,eta)\n",
    "            dXdxi = np.zeros((2,2))\n",
    "            dxdxi = np.zeros((2,2))\n",
    "            for ni in range(4):\n",
    "                dXdxi += np.outer(node_X_ei[ni],dNsdxi[:,ni])\n",
    "                dxdxi += np.outer(node_x_ei[ni],dNsdxi[:,ni])\n",
    "\n",
    "            # get gradient of basis function with respect to X using inverse jacobian \n",
    "            JinvT = np.linalg.inv(dXdxi).transpose()\n",
    "            dNsdX = np.dot(JinvT,dNsdxi)\n",
    "\n",
    "            # get gradient of basis function with respect to x using inverse jacobian, the other one \n",
    "            jinvT = np.linalg.inv(dxdxi).transpose()\n",
    "            dNsdx = np.dot(jinvT,dNsdxi)\n",
    "\n",
    "            # get the deformation gradient \n",
    "            F = np.zeros((2,2))\n",
    "            for ni in range(4):\n",
    "                F += np.outer(node_x_ei[ni],dNsdX[:,ni])\n",
    "            # compute the stress\n",
    "            detF = np.linalg.det(F)\n",
    "            b = np.dot(F,F.transpose())\n",
    "            c1 = 1.0 \n",
    "            p = 2*c1/(detF*detF)\n",
    "            sigma = -p*np.eye(2) + 2*c1*b\n",
    "\n",
    "            # compute the variation of the symmetric velocity gradient by moving one node and one component\n",
    "            # of that node at a time, except if the node is on the boundary in which case no variation is allowed\n",
    "            for ni in range(4):\n",
    "                deltav = np.zeros((2))\n",
    "                for ci in range(2):\n",
    "                    # note, no worries about the boundary because we will get rid of the corresponding rows\n",
    "                    # of the residual because they wont be zero \n",
    "                    deltav[ci] = 1\n",
    "                    gradx_v = np.outer(deltav,dNsdx[:,ni])\n",
    "                    deltad = 0.5*(gradx_v + gradx_v.transpose())\n",
    "                    Re[ni*2+ci] += wi*np.linalg.det(dxdxi)*np.tensordot(sigma,deltad)\n",
    "\n",
    "                    # ASSEMBLE INTO GLOBAL RESIDUAL (I didn't ask for this)\n",
    "                    dofa = DOF_fmap[node_ei[ni],ci]\n",
    "                    if dofa>-1:\n",
    "                        RR[dofa] += wi*np.linalg.det(dxdxi)*np.tensordot(sigma,deltad)\n",
    "                    #print('dofa')\n",
    "                    #print(dofa)\n",
    "                    ## 2 more for loops for the increment Delta u\n",
    "                    for nj in range(4):\n",
    "                        Deltau = np.zeros((2))\n",
    "                        for cj in range(2):\n",
    "                            Deltau[cj]=1\n",
    "                            gradx_Du = np.outer(Deltau,dNsdx[:,nj])\n",
    "                            Deltaeps = 0.5*(gradx_Du + gradx_Du.transpose())\n",
    "                            \n",
    "                            ## ELEMENT TANGENT\n",
    "                            # Initial stress component (also called geometric component) is \n",
    "                            # sigma: (gradDeltau^T gradv)\n",
    "                            Kgeom = np.tensordot(sigma,np.dot(gradx_Du.transpose(),gradx_v))\n",
    "                            # Material component, need to put things in voigt notation for easy computation\n",
    "                            deltad_voigt = np.array([deltad[0,0],deltad[1,1],2*deltad[0,1]])\n",
    "                            Deltaeps_voigt = np.array([Deltaeps[0,0],Deltaeps[1,1],2*Deltaeps[0,1]])\n",
    "                            D = np.array([[4*p,2*p,0],[2*p,4*p,0],[0,0,2*p]])\n",
    "                            Kmat = np.dot(Deltaeps_voigt,np.dot(D,deltad_voigt))\n",
    "                            # add to the corresponding entry in Ke and dont forget other parts of integral\n",
    "                            Ke[ni*2+ci,nj*2+cj] += wi*np.linalg.det(dxdxi)*(Kgeom+Kmat)\n",
    "                            # assemble into global \n",
    "                            dofb = DOF_fmap[node_ei[nj],cj]\n",
    "                            #print('dofb')\n",
    "                            #print(dofb)\n",
    "                            if dofa>-1 and dofb>-1:\n",
    "                                KK[dofa,dofb] += wi*np.linalg.det(dxdxi)*(Kgeom+Kmat)\n",
    "                            \n",
    "    return RR,KK\n",
    "                            \n",
    "        "
   ]
  },
  {
   "cell_type": "code",
   "execution_count": 55,
   "metadata": {},
   "outputs": [],
   "source": [
    "# in case you need to restart \n",
    "# applyt the deformation to all the boundary nodes in the mesh, for the rest just keep original coords\n",
    "node_x = np.zeros(node_X.shape)\n",
    "for i in range(n_node):\n",
    "    X = node_X[i]\n",
    "    # first initialize with the same as original\n",
    "    node_x[i] = X\n",
    "    # but then apply boundary conditions\n",
    "    if X[0]<0.00001: \n",
    "        node_x[i,0] = 0.\n",
    "    if X[1]<0.00001: \n",
    "        node_x[i,1] = 0.\n",
    "    if X[0]>0.9999: \n",
    "        node_x[i,0] = 1.1\n",
    "    if X[1]>0.9999: \n",
    "        node_x[i,1] = 1.\n"
   ]
  },
  {
   "cell_type": "code",
   "execution_count": 27,
   "metadata": {},
   "outputs": [
    {
     "name": "stdout",
     "output_type": "stream",
     "text": [
      "iter 1\n",
      "5.838121231079067\n",
      "iter 2\n",
      "0.8422519949383888\n",
      "iter 3\n",
      "0.7464378143091539\n",
      "iter 4\n",
      "0.4434706439242071\n",
      "iter 5\n",
      "0.3177442718795825\n",
      "iter 6\n",
      "0.2112674878540405\n",
      "iter 7\n",
      "0.14334365897495494\n",
      "iter 8\n",
      "0.09578105711072679\n",
      "iter 9\n",
      "0.06394243845991604\n",
      "iter 10\n",
      "0.042474921764129446\n",
      "iter 11\n",
      "0.02815469266798964\n",
      "iter 12\n",
      "0.018620928867073686\n",
      "iter 13\n",
      "0.012299019199912309\n",
      "iter 14\n",
      "0.008114761557059088\n",
      "iter 15\n",
      "0.005350305427681615\n",
      "iter 16\n",
      "0.0035258325316083355\n",
      "iter 17\n",
      "0.002322731169167893\n",
      "iter 18\n",
      "0.001529800191287954\n",
      "iter 19\n",
      "0.0010074024195162803\n",
      "iter 20\n",
      "0.0006633234523573836\n"
     ]
    }
   ],
   "source": [
    "## Newton Raphson \n",
    "res = 1\n",
    "iter = 0\n",
    "tol = 1e-5\n",
    "itermax = 20\n",
    "while res>tol and iter<itermax:\n",
    "    RR,KK = assembleRRKK()\n",
    "    res = np.linalg.norm(RR)\n",
    "    incr_u = -np.linalg.solve(KK,RR)\n",
    "    # and only some of the nodes need this increment\n",
    "    for i in range(dof):\n",
    "        nici = DOF_imap[i]\n",
    "        ni = nici[0]\n",
    "        ci = nici[1]\n",
    "        node_x[ni,ci] += incr_u[i]\n",
    "    iter +=1\n",
    "    print('iter %i'%iter)\n",
    "    print(res)"
   ]
  },
  {
   "cell_type": "code",
   "execution_count": 28,
   "metadata": {},
   "outputs": [
    {
     "data": {
      "text/plain": [
       "<matplotlib.colorbar.Colorbar at 0x7f8473a536d0>"
      ]
     },
     "execution_count": 28,
     "metadata": {},
     "output_type": "execute_result"
    },
    {
     "data": {
      "image/png": "[encoded data removed]",
      "text/plain": [
       "<Figure size 720x720 with 2 Axes>"
      ]
     },
     "metadata": {
      "needs_background": "light"
     },
     "output_type": "display_data"
    }
   ],
   "source": [
    "## Plot the deformed mesh, evaluate the stress at the center\n",
    "fig, ax = plt.subplots(figsize=(10,10))\n",
    "ax.set_xlim([-0.1, 1.5])\n",
    "ax.set_ylim([-0.1, 1.1])\n",
    "ax.set_aspect('equal')\n",
    "patches = []\n",
    "#viridis = matplotlib.cm.get_cmap('viridis', 50)\n",
    "colors = np.zeros((n_elem))\n",
    "for i in range(n_elem):\n",
    "    n1 = elements[i,0]\n",
    "    n2 = elements[i,1]\n",
    "    n3 = elements[i,2]\n",
    "    n4 = elements[i,3]\n",
    "    polygon = Polygon([node_x[n1],node_x[n2],node_x[n3],node_x[n4]], closed=True)\n",
    "    patches.append(polygon)\n",
    "    # compute stress at center \n",
    "    xi  = 0\n",
    "    eta = 0\n",
    "    # eval shape functions \n",
    "    Ns = Nvec(xi,eta)\n",
    "    # eval the isoparametric map \n",
    "    X = Ns[0]*node_X[n1]+Ns[1]*node_X[n2]+Ns[2]*node_X[n3]+Ns[3]*node_X[n4]\n",
    "    X = Ns[0]*node_x[n1]+Ns[1]*node_x[n2]+Ns[2]*node_x[n3]+Ns[3]*node_x[n4]\n",
    "    # evaluate the Jacobians, first derivative of shape functions with respect to xi space then Jacobians \n",
    "    dNsdxi = dNvecdxi(xi,eta)\n",
    "    dXdxi = np.outer(node_X[n1],dNsdxi[:,0])+np.outer(node_X[n2],dNsdxi[:,1])\\\n",
    "            +np.outer(node_X[n3],dNsdxi[:,2])+np.outer(node_X[n4],dNsdxi[:,3])\n",
    "    dxdxi = np.outer(node_x[n1],dNsdxi[:,0])+np.outer(node_x[n2],dNsdxi[:,1])\\\n",
    "            +np.outer(node_x[n3],dNsdxi[:,2])+np.outer(node_x[n4],dNsdxi[:,3])\n",
    "    # get gradient of basis function with respect to X using inverse jacobian \n",
    "    JinvT = np.linalg.inv(dXdxi).transpose()\n",
    "    dNsdX = np.dot(JinvT,dNsdxi)\n",
    "    # get gradient of basis function with respect to x using inverse jacobian, the other one \n",
    "    jinvT = np.linalg.inv(dxdxi).transpose()\n",
    "    dNsdx = np.dot(jinvT,dNsdxi)\n",
    "    # get the deformation gradient \n",
    "    F = np.outer(node_x[n1],dNsdX[:,0])+np.outer(node_x[n2],dNsdX[:,1])\\\n",
    "        +np.outer(node_x[n3],dNsdX[:,2])+np.outer(node_x[n4],dNsdX[:,3])\n",
    "    detF = np.linalg.det(F)\n",
    "    b = np.dot(F,F.transpose())\n",
    "    c1 = 1.0 \n",
    "    p = 2*c1/(detF*detF)\n",
    "    sigma = -p*np.eye(2) + 2*c1*b\n",
    "    #print(sigma)\n",
    "    colors[i] = sigma[0,0]\n",
    "p = PatchCollection(patches)\n",
    "p.set_array(colors)\n",
    "ax.add_collection(p)\n",
    "p.set_clim([0, 1])\n",
    "plt.colorbar(p,ax=ax)"
   ]
  },
  {
   "cell_type": "code",
   "execution_count": 29,
   "metadata": {},
   "outputs": [
    {
     "data": {
      "text/plain": [
       "array([[0.     , 0.     ],\n",
       "       [1.2    , 0.     ],\n",
       "       [1.2    , 0.7176 ],\n",
       "       [0.     , 1.20564],\n",
       "       [0.29289, 0.26903],\n",
       "       [0.8624 , 0.23178],\n",
       "       [0.83709, 0.64508],\n",
       "       [0.2714 , 0.79998]])"
      ]
     },
     "execution_count": 29,
     "metadata": {},
     "output_type": "execute_result"
    }
   ],
   "source": [
    "node_x"
   ]
  },
  {
   "cell_type": "code",
   "execution_count": null,
   "metadata": {},
   "outputs": [],
   "source": []
  }
 ],
 "metadata": {
  "kernelspec": {
   "display_name": "Python 3",
   "language": "python",
   "name": "python3"
  },
  "language_info": {
   "codemirror_mode": {
    "name": "ipython",
    "version": 3
   },
   "file_extension": ".py",
   "mimetype": "text/x-python",
   "name": "python",
   "nbconvert_exporter": "python",
   "pygments_lexer": "ipython3",
   "version": "3.8.3"
  }
 },
 "nbformat": 4,
 "nbformat_minor": 4
}
