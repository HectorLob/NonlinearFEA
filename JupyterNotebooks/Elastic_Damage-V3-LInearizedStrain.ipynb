{
 "cells": [
  {
   "cell_type": "code",
   "execution_count": 27,
   "metadata": {
    "executionInfo": {
     "elapsed": 708,
     "status": "ok",
     "timestamp": 1606246568738,
     "user": {
      "displayName": "Akhil Vijay",
      "photoUrl": "https://lh3.googleusercontent.com/a-/AOh14GhHSyQ5Bpvc5ozoqXF1uyLNP53y5lM4nzlHesg=s64",
      "userId": "16929750785847810999"
     },
     "user_tz": 300
    },
    "id": "nFrgVoYD2lw1"
   },
   "outputs": [],
   "source": [
    "import numpy as np\n",
    "import sympy as sp\n",
    "import matplotlib\n",
    "import random\n",
    "import matplotlib.pyplot as plt\n",
    "import matplotlib.tri as mtri\n",
    "from matplotlib.patches import Polygon\n",
    "from matplotlib.collections import PatchCollection\n",
    "%matplotlib inline \n"
   ]
  },
  {
   "cell_type": "markdown",
   "metadata": {
    "id": "plsPhwvYo1Xb"
   },
   "source": [
    "Shape fcns and derivatives"
   ]
  },
  {
   "cell_type": "code",
   "execution_count": 28,
   "metadata": {
    "executionInfo": {
     "elapsed": 702,
     "status": "ok",
     "timestamp": 1606246568739,
     "user": {
      "displayName": "Akhil Vijay",
      "photoUrl": "https://lh3.googleusercontent.com/a-/AOh14GhHSyQ5Bpvc5ozoqXF1uyLNP53y5lM4nzlHesg=s64",
      "userId": "16929750785847810999"
     },
     "user_tz": 300
    },
    "id": "t6b3doKD2lw9"
   },
   "outputs": [],
   "source": [
    "# Shape functions and derivatives \n",
    "\n",
    "def Nvec(xi,eta):\n",
    "    return 0.25*np.array([(1-xi)*(1-eta),(1+xi)*(1-eta),(1+xi)*(1+eta),(1-xi)*(1+eta)])\n",
    "\n",
    "def dNvecdxi(xi,eta):\n",
    "    return 0.25*np.array([[(-1)*(1-eta),(+1)*(1-eta),(+1)*(1+eta),(-1)*(1+eta)],\\\n",
    "                          [(1-xi)*(-1),(1+xi)*(-1),(1+xi)*(+1),(1-xi)*(+1)]])"
   ]
  },
  {
   "cell_type": "markdown",
   "metadata": {
    "id": "I57WMLgUpMKk"
   },
   "source": [
    "Define elastic stiffness matrix"
   ]
  },
  {
   "cell_type": "code",
   "execution_count": 43,
   "metadata": {
    "colab": {
     "base_uri": "https://localhost:8080/"
    },
    "executionInfo": {
     "elapsed": 697,
     "status": "ok",
     "timestamp": 1606246568740,
     "user": {
      "displayName": "Akhil Vijay",
      "photoUrl": "https://lh3.googleusercontent.com/a-/AOh14GhHSyQ5Bpvc5ozoqXF1uyLNP53y5lM4nzlHesg=s64",
      "userId": "16929750785847810999"
     },
     "user_tz": 300
    },
    "id": "n37K66LY1soy",
    "outputId": "d25e4a64-f80f-4476-c963-327bbc789590"
   },
   "outputs": [
    {
     "data": {
      "text/plain": [
       "array([[271.15238095, 110.75238095,   0.        ],\n",
       "       [110.75238095, 271.15238095,   0.        ],\n",
       "       [  0.        ,   0.        ,  80.2       ]])"
      ]
     },
     "execution_count": 43,
     "metadata": {},
     "output_type": "execute_result"
    }
   ],
   "source": [
    "#define the elastic stiffness matrix\n",
    "def C_elas_Voigt():\n",
    "  E=206.916 # in GPa\n",
    "  nu=0.29\n",
    "  constv=E/((1+nu)*(1-2*nu))\n",
    "  C_v=constv*np.array([[1-nu,nu,0],[nu,1-nu,0],[0,0,(1-2*nu)/2.]])\n",
    "  return C_v\n",
    "C_elas_Voigt()"
   ]
  },
  {
   "cell_type": "markdown",
   "metadata": {
    "id": "dKmRMNNXpn2N"
   },
   "source": [
    "Damage evolution function from Simo and Ju (1989)\n"
   ]
  },
  {
   "cell_type": "code",
   "execution_count": 30,
   "metadata": {
    "executionInfo": {
     "elapsed": 690,
     "status": "ok",
     "timestamp": 1606246568740,
     "user": {
      "displayName": "Akhil Vijay",
      "photoUrl": "https://lh3.googleusercontent.com/a-/AOh14GhHSyQ5Bpvc5ozoqXF1uyLNP53y5lM4nzlHesg=s64",
      "userId": "16929750785847810999"
     },
     "user_tz": 300
    },
    "id": "55ZoEkIV4FDU"
   },
   "outputs": [],
   "source": [
    "#Damage evolution function from Simo adn Ju(1989)\n",
    "def dam_evol(tau_sc,tau_bar):\n",
    "  t0=0.02 #GPa^.5\n",
    "  A=0.85\n",
    "  B=2.0\n",
    "  dval=1-t0*(1-A)/tau_sc-A*np.exp(B*(t0-tau_bar))\n",
    "  return dval"
   ]
  },
  {
   "cell_type": "code",
   "execution_count": 31,
   "metadata": {
    "colab": {
     "base_uri": "https://localhost:8080/"
    },
    "executionInfo": {
     "elapsed": 685,
     "status": "ok",
     "timestamp": 1606246568740,
     "user": {
      "displayName": "Akhil Vijay",
      "photoUrl": "https://lh3.googleusercontent.com/a-/AOh14GhHSyQ5Bpvc5ozoqXF1uyLNP53y5lM4nzlHesg=s64",
      "userId": "16929750785847810999"
     },
     "user_tz": 300
    },
    "id": "8So-EolhW1-z",
    "outputId": "f59feb9b-0a54-4f3e-ec43-b19bf59bfacc"
   },
   "outputs": [
    {
     "name": "stdout",
     "output_type": "stream",
     "text": [
      "1634.5523809523809\n"
     ]
    }
   ],
   "source": [
    "E_voight1=np.array([1,-2,-3])\n",
    "C_elas1=C_elas_Voigt()\n",
    "temp1=np.dot(C_elas1,E_voight1)\n",
    "            #print(temp)\n",
    "p1phi0=np.dot(temp1,E_voight1)\n",
    "print(p1phi0)"
   ]
  },
  {
   "cell_type": "markdown",
   "metadata": {
    "id": "D3VTA76jok5e"
   },
   "source": [
    "Define Mesh"
   ]
  },
  {
   "cell_type": "code",
   "execution_count": 32,
   "metadata": {
    "executionInfo": {
     "elapsed": 678,
     "status": "ok",
     "timestamp": 1606246568741,
     "user": {
      "displayName": "Akhil Vijay",
      "photoUrl": "https://lh3.googleusercontent.com/a-/AOh14GhHSyQ5Bpvc5ozoqXF1uyLNP53y5lM4nzlHesg=s64",
      "userId": "16929750785847810999"
     },
     "user_tz": 300
    },
    "id": "t7c9VTcu2lw5"
   },
   "outputs": [],
   "source": [
    "n_node = 8\n",
    "n_elem = 5\n",
    "node_X = np.array([[0.,0.],[1.,0.],[1.,1.],[0.,1.],\n",
    "                   [0.27,0.25],[0.75,0.27],[0.73,0.75],[0.25,0.73]])\n",
    "elements = np.array([[0,1,5,4],[1,2,6,5],[2,3,7,6],[3,0,4,7],[4,5,6,7]])\n"
   ]
  },
  {
   "cell_type": "markdown",
   "metadata": {
    "id": "hzfCIGXtop25"
   },
   "source": [
    "Define integration points, always 4 for this code "
   ]
  },
  {
   "cell_type": "code",
   "execution_count": 33,
   "metadata": {
    "executionInfo": {
     "elapsed": 673,
     "status": "ok",
     "timestamp": 1606246568741,
     "user": {
      "displayName": "Akhil Vijay",
      "photoUrl": "https://lh3.googleusercontent.com/a-/AOh14GhHSyQ5Bpvc5ozoqXF1uyLNP53y5lM4nzlHesg=s64",
      "userId": "16929750785847810999"
     },
     "user_tz": 300
    },
    "id": "JrKu-F8B0Hl-"
   },
   "outputs": [],
   "source": [
    "n_ip=4 # 4 integrtion points for 4 node quads with full integration"
   ]
  },
  {
   "cell_type": "markdown",
   "metadata": {
    "id": "5jabgPoqozgd"
   },
   "source": [
    "Plot mesh"
   ]
  },
  {
   "cell_type": "code",
   "execution_count": 34,
   "metadata": {
    "colab": {
     "base_uri": "https://localhost:8080/",
     "height": 610
    },
    "executionInfo": {
     "elapsed": 1046,
     "status": "ok",
     "timestamp": 1606246569120,
     "user": {
      "displayName": "Akhil Vijay",
      "photoUrl": "https://lh3.googleusercontent.com/a-/AOh14GhHSyQ5Bpvc5ozoqXF1uyLNP53y5lM4nzlHesg=s64",
      "userId": "16929750785847810999"
     },
     "user_tz": 300
    },
    "id": "B_PelFt82lw7",
    "outputId": "998c191b-71f8-431e-94fa-01c198d80fbd"
   },
   "outputs": [
    {
     "data": {
      "text/plain": [
       "<matplotlib.collections.PatchCollection at 0x7ff616178c70>"
      ]
     },
     "execution_count": 34,
     "metadata": {},
     "output_type": "execute_result"
    },
    {
     "data": {
      "image/png": "[encoded data removed]",
      "text/plain": [
       "<Figure size 720x720 with 1 Axes>"
      ]
     },
     "metadata": {
      "needs_background": "light"
     },
     "output_type": "display_data"
    }
   ],
   "source": [
    "# plot mesh to check\n",
    "## Plot the mesh \n",
    "fig, ax = plt.subplots(figsize=(10,10))\n",
    "ax.set_xlim([-0.1, 1.1])\n",
    "ax.set_ylim([-0.1, 1.1])\n",
    "ax.set_aspect('equal')\n",
    "patches = []\n",
    "#viridis = matplotlib.cm.get_cmap('viridis', 50)\n",
    "colors = np.zeros((n_elem))\n",
    "for i in range(n_elem):\n",
    "    n1 = elements[i,0]\n",
    "    n2 = elements[i,1]\n",
    "    n3 = elements[i,2]\n",
    "    n4 = elements[i,3]\n",
    "    polygon = Polygon([node_X[n1],node_X[n2],node_X[n3],node_X[n4]], closed=True)\n",
    "    patches.append(polygon)\n",
    "    colors[i] = 100.\n",
    "p = PatchCollection(patches)\n",
    "p.set_array(colors)\n",
    "ax.add_collection(p)"
   ]
  },
  {
   "cell_type": "code",
   "execution_count": 35,
   "metadata": {
    "executionInfo": {
     "elapsed": 1040,
     "status": "ok",
     "timestamp": 1606246569120,
     "user": {
      "displayName": "Akhil Vijay",
      "photoUrl": "https://lh3.googleusercontent.com/a-/AOh14GhHSyQ5Bpvc5ozoqXF1uyLNP53y5lM4nzlHesg=s64",
      "userId": "16929750785847810999"
     },
     "user_tz": 300
    },
    "id": "gfSPP_kHzq37"
   },
   "outputs": [],
   "source": [
    "#Define the damage variables at IP\n",
    "damage=np.zeros([n_elem,n_ip])\n",
    "dmax=0.99"
   ]
  },
  {
   "cell_type": "markdown",
   "metadata": {
    "id": "SlDNYnnw2lxC"
   },
   "source": [
    " Compute the element residual and tangent and assemble into global residual and tangent\n",
    "\n"
   ]
  },
  {
   "cell_type": "code",
   "execution_count": 56,
   "metadata": {
    "executionInfo": {
     "elapsed": 1398,
     "status": "ok",
     "timestamp": 1606246569482,
     "user": {
      "displayName": "Akhil Vijay",
      "photoUrl": "https://lh3.googleusercontent.com/a-/AOh14GhHSyQ5Bpvc5ozoqXF1uyLNP53y5lM4nzlHesg=s64",
      "userId": "16929750785847810999"
     },
     "user_tz": 300
    },
    "id": "F-4Aekga2lxD"
   },
   "outputs": [],
   "source": [
    "# putting it inside a function\n",
    "def assembleRRKK(damage):\n",
    "    # assemble total residual \n",
    "    RR = np.zeros((n_node*2))\n",
    "    # assemble the total tangent \n",
    "    KK = np.zeros((n_node*2,n_node*2))\n",
    "    #Define damage vector\n",
    "    damagevec=np.zeros([n_elem,n_ip])\n",
    "    # loop over elements\n",
    "    for ei in range(n_elem): \n",
    "        # initialize the residual for this element\n",
    "        Re = np.zeros((8))\n",
    "        # initialize the tangent for this element\n",
    "        Ke = np.zeros((8,8))\n",
    "\n",
    "        # nodes that make up this element \n",
    "        node_ei = elements[ei]\n",
    "        # reference coordinates of the nodes making up this element (init to zero, fill in a loop)\n",
    "        node_X_ei = np.zeros((4,2))\n",
    "        # deformed coordinates of the nodes making up this element (init to zero, fill in a loop)\n",
    "        node_x_ei = np.zeros((4,2))\n",
    "        for ni in range(4):\n",
    "            node_X_ei[ni] = node_X[node_ei[ni]]\n",
    "            node_x_ei[ni] = node_x[node_ei[ni]]\n",
    "\n",
    "        # also, do a proper integration with four integration points \n",
    "        # Loop over integration points\n",
    "        # location and weight of integration points \n",
    "        IP_xi = np.array([[-1./np.sqrt(3),-1./np.sqrt(3)],[+1./np.sqrt(3),-1./np.sqrt(3)],\\\n",
    "                          [+1./np.sqrt(3),+1./np.sqrt(3)],[-1./np.sqrt(3),+1./np.sqrt(3)]])\n",
    "        IP_wi = np.array([1.,1.,1.,1.])\n",
    "        for ip in range(4):\n",
    "            xi  = IP_xi[ip,0]\n",
    "            eta = IP_xi[ip,1]\n",
    "            wi = IP_wi[ip]\n",
    "            # eval shape functions \n",
    "            Ns = Nvec(xi,eta)\n",
    "            # eval the isoparametric map for the reference and deformed points corresponding to xi,eta = 0\n",
    "            X = np.zeros((2))\n",
    "            x = np.zeros((2))\n",
    "            for ni in range(4):\n",
    "                X += Ns[ni]*node_X_ei[ni]\n",
    "                x += Ns[ni]*node_x_ei[ni]\n",
    "\n",
    "            # evaluate the Jacobians, first derivative of shape functions with respect to xi space then Jacobians \n",
    "            dNsdxi = dNvecdxi(xi,eta)\n",
    "            dXdxi = np.zeros((2,2))\n",
    "            dxdxi = np.zeros((2,2))\n",
    "            for ni in range(4):\n",
    "                dXdxi += np.outer(node_X_ei[ni],dNsdxi[:,ni])\n",
    "                dxdxi += np.outer(node_x_ei[ni],dNsdxi[:,ni])\n",
    "\n",
    "            # get gradient of basis function with respect to X using inverse jacobian \n",
    "            JinvT = np.linalg.inv(dXdxi).transpose()\n",
    "            dNsdX = np.dot(JinvT,dNsdxi)\n",
    "\n",
    "            # get gradient of basis function with respect to x using inverse jacobian, the other one \n",
    "            jinvT = np.linalg.inv(dxdxi).transpose()\n",
    "            dNsdx = np.dot(jinvT,dNsdxi)\n",
    "\n",
    "            # get the deformation gradient \n",
    "            F = np.zeros((2,2))\n",
    "            grad_u= np.zeros((2,2))\n",
    "            for ni in range(4):\n",
    "                F += np.outer(node_x_ei[ni],dNsdX[:,ni])\n",
    "                ## SMALL STRAIN IS GRADIENT OF U WITH RESPECT TO DEFORMED COORDINATES\n",
    "                grad_u += np.outer(node_x_ei[ni]-node_X_ei[ni],dNsdx[:,ni])\n",
    "            # compute the Green lagrange tensor E\n",
    "            detF = np.linalg.det(F)\n",
    "            b = np.dot(F,F.transpose())\n",
    "            \n",
    "            #print(e)\n",
    "            #e = 0.5*(np.eye(2)-np.linalg.inv(b)) # Almansi\n",
    "            #e = 0.5*(F+F.transpose())-np.eye(2) #linearized strain variation\n",
    "            \n",
    "            ## LINEARIZED STRAIN\n",
    "            e = 0.5*(grad_u + grad_u.transpose())\n",
    "            #print(e)\n",
    "            #Compute the elastic component of the tangent matrix\n",
    "            C_elas=C_elas_Voigt()\n",
    "\n",
    "            # Damage calulation \n",
    "            #Calculate tau\n",
    "            \n",
    "            # CHANGING THIS\n",
    "            e_voight=np.array([e[0,0],e[1,1],2*e[0,1]])\n",
    "            \n",
    "            dam=damage[ei,ip]\n",
    "            tau=1.0\n",
    "            rundam=0\n",
    "            if rundam==1:\n",
    "              temp=np.dot(C_elas,e_voight)\n",
    "              #print(temp)\n",
    "              phi0=np.dot(e_voight,temp)\n",
    "              #print(phi0)\n",
    "              tau_bar=np.sqrt(2*phi0)\n",
    "              \n",
    "              tau=tau_bar*(1-dam)\n",
    "              #print(tau)\n",
    "              if dam<dmax:\n",
    "                dam= dam_evol(tau,tau_bar)\n",
    "              else:\n",
    "                dam= dmax\n",
    "              #limit the damage to dmax=0.99\n",
    "              if dam<0:\n",
    "               dam= 0.0\n",
    "              print(dam)\n",
    "              \n",
    "            ## THE STRESS IS DIRECTLY COMPUTED FROM C_ELASTIC\n",
    "            # changed to np.dot\n",
    "            sigma_voight=(1-dam)*np.dot(C_elas,e_voight)\n",
    "            sigma=np.array([[sigma_voight[0],sigma_voight[2]],[sigma_voight[2],sigma_voight[1]]])\n",
    "            \n",
    "            damagevec[ei,ip]=dam\n",
    "\n",
    "            # compute the variation of the symmetric velocity gradient by moving one node and one component\n",
    "            # of that node at a time, except if the node is on the boundary in which case no variation is allowed\n",
    "            for ni in range(4):\n",
    "                for ci in range(2):\n",
    "                    deltav = np.zeros((2))\n",
    "                    # note, no worries about the boundary because we will get rid of the corresponding rows\n",
    "                    # of the residual because they wont be zero \n",
    "                    deltav[ci] = 1 #0.01\n",
    "                    gradx_v = np.outer(deltav,dNsdx[:,ni])\n",
    "                    deltad = 0.5*(gradx_v + gradx_v.transpose())\n",
    "                    Re[ni*2+ci] += wi*np.linalg.det(dxdxi)*np.tensordot(sigma,deltad)\n",
    "\n",
    "                    # ASSEMBLE INTO GLOBAL RESIDUAL (I didn't ask for this)\n",
    "                    RR[node_ei[ni]*2+ci] += wi*np.linalg.det(dxdxi)*np.tensordot(sigma,deltad)\n",
    "                    \n",
    "                    ## 2 more for loops for the increment Delta u\n",
    "                    for nj in range(4):\n",
    "                        for cj in range(2):\n",
    "                            Deltau = np.zeros((2))\n",
    "                            Deltau[cj]=1\n",
    "                            gradx_Du = np.outer(Deltau,dNsdx[:,nj])\n",
    "                            Deltaeps = 0.5*(gradx_Du + gradx_Du.transpose())\n",
    "                            \n",
    "                            ## ELEMENT TANGENT\n",
    "                            # Initial stress component (also called geometric component) is \n",
    "                            # sigma: (gradDeltau^T gradv)\n",
    "                            Kgeom = np.tensordot(sigma,np.dot(gradx_Du.transpose(),gradx_v))\n",
    "                            # Material component, need to put things in voigt notation for easy computation\n",
    "                            deltad_voigt = np.array([deltad[0,0],deltad[1,1],2*deltad[0,1]])\n",
    "                            \n",
    "                            Deltaeps_voigt = np.array([Deltaeps[0,0],Deltaeps[1,1],2*Deltaeps[0,1]])\n",
    "                            \n",
    "                            sigsig_voigt=np.array([[sigma[0,0]*sigma[0,0],sigma[0,0]*sigma[1,1], sigma[0,0]*sigma[0,1]],\\\n",
    "                                                   [sigma[0,0]*sigma[1,1],sigma[1,1]*sigma[1,1], sigma[1,1]*sigma[0,1]],\\\n",
    "                                                   [sigma[0,0]*sigma[0,1],sigma[1,1]*sigma[0,1], sigma[0,1]*sigma[0,1]]])\n",
    "                            \n",
    "                            D = (1-dam)*C_elas-dam/tau*sigsig_voigt\n",
    "                            #print(D)\n",
    "                            Kmat = np.dot(Deltaeps_voigt,np.dot(D,deltad_voigt))\n",
    "                            \n",
    "                            # add to the corresponding entry in Ke and dont forget other parts of integral\n",
    "                            Ke[ni*2+ci,nj*2+cj] += wi*np.linalg.det(dxdxi)*(Kgeom+Kmat)\n",
    "                            # assemble into global \n",
    "                            KK[node_ei[ni]*2+ci,node_ei[nj]*2+cj] += wi*np.linalg.det(dxdxi)*(Kgeom+Kmat)\n",
    "                            \n",
    "    return RR,KK,damagevec\n",
    "                            \n",
    "        "
   ]
  },
  {
   "cell_type": "markdown",
   "metadata": {
    "id": "bpQYsHkZpdW1"
   },
   "source": [
    "Define the EBC"
   ]
  },
  {
   "cell_type": "code",
   "execution_count": 57,
   "metadata": {
    "colab": {
     "base_uri": "https://localhost:8080/"
    },
    "executionInfo": {
     "elapsed": 1394,
     "status": "ok",
     "timestamp": 1606246569483,
     "user": {
      "displayName": "Akhil Vijay",
      "photoUrl": "https://lh3.googleusercontent.com/a-/AOh14GhHSyQ5Bpvc5ozoqXF1uyLNP53y5lM4nzlHesg=s64",
      "userId": "16929750785847810999"
     },
     "user_tz": 300
    },
    "id": "ra_k8A3K2lxF",
    "outputId": "817abbe9-4a47-4e3c-aafe-c5bdaad541e0"
   },
   "outputs": [
    {
     "name": "stdout",
     "output_type": "stream",
     "text": [
      "[6 4 3 2 1 0]\n",
      "[[0.   0.  ]\n",
      " [1.01 0.  ]\n",
      " [1.01 1.  ]\n",
      " [0.   1.  ]\n",
      " [0.27 0.25]\n",
      " [0.75 0.27]\n",
      " [0.73 0.75]\n",
      " [0.25 0.73]]\n"
     ]
    }
   ],
   "source": [
    "# apply the deformation to all the boundary nodes in the mesh, for the rest just keep original coords\n",
    "node_x = np.zeros(node_X.shape)\n",
    "bc_deactivate=[]\n",
    "for i in range(n_node):\n",
    "    X = node_X[i]\n",
    "    # first initialize with the same as original\n",
    "    node_x[i] = X\n",
    "    # but then apply boundary conditions\n",
    "    if X[0]==0.0:\n",
    "      if X[1]==0.0:  #left bottom -pin node\n",
    "        node_x[i,0] = X[0]\n",
    "        node_x[i,1] = X[1]\n",
    "        bc_deactivate.append(2*i)\n",
    "        bc_deactivate.append(2*i+1)\n",
    "      else:  #left surface nodes- pin only X direction\n",
    "        node_x[i,0] = X[0]\n",
    "        bc_deactivate.append(2*i)\n",
    "    elif X[0]==1.0: #right\n",
    "      if X[1]==0.0:  #right bottom -pin Y, move X\n",
    "        node_x[i,0] = 1.01\n",
    "        node_x[i,1] = X[1]\n",
    "        bc_deactivate.append(2*i)\n",
    "        bc_deactivate.append(2*i+1)\n",
    "      else:\n",
    "        node_x[i,0] = 1.01 #only move X\n",
    "        bc_deactivate.append(2*i)\n",
    "    #if X[1]>0.9999: \n",
    "    #    node_x[i,1] = 0.98\n",
    "    #    bc_deactivate.append(2*i+1)\n",
    "bc_deactivate=np.flip(np.unique(bc_deactivate))\n",
    "print(bc_deactivate)\n",
    "print(node_x)"
   ]
  },
  {
   "cell_type": "code",
   "execution_count": 58,
   "metadata": {
    "colab": {
     "base_uri": "https://localhost:8080/",
     "height": 342
    },
    "executionInfo": {
     "elapsed": 1544,
     "status": "ok",
     "timestamp": 1606246569638,
     "user": {
      "displayName": "Akhil Vijay",
      "photoUrl": "https://lh3.googleusercontent.com/a-/AOh14GhHSyQ5Bpvc5ozoqXF1uyLNP53y5lM4nzlHesg=s64",
      "userId": "16929750785847810999"
     },
     "user_tz": 300
    },
    "id": "NMLcKJrXeT-n",
    "outputId": "bba7de6c-0784-44e3-9337-7dce80e9d3d7"
   },
   "outputs": [
    {
     "data": {
      "text/plain": [
       "<matplotlib.collections.PatchCollection at 0x7ff616a5f9a0>"
      ]
     },
     "execution_count": 58,
     "metadata": {},
     "output_type": "execute_result"
    },
    {
     "data": {
      "image/png": "[encoded data removed]",
      "text/plain": [
       "<Figure size 360x360 with 1 Axes>"
      ]
     },
     "metadata": {
      "needs_background": "light"
     },
     "output_type": "display_data"
    }
   ],
   "source": [
    "# plot mesh to check bc\n",
    "## Plot the mesh \n",
    "fig, ax = plt.subplots(figsize=(5,5))\n",
    "ax.set_xlim([-0.1, 1.2])\n",
    "ax.set_ylim([-0.1, 1.2])\n",
    "ax.set_aspect('equal')\n",
    "patches = []\n",
    "#viridis = matplotlib.cm.get_cmap('viridis', 50)\n",
    "colors = np.zeros((n_elem))\n",
    "for i in range(n_elem):\n",
    "    n1 = elements[i,0]\n",
    "    n2 = elements[i,1]\n",
    "    n3 = elements[i,2]\n",
    "    n4 = elements[i,3]\n",
    "    polygon = Polygon([node_x[n1],node_x[n2],node_x[n3],node_x[n4]], closed=True)\n",
    "    patches.append(polygon)\n",
    "    colors[i] = 100.\n",
    "p = PatchCollection(patches)\n",
    "p.set_array(colors)\n",
    "ax.add_collection(p)"
   ]
  },
  {
   "cell_type": "code",
   "execution_count": 59,
   "metadata": {
    "colab": {
     "base_uri": "https://localhost:8080/"
    },
    "executionInfo": {
     "elapsed": 12104,
     "status": "ok",
     "timestamp": 1606246580204,
     "user": {
      "displayName": "Akhil Vijay",
      "photoUrl": "https://lh3.googleusercontent.com/a-/AOh14GhHSyQ5Bpvc5ozoqXF1uyLNP53y5lM4nzlHesg=s64",
      "userId": "16929750785847810999"
     },
     "user_tz": 300
    },
    "id": "L5_ARuC_2lxH",
    "outputId": "ed3eafe7-880b-4e75-8d06-d6d34c446b10"
   },
   "outputs": [
    {
     "name": "stdout",
     "output_type": "stream",
     "text": [
      "iter 1\n",
      "6.304532970480475\n",
      "iter 2\n",
      "0.203026782408587\n",
      "iter 3\n",
      "0.003726568313348745\n",
      "iter 4\n",
      "6.83138998544196e-05\n",
      "iter 5\n",
      "1.2755024052512641e-06\n"
     ]
    }
   ],
   "source": [
    "## Newton Raphson \n",
    "res = 1\n",
    "iter = 0\n",
    "tol = 1e-5\n",
    "itermax = 100\n",
    "#Define time loop for loading\n",
    "damage=np.zeros([n_elem,n_ip])\n",
    "\n",
    "\n",
    "\n",
    "while res>tol and iter<itermax:\n",
    "    RR,KK,damage_new = assembleRRKK(damage);\n",
    "    # for the increment not all of the KK is needed\n",
    "    #print(RR)\n",
    "    RRdof = np.delete(RR,bc_deactivate,axis=0)\n",
    "    KKdof = np.delete(KK,bc_deactivate,axis=1)\n",
    "    KKdof = np.delete(KKdof,bc_deactivate,axis=0)\n",
    "    #print(bc_deactivate)\n",
    "    #print(RRdof)\n",
    "\n",
    "    #print(KKdof.shape)\n",
    "    res = np.linalg.norm(RRdof)\n",
    "    #print(KKdof)\n",
    "    incr_u = -np.linalg.solve(KKdof,RRdof)\n",
    "    #print(incr_u.shape)\n",
    "    #print(len(node_x))\n",
    "\n",
    "    # and only some of the nodes need this increment\n",
    "    ctr=0\n",
    "    for jj in range(n_node):\n",
    "      temp1=2*jj  #the x disp\n",
    "      temp2=2*jj+1 #the y disp\n",
    "      if temp1 in bc_deactivate:\n",
    "        ;\n",
    "      else:\n",
    "        node_x[jj,0] += incr_u[ctr]\n",
    "        ctr+=1;        \n",
    "      if temp2 in bc_deactivate:\n",
    "        ;\n",
    "      else:\n",
    "        node_x[jj,1] += incr_u[ctr]\n",
    "        ctr+=1;        \n",
    "    #print('ctr %i'%ctr)\n",
    "    iter +=1\n",
    "    print('iter %i'%iter)\n",
    "    print(res)\n",
    "    #print(incr_u)\n",
    "    #print(node_x)\n",
    "    #print(damage)\n",
    "    #print(RRdof)\n",
    "    #print(RR)\n",
    "\n",
    "\n"
   ]
  },
  {
   "cell_type": "code",
   "execution_count": 40,
   "metadata": {
    "colab": {
     "base_uri": "https://localhost:8080/"
    },
    "executionInfo": {
     "elapsed": 12571,
     "status": "ok",
     "timestamp": 1606246580677,
     "user": {
      "displayName": "Akhil Vijay",
      "photoUrl": "https://lh3.googleusercontent.com/a-/AOh14GhHSyQ5Bpvc5ozoqXF1uyLNP53y5lM4nzlHesg=s64",
      "userId": "16929750785847810999"
     },
     "user_tz": 300
    },
    "id": "BdVt21vqBydM",
    "outputId": "6543fb8e-fcad-46b0-bf96-68e8511312e1"
   },
   "outputs": [
    {
     "name": "stdout",
     "output_type": "stream",
     "text": [
      "[[0.   0.  ]\n",
      " [1.   0.  ]\n",
      " [1.   1.  ]\n",
      " [0.   1.  ]\n",
      " [0.27 0.25]\n",
      " [0.75 0.27]\n",
      " [0.73 0.75]\n",
      " [0.25 0.73]]\n",
      "[[0.         0.        ]\n",
      " [1.01       0.        ]\n",
      " [1.01       0.99405823]\n",
      " [0.         1.00594177]\n",
      " [0.27276617 0.25049618]\n",
      " [0.75754765 0.26888169]\n",
      " [0.73736639 0.74776444]\n",
      " [0.25254698 0.73185105]]\n"
     ]
    }
   ],
   "source": [
    "print(node_X)\n",
    "print(node_x)\n"
   ]
  },
  {
   "cell_type": "code",
   "execution_count": 41,
   "metadata": {
    "colab": {
     "base_uri": "https://localhost:8080/"
    },
    "executionInfo": {
     "elapsed": 12567,
     "status": "ok",
     "timestamp": 1606246580678,
     "user": {
      "displayName": "Akhil Vijay",
      "photoUrl": "https://lh3.googleusercontent.com/a-/AOh14GhHSyQ5Bpvc5ozoqXF1uyLNP53y5lM4nzlHesg=s64",
      "userId": "16929750785847810999"
     },
     "user_tz": 300
    },
    "id": "bl_-IsWz4IU2",
    "outputId": "a9ad5ad4-45ea-40af-d090-9cb2b850df00"
   },
   "outputs": [
    {
     "data": {
      "text/plain": [
       "array([[0., 0., 0., 0.],\n",
       "       [0., 0., 0., 0.],\n",
       "       [0., 0., 0., 0.],\n",
       "       [0., 0., 0., 0.],\n",
       "       [0., 0., 0., 0.]])"
      ]
     },
     "execution_count": 41,
     "metadata": {},
     "output_type": "execute_result"
    }
   ],
   "source": [
    "damage_new"
   ]
  },
  {
   "cell_type": "code",
   "execution_count": 42,
   "metadata": {
    "colab": {
     "base_uri": "https://localhost:8080/",
     "height": 693
    },
    "executionInfo": {
     "elapsed": 12698,
     "status": "ok",
     "timestamp": 1606246580815,
     "user": {
      "displayName": "Akhil Vijay",
      "photoUrl": "https://lh3.googleusercontent.com/a-/AOh14GhHSyQ5Bpvc5ozoqXF1uyLNP53y5lM4nzlHesg=s64",
      "userId": "16929750785847810999"
     },
     "user_tz": 300
    },
    "id": "u9ekZ_8wdgEJ",
    "outputId": "768141c8-5c45-4ac2-a4e4-580af16d182e"
   },
   "outputs": [
    {
     "name": "stdout",
     "output_type": "stream",
     "text": [
      "[ 2.6672204  -0.12812187 -0.        ] 0.0\n",
      "[ 2.6101826  -0.53988233 -0.        ] 0.0\n",
      "[ 2.65951103  0.12744434 -0.        ] 0.0\n",
      "[ 2.72256414  0.53208638 -0.        ] 0.0\n",
      "[ 2.66694700e+00  7.72490158e-06 -0.00000000e+00] 0.0\n"
     ]
    },
    {
     "data": {
      "text/plain": [
       "<matplotlib.colorbar.Colorbar at 0x7ff6166dcd30>"
      ]
     },
     "execution_count": 42,
     "metadata": {},
     "output_type": "execute_result"
    },
    {
     "data": {
      "image/png": "[encoded data removed]",
      "text/plain": [
       "<Figure size 720x720 with 2 Axes>"
      ]
     },
     "metadata": {
      "needs_background": "light"
     },
     "output_type": "display_data"
    }
   ],
   "source": [
    "## Plot the deformed mesh, evaluate the stress at the center\n",
    "fig, ax = plt.subplots(figsize=(10,10))\n",
    "ax.set_xlim([-0.1, 1.5])\n",
    "ax.set_ylim([-0.1, 1.1])\n",
    "ax.set_aspect('equal')\n",
    "patches = []\n",
    "#viridis = matplotlib.cm.get_cmap('viridis', 50)\n",
    "colors = np.zeros((n_elem))\n",
    "for i in range(n_elem):\n",
    "    n1 = elements[i,0]\n",
    "    n2 = elements[i,1]\n",
    "    n3 = elements[i,2]\n",
    "    n4 = elements[i,3]\n",
    "    polygon = Polygon([node_x[n1],node_x[n2],node_x[n3],node_x[n4]], closed=True)\n",
    "    patches.append(polygon)\n",
    "    # compute stress at center \n",
    "    xi  = 0\n",
    "    eta = 0\n",
    "    # eval shape functions \n",
    "    Ns = Nvec(xi,eta)\n",
    "    # eval the isoparametric map \n",
    "    X = Ns[0]*node_X[n1]+Ns[1]*node_X[n2]+Ns[2]*node_X[n3]+Ns[3]*node_X[n4]\n",
    "    X = Ns[0]*node_x[n1]+Ns[1]*node_x[n2]+Ns[2]*node_x[n3]+Ns[3]*node_x[n4]\n",
    "    # evaluate the Jacobians, first derivative of shape functions with respect to xi space then Jacobians \n",
    "    dNsdxi = dNvecdxi(xi,eta)\n",
    "    dXdxi = np.outer(node_X[n1],dNsdxi[:,0])+np.outer(node_X[n2],dNsdxi[:,1])\\\n",
    "            +np.outer(node_X[n3],dNsdxi[:,2])+np.outer(node_X[n4],dNsdxi[:,3])\n",
    "    dxdxi = np.outer(node_x[n1],dNsdxi[:,0])+np.outer(node_x[n2],dNsdxi[:,1])\\\n",
    "            +np.outer(node_x[n3],dNsdxi[:,2])+np.outer(node_x[n4],dNsdxi[:,3])\n",
    "    # get gradient of basis function with respect to X using inverse jacobian \n",
    "    JinvT = np.linalg.inv(dXdxi).transpose()\n",
    "    dNsdX = np.dot(JinvT,dNsdxi)\n",
    "    # get gradient of basis function with respect to x using inverse jacobian, the other one \n",
    "    jinvT = np.linalg.inv(dxdxi).transpose()\n",
    "    dNsdx = np.dot(jinvT,dNsdxi)\n",
    "    # get the deformation gradient \n",
    "    F = np.outer(node_x[n1],dNsdX[:,0])+np.outer(node_x[n2],dNsdX[:,1])\\\n",
    "        +np.outer(node_x[n3],dNsdX[:,2])+np.outer(node_x[n4],dNsdX[:,3])\n",
    "    detF = np.linalg.det(F)\n",
    "    b = np.dot(F,F.transpose())\n",
    "    e = 0.5*(np.eye(len(b))-np.linalg.inv(b))\n",
    "    E_voight=np.array([e[0,0],e[1,1],e[0,1]])\n",
    "    dam = damage_new[i,1]\n",
    "    sigma_voight=(1-dam)*C_elas_Voigt()*E_voight\n",
    "    print(sigma_voight[0],dam)\n",
    "    colors[i] = dam\n",
    "p = PatchCollection(patches)\n",
    "p.set_array(colors)\n",
    "ax.add_collection(p)\n",
    "p.set_clim([0, 1])\n",
    "plt.colorbar(p,ax=ax)"
   ]
  },
  {
   "cell_type": "code",
   "execution_count": null,
   "metadata": {},
   "outputs": [],
   "source": []
  }
 ],
 "metadata": {
  "colab": {
   "collapsed_sections": [],
   "name": "Elastic_Damage-V3-NO_TIME_LOOP.ipynb",
   "provenance": []
  },
  "kernelspec": {
   "display_name": "Python 3",
   "language": "python",
   "name": "python3"
  },
  "language_info": {
   "codemirror_mode": {
    "name": "ipython",
    "version": 3
   },
   "file_extension": ".py",
   "mimetype": "text/x-python",
   "name": "python",
   "nbconvert_exporter": "python",
   "pygments_lexer": "ipython3",
   "version": "3.8.3"
  }
 },
 "nbformat": 4,
 "nbformat_minor": 1
}
