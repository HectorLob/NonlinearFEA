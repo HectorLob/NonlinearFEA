{
 "cells": [
  {
   "cell_type": "code",
   "execution_count": 1,
   "metadata": {},
   "outputs": [],
   "source": [
    "import numpy as np\n",
    "from numpy import * \n",
    "%matplotlib inline\n",
    "import matplotlib.pyplot as plt\n",
    "from matplotlib import animation, rc, patches\n",
    "from mpl_toolkits.mplot3d import Axes3D\n",
    "from IPython.display import HTML"
   ]
  },
  {
   "cell_type": "markdown",
   "metadata": {},
   "source": [
    "### Forward Euler"
   ]
  },
  {
   "cell_type": "code",
   "execution_count": 28,
   "metadata": {},
   "outputs": [],
   "source": [
    "# parameters for the model \n",
    "E = 10 # modulus of Maxwell branch \n",
    "eta = 1 # viscosity of Maxwell branch \n",
    "Einf = 10 # modulus of elastic branch \n",
    "\n",
    "# initial condition for internal variable \n",
    "epsilon_eta_s = 0 \n",
    "\n",
    "# loading history is going to be ramp loading, then wait, then unload \n",
    "# for time integration\n",
    "n_t = 100\n",
    "dt = 0.1\n",
    "epsilon_vec = np.zeros((n_t))\n",
    "epsilon_eta_vec = np.zeros((n_t))\n",
    "sigma_vec = np.zeros((n_t))\n",
    "time_vec = np.zeros((n_t))\n",
    "\n",
    "# time integration \n",
    "for i in range(n_t):\n",
    "    # strain history is pre-determined \n",
    "    if i<33:\n",
    "        # for the first third increase linearly the total strain to 0.2\n",
    "        epsilon = 0.2*i/33\n",
    "    elif i<=66:\n",
    "        # for the second third keep at 0.2 \n",
    "        epsilon = 0.2\n",
    "    else:\n",
    "        # for the last third unload but not to zero strain\n",
    "        epsilon = 0.1+0.1*(n_t-i)/33\n",
    "    # FORWARD euler \n",
    "    epsilon_M_s = epsilon - epsilon_eta_s\n",
    "    sigma_M_s = E*epsilon_M_s\n",
    "    epsilon_eta_s1 = epsilon_eta_s + dt*sigma_M_s/E/eta\n",
    "    # compute total stress\n",
    "    sigma_M_s1 = E*(epsilon - epsilon_eta_s1)\n",
    "    sigma = sigma_M_s1 + Einf*epsilon\n",
    "    # store \n",
    "    epsilon_vec[i] = epsilon\n",
    "    epsilon_eta_vec[i] = epsilon_eta_s1\n",
    "    sigma_vec[i] = sigma\n",
    "    time_vec[i] = i*dt\n",
    "    # reset for next time step\n",
    "    epsilon_eta_s = epsilon_eta_s1"
   ]
  },
  {
   "cell_type": "code",
   "execution_count": 45,
   "metadata": {},
   "outputs": [
    {
     "data": {
      "image/png": "[encoded data removed]",
      "text/plain": [
       "<Figure size 216x216 with 1 Axes>"
      ]
     },
     "metadata": {
      "needs_background": "light"
     },
     "output_type": "display_data"
    }
   ],
   "source": [
    "fig = plt.figure(figsize=(3,3))\n",
    "plt.plot(time_vec,epsilon_vec,color='k',lw=2)\n",
    "plt.xlabel('time')\n",
    "plt.ylabel(r'strain $\\varepsilon$')\n",
    "plt.tight_layout()\n",
    "plt.savefig('images/strain_time_SLS.png',dpi=200)"
   ]
  },
  {
   "cell_type": "code",
   "execution_count": 46,
   "metadata": {},
   "outputs": [
    {
     "data": {
      "image/png": "[encoded data removed]",
      "text/plain": [
       "<Figure size 216x216 with 1 Axes>"
      ]
     },
     "metadata": {
      "needs_background": "light"
     },
     "output_type": "display_data"
    }
   ],
   "source": [
    "fig = plt.figure(figsize=(3,3))\n",
    "plt.plot(time_vec,sigma_vec,color='k',lw=2)\n",
    "plt.xlabel('time')\n",
    "plt.ylabel(r'stress $\\sigma$')\n",
    "plt.tight_layout()\n",
    "plt.savefig('images/stress_time_SLS.png',dpi=200)"
   ]
  },
  {
   "cell_type": "code",
   "execution_count": 47,
   "metadata": {},
   "outputs": [
    {
     "data": {
      "image/png": "[encoded data removed]",
      "text/plain": [
       "<Figure size 216x216 with 1 Axes>"
      ]
     },
     "metadata": {
      "needs_background": "light"
     },
     "output_type": "display_data"
    }
   ],
   "source": [
    "fig = plt.figure(figsize=(3,3))\n",
    "plt.plot(epsilon_vec,sigma_vec,color='k',lw=2)\n",
    "plt.xlabel(r'strain $\\varepsilon$')\n",
    "plt.ylabel(r'stress $\\sigma$')\n",
    "plt.tight_layout()\n",
    "plt.savefig('images/stress_strain_SLS.png',dpi=200)"
   ]
  },
  {
   "cell_type": "markdown",
   "metadata": {},
   "source": [
    "### Backward Euler"
   ]
  },
  {
   "cell_type": "code",
   "execution_count": 48,
   "metadata": {},
   "outputs": [
    {
     "name": "stdout",
     "output_type": "stream",
     "text": [
      "local NR iter =  1 , res =  0.0\n",
      "local NR iter =  2 , res =  0.0\n",
      "local NR iter =  2 , res =  2.168404344971009e-19\n",
      "local NR iter =  2 , res =  0.0\n",
      "local NR iter =  2 , res =  6.505213034913027e-19\n",
      "local NR iter =  2 , res =  0.0\n",
      "local NR iter =  2 , res =  1.3010426069826053e-18\n",
      "local NR iter =  2 , res =  4.336808689942018e-19\n",
      "local NR iter =  2 , res =  8.673617379884035e-19\n",
      "local NR iter =  2 , res =  2.168404344971009e-18\n",
      "local NR iter =  2 , res =  0.0\n",
      "local NR iter =  2 , res =  1.734723475976807e-18\n",
      "local NR iter =  2 , res =  1.734723475976807e-18\n",
      "local NR iter =  2 , res =  1.734723475976807e-18\n",
      "local NR iter =  2 , res =  8.673617379884035e-19\n",
      "local NR iter =  2 , res =  1.734723475976807e-18\n",
      "local NR iter =  2 , res =  4.336808689942018e-18\n",
      "local NR iter =  2 , res =  3.469446951953614e-18\n",
      "local NR iter =  2 , res =  2.6020852139652106e-18\n",
      "local NR iter =  2 , res =  5.204170427930421e-18\n",
      "local NR iter =  2 , res =  4.336808689942018e-18\n",
      "local NR iter =  2 , res =  2.6020852139652106e-18\n",
      "local NR iter =  2 , res =  7.806255641895632e-18\n",
      "local NR iter =  2 , res =  3.469446951953614e-18\n",
      "local NR iter =  2 , res =  1.734723475976807e-18\n",
      "local NR iter =  2 , res =  2.6020852139652106e-18\n",
      "local NR iter =  2 , res =  1.734723475976807e-18\n",
      "local NR iter =  2 , res =  2.6020852139652106e-18\n",
      "local NR iter =  2 , res =  3.469446951953614e-18\n",
      "local NR iter =  2 , res =  6.938893903907228e-18\n",
      "local NR iter =  2 , res =  4.336808689942018e-18\n",
      "local NR iter =  2 , res =  0.0\n",
      "local NR iter =  2 , res =  8.673617379884035e-18\n",
      "local NR iter =  2 , res =  2.6020852139652106e-18\n",
      "local NR iter =  2 , res =  1.1275702593849246e-17\n",
      "local NR iter =  2 , res =  2.6020852139652106e-18\n",
      "local NR iter =  2 , res =  1.3877787807814457e-17\n",
      "local NR iter =  2 , res =  0.0\n",
      "local NR iter =  2 , res =  8.239936510889834e-18\n",
      "local NR iter =  2 , res =  5.637851296924623e-18\n",
      "local NR iter =  2 , res =  1.3877787807814457e-17\n",
      "local NR iter =  2 , res =  1.3877787807814457e-17\n",
      "local NR iter =  2 , res =  5.637851296924623e-18\n",
      "local NR iter =  2 , res =  2.6020852139652106e-18\n",
      "local NR iter =  2 , res =  5.637851296924623e-18\n",
      "local NR iter =  2 , res =  1.3877787807814457e-17\n",
      "local NR iter =  2 , res =  5.637851296924623e-18\n",
      "local NR iter =  2 , res =  1.1058862159352145e-17\n",
      "local NR iter =  2 , res =  0.0\n",
      "local NR iter =  2 , res =  2.8189256484623115e-18\n",
      "local NR iter =  2 , res =  5.637851296924623e-18\n",
      "local NR iter =  2 , res =  2.8189256484623115e-18\n",
      "local NR iter =  2 , res =  5.5294310796760726e-18\n",
      "local NR iter =  2 , res =  1.1058862159352145e-17\n",
      "local NR iter =  2 , res =  8.348356728138384e-18\n",
      "local NR iter =  2 , res =  2.8189256484623115e-18\n",
      "local NR iter =  2 , res =  1.3877787807814457e-17\n",
      "local NR iter =  2 , res =  1.3877787807814457e-17\n",
      "local NR iter =  2 , res =  2.8189256484623115e-18\n",
      "local NR iter =  2 , res =  5.5294310796760726e-18\n",
      "local NR iter =  2 , res =  2.7647155398380363e-18\n",
      "local NR iter =  2 , res =  1.3877787807814457e-17\n",
      "local NR iter =  2 , res =  8.348356728138384e-18\n",
      "local NR iter =  2 , res =  1.3877787807814457e-17\n",
      "local NR iter =  2 , res =  8.348356728138384e-18\n",
      "local NR iter =  2 , res =  1.111307226797642e-17\n",
      "local NR iter =  2 , res =  1.3877787807814457e-17\n",
      "local NR iter =  2 , res =  5.55653613398821e-18\n",
      "local NR iter =  2 , res =  8.321251673826247e-18\n",
      "local NR iter =  2 , res =  1.111307226797642e-17\n",
      "local NR iter =  2 , res =  2.8189256484623115e-18\n",
      "local NR iter =  2 , res =  1.3877787807814457e-17\n",
      "local NR iter =  2 , res =  2.8189256484623115e-18\n",
      "local NR iter =  2 , res =  8.239936510889834e-18\n",
      "local NR iter =  2 , res =  1.3877787807814457e-17\n",
      "local NR iter =  2 , res =  1.3877787807814457e-17\n",
      "local NR iter =  2 , res =  1.1058862159352145e-17\n",
      "local NR iter =  2 , res =  0.0\n",
      "local NR iter =  2 , res =  1.3877787807814457e-17\n",
      "local NR iter =  2 , res =  1.1275702593849246e-17\n",
      "local NR iter =  2 , res =  2.6020852139652106e-18\n",
      "local NR iter =  2 , res =  1.3877787807814457e-17\n",
      "local NR iter =  2 , res =  2.6020852139652106e-18\n",
      "local NR iter =  2 , res =  0.0\n",
      "local NR iter =  2 , res =  1.1275702593849246e-17\n",
      "local NR iter =  2 , res =  0.0\n",
      "local NR iter =  2 , res =  2.6020852139652106e-18\n",
      "local NR iter =  2 , res =  8.239936510889834e-18\n",
      "local NR iter =  2 , res =  0.0\n",
      "local NR iter =  2 , res =  5.637851296924623e-18\n",
      "local NR iter =  2 , res =  0.0\n",
      "local NR iter =  2 , res =  8.239936510889834e-18\n",
      "local NR iter =  2 , res =  6.938893903907228e-18\n",
      "local NR iter =  2 , res =  0.0\n",
      "local NR iter =  2 , res =  1.1275702593849246e-17\n",
      "local NR iter =  2 , res =  1.3010426069826053e-18\n",
      "local NR iter =  2 , res =  8.239936510889834e-18\n",
      "local NR iter =  2 , res =  2.6020852139652106e-18\n",
      "local NR iter =  2 , res =  9.974659986866641e-18\n",
      "local NR iter =  2 , res =  1.5612511283791264e-17\n"
     ]
    }
   ],
   "source": [
    "# parameters for the model \n",
    "E = 10 # modulus of Maxwell branch \n",
    "eta = 1 # viscosity of Maxwell branch \n",
    "Einf = 10 # modulus of elastic branch \n",
    "\n",
    "# initial condition for internal variable \n",
    "epsilon_eta_s = 0 \n",
    "\n",
    "# loading history is going to be ramp loading, then wait, then unload \n",
    "# for time integration\n",
    "n_t = 100\n",
    "dt = 0.1\n",
    "epsilon_vec = np.zeros((n_t))\n",
    "epsilon_eta_vec = np.zeros((n_t))\n",
    "sigma_vec = np.zeros((n_t))\n",
    "time_vec = np.zeros((n_t))\n",
    "\n",
    "def eval_epsilon(i):\n",
    "    if i<33:\n",
    "        # for the first third increase linearly the total strain to 0.2\n",
    "        epsilon = 0.2*i/33\n",
    "    elif i<=66:\n",
    "        # for the second third keep at 0.2 \n",
    "        epsilon = 0.2\n",
    "    else:\n",
    "        # for the last third unload but not to zero strain\n",
    "        epsilon = 0.1+0.1*(n_t-i)/33\n",
    "    return epsilon\n",
    "\n",
    "# time integration \n",
    "for i in range(n_t):\n",
    "    # strain history is pre-determined \n",
    "    epsilon = eval_epsilon(i)\n",
    "    # BACKWARD euler \n",
    "    # assume nonlinear and needs to be solved with Newton-Raphson\n",
    "    resnorm = 1\n",
    "    iter =0\n",
    "    itermax = 10\n",
    "    tol = 1e-5\n",
    "    # initial guess for NR is to use viscous strain from last step\n",
    "    epsilon_eta_s1 = epsilon_eta_s\n",
    "    while resnorm>tol and iter<itermax:\n",
    "        sigma_M_s1 = E*(epsilon - epsilon_eta_s1)\n",
    "        res = epsilon_eta_s1 - epsilon_eta_s - dt*sigma_M_s1/E/eta\n",
    "        resnorm = np.abs(res)\n",
    "        dres = 1 + dt/eta\n",
    "        epsilon_eta_s1 = epsilon_eta_s1 - res/dres\n",
    "        iter+=1\n",
    "    print('local NR iter = ',iter,', res = ',resnorm)\n",
    "    # After local Newton just store\n",
    "    # compute total stress\n",
    "    sigma_M_s1 = E*(epsilon - epsilon_eta_s1)\n",
    "    sigma = sigma_M_s1 + Einf*epsilon\n",
    "    # store \n",
    "    epsilon_vec[i] = epsilon\n",
    "    epsilon_eta_vec[i] = epsilon_eta_s1\n",
    "    sigma_vec[i] = sigma\n",
    "    time_vec[i] = i*dt\n",
    "    # reset for next time step\n",
    "    epsilon_eta_s = epsilon_eta_s1"
   ]
  },
  {
   "cell_type": "code",
   "execution_count": 49,
   "metadata": {},
   "outputs": [
    {
     "data": {
      "image/png": "[encoded data removed]",
      "text/plain": [
       "<Figure size 216x216 with 1 Axes>"
      ]
     },
     "metadata": {
      "needs_background": "light"
     },
     "output_type": "display_data"
    }
   ],
   "source": [
    "fig = plt.figure(figsize=(3,3))\n",
    "plt.plot(time_vec,epsilon_vec,color='k',lw=2)\n",
    "plt.xlabel('time')\n",
    "plt.ylabel(r'strain $\\varepsilon$')\n",
    "plt.tight_layout()\n",
    "plt.savefig('images/strain_time_SLS_BE.png',dpi=200)"
   ]
  },
  {
   "cell_type": "code",
   "execution_count": 50,
   "metadata": {},
   "outputs": [
    {
     "data": {
      "image/png": "[encoded data removed]",
      "text/plain": [
       "<Figure size 216x216 with 1 Axes>"
      ]
     },
     "metadata": {
      "needs_background": "light"
     },
     "output_type": "display_data"
    }
   ],
   "source": [
    "fig = plt.figure(figsize=(3,3))\n",
    "plt.plot(time_vec,sigma_vec,color='k',lw=2)\n",
    "plt.xlabel('time')\n",
    "plt.ylabel(r'stress $\\sigma$')\n",
    "plt.tight_layout()\n",
    "plt.savefig('images/stress_time_SLS_BE.png',dpi=200)"
   ]
  },
  {
   "cell_type": "code",
   "execution_count": 51,
   "metadata": {},
   "outputs": [
    {
     "data": {
      "image/png": "[encoded data removed]",
      "text/plain": [
       "<Figure size 216x216 with 1 Axes>"
      ]
     },
     "metadata": {
      "needs_background": "light"
     },
     "output_type": "display_data"
    }
   ],
   "source": [
    "fig = plt.figure(figsize=(3,3))\n",
    "plt.plot(epsilon_vec,sigma_vec,color='k',lw=2)\n",
    "plt.xlabel(r'strain $\\varepsilon$')\n",
    "plt.ylabel(r'stress $\\sigma$')\n",
    "plt.tight_layout()\n",
    "plt.savefig('images/stress_strain_SLS_BE.png',dpi=200)"
   ]
  },
  {
   "cell_type": "code",
   "execution_count": null,
   "metadata": {},
   "outputs": [],
   "source": []
  }
 ],
 "metadata": {
  "kernelspec": {
   "display_name": "Python 3",
   "language": "python",
   "name": "python3"
  },
  "language_info": {
   "codemirror_mode": {
    "name": "ipython",
    "version": 3
   },
   "file_extension": ".py",
   "mimetype": "text/x-python",
   "name": "python",
   "nbconvert_exporter": "python",
   "pygments_lexer": "ipython3",
   "version": "3.8.5"
  }
 },
 "nbformat": 4,
 "nbformat_minor": 4
}
