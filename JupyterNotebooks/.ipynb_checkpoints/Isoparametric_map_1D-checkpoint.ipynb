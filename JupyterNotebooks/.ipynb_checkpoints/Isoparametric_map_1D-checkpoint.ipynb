{
 "cells": [
  {
   "cell_type": "markdown",
   "metadata": {},
   "source": [
    "## Discretizing functions with finite elements\n",
    "\n",
    "As we saw in class and in the previous python notebook, we can discretize a function inside of an element by using shape functions directly in terms of the variable $x$ \n",
    "\n",
    "$u^e(x) = \\sum N_i^e(x)u_i^e$\n",
    "\n",
    "And in that case the derivative of the function is given by \n",
    "\n",
    "$\\frac{du^e(x)}{dx} = \\sum \\frac{dN_i^e(x)}{dx} u_i^e$\n",
    "\n",
    "And this is true whether we have linear shape functions, quadratic shape functions, etc... \n",
    "\n",
    "However, this requires using shape functions that change for every element. Additionally, while this is doable in 1D, just going to 2D makes it really hard to define the shape functions directly in terms of $x,y$ for even simple polygons like quadrilaterals. \n",
    "\n",
    "Instead, we want to map, for each element, the domain $x$, to another domain $\\xi$ that is always the same and for which the shape functions don't change. This is usually called the parent domain.\n",
    "\n",
    "The isoparametric map consits of using the shape functions to do two things: mapping the geometry, as well as interpolating the function. See the figure (same as in the lecture) \n",
    "\n",
    "\n",
    "<img src=\"images/isoparametric_concept_1D.png\" alt=\"isoparametric concept in 1D\" style=\"width: 600px;\"/>\n",
    "\n",
    "For the geometry, i.e. the map between the physical space $x$ and the parametric space $\\xi$ we have \n",
    "\n",
    "$$x = \\sum N_i^e(\\xi)x_i^e$$\n",
    "\n",
    "where the shape functions are functions of $\\xi$ and the $x_i^e$ are the nodal coordinates. In this notebook we will use shape functions based on Lagrange polynomials, same thing we did for the previous notebook, but now in the $\\xi$ space, which is $\\xi\\in[-1,1]$. \n",
    "\n",
    "With these same shape functions we can interpolate the function $u$ given nodal values $u_i$\n",
    "\n",
    "$$u = \\sum N_i^e(\\xi)u_i^e$$\n",
    "\n",
    "We don't have the function $u$ directly in terms of $x$, rather, we have it directly in terms of $\\xi$. But this is no problem! We also have $x$ in terms of $\\xi$ so we can simply select a bunch of values of $\\xi$, and evaluate both $x$ and $u$ and we can plot $u$ as a function of $x$ even though we dont have the explicit expression. \n",
    "\n",
    "How about the derivative? \n",
    "\n",
    "As discussed in the video, we first need the Jacobian of the isoparametric map \n",
    "\n",
    "$j = \\frac{\\mathrm{d} x}{\\mathrm{d} \\xi} = \\sum \\frac{\\mathrm{d} N_i(\\xi)}{\\mathrm{d} \\xi} x_i^e $ \n",
    "\n",
    "Be careful not to confuse this with the determinant of the deformation gradient. The inverse of this Jacobian is the opposite derivative \n",
    "\n",
    "$j^{-1} = \\frac{\\mathrm{d} \\xi}{\\mathrm{d} x}$ \n",
    "\n",
    "Thus, if we want to take derivatives of $u$ with respect to $x$ all we need is to take derivatives with respect to the coordinate $\\xi$ and use of the inverse Jacobian to complete the change rule. \n",
    "\n",
    "$\\frac{\\mathrm{d} u^h}{\\mathrm{d} x} = j^{-1} \\sum \\frac{\\mathrm{d} N_i(\\xi)}{\\mathrm{d} \\xi} u_i^e  $\n",
    "\n",
    "Note that in 1D the Jacobian is just a number, but in 2D it is a $2\\times2$ matrix and in 3D it is a $3\\times3$ matrix. There might be some issue with notation depending on textbook, and depending on that choice there will be a transpose or not for the inverse Jacobian. We will follow the Wriggers approach, which ends up with a *transpose* in the end, but again, this is relevant for 2D and 3D. \n"
   ]
  },
  {
   "cell_type": "code",
   "execution_count": 2,
   "metadata": {},
   "outputs": [],
   "source": [
    "import numpy as np\n",
    "import sympy as sp\n",
    "import matplotlib\n",
    "import random\n",
    "import matplotlib.pyplot as plt\n",
    "%matplotlib inline "
   ]
  },
  {
   "cell_type": "code",
   "execution_count": 3,
   "metadata": {},
   "outputs": [],
   "source": [
    "n_ele = 4\n",
    "n_nod = 5\n",
    "elements = np.array([[0,2],[2,3],[3,4],[4,1]])\n",
    "node_X = np.array([0.,1.,0.25,0.5,0.75])\n",
    "node_u = np.random.rand(5)"
   ]
  },
  {
   "cell_type": "markdown",
   "metadata": {},
   "source": [
    "For linear elements we have the following shape functions in the parametric domain $\\xi\\in[-1,1]$ \n",
    "\n",
    "$N_1(\\xi) \\frac{1}{2}(1-\\xi)$\n",
    "\n",
    "$N_2(\\xi) \\frac{1}{2}(1+\\xi)$\n",
    "\n",
    "The isoparametric map for linear elements is thus  \n",
    "\n",
    "$x = N_1(\\xi)x_1^e + N_2(\\xi)x_2^e $\n",
    "\n",
    "where $x_1^e$ and $x_2^e$ are the coordinates of the nodes making up the element in the $x$ space. \n",
    "\n",
    "And interpolation of the function $u$ is done with  \n",
    "\n",
    "$u(\\xi) = N_1(\\xi)u_1^e + N_2(\\xi)u_2^e $\n",
    "\n",
    "where $u_1^e$ and $u_2^e$ are the values of the function at the two nodes for an element.\n",
    "\n",
    "To contrast that the two approaches (the one without the isoparametric map and the one with the isoparametric map) lead to the same plots, I'm going to do both ways"
   ]
  },
  {
   "cell_type": "code",
   "execution_count": 4,
   "metadata": {},
   "outputs": [],
   "source": [
    "## Define shape function in terms of x\n",
    "def N1(x,x1e,x2e):\n",
    "    le = x2e-x1e\n",
    "    return (1./le)*(x2e-x)\n",
    "\n",
    "def N2(x,x1e,x2e):\n",
    "    le = x2e-x1e\n",
    "    return (1./le)*(x-x1e)\n",
    "\n",
    "## Define gradients of shape functions \n",
    "def dN1dx(x,x1e,x2e):\n",
    "    le = x2e-x1e\n",
    "    return -1./le\n",
    "\n",
    "def dN2dx(x,x1e,x2e):\n",
    "    le = x2e-x1e\n",
    "    return 1./le\n"
   ]
  },
  {
   "cell_type": "code",
   "execution_count": 5,
   "metadata": {},
   "outputs": [
    {
     "data": {
      "text/plain": [
       "Text(0, 0.5, 'du(x)/dx')"
      ]
     },
     "execution_count": 5,
     "metadata": {},
     "output_type": "execute_result"
    },
    {
     "data": {
      "image/png": "[encoded data removed]",
      "text/plain": [
       "<Figure size 720x288 with 2 Axes>"
      ]
     },
     "metadata": {
      "needs_background": "light"
     },
     "output_type": "display_data"
    }
   ],
   "source": [
    "## plot a function over the domain by plotting in each element using shape functions in terms of x\n",
    "\n",
    "fig, (ax1,ax2) = plt.subplots(1, 2, figsize=(10,4))\n",
    "\n",
    "# Loop over elements \n",
    "for i in range(n_ele):\n",
    "    \n",
    "    # Read the nodes that make up this element 'i'\n",
    "    n1 = elements[i,0] #note I don't need the '-1' because I numbered nodes from '0'\n",
    "    n2 = elements[i,1]\n",
    "    \n",
    "    # Beginning and end 'x' coordinates of this element \n",
    "    x1e = node_X[n1]\n",
    "    x2e = node_X[n2]\n",
    "    \n",
    "    # Get the nodal values of the function 'u'\n",
    "    u1e = node_u[n1]\n",
    "    u2e = node_u[n2]\n",
    "    \n",
    "    # Eval the shape function evaluation for multiple x in this element\n",
    "    x_vec = np.linspace(x1e,x2e,50)\n",
    "    \n",
    "    # use the shape functions to interpolate from the nodal u values to all the 'x'\n",
    "    u_vec = N1(x_vec,x1e,x2e)*u1e + N2(x_vec,x1e,x2e)*u2e\n",
    "    \n",
    "    # gradient is going to be constant in this case\n",
    "    dudx = dN1dx(x_vec,x1e,x2e)*u1e + dN2dx(x_vec,x1e,x2e)*u2e\n",
    "    dudx_vec = dudx*np.ones(50)\n",
    "    \n",
    "    # plot function u\n",
    "    ax1.plot(x_vec,u_vec)\n",
    "    \n",
    "    # plot the gradient\n",
    "    ax2.plot(x_vec,dudx_vec)\n",
    "ax1.set_xlabel('x')\n",
    "ax2.set_xlabel('x')\n",
    "ax1.set_ylabel('u(x)')\n",
    "ax2.set_ylabel('du(x)/dx')"
   ]
  },
  {
   "cell_type": "code",
   "execution_count": 6,
   "metadata": {},
   "outputs": [],
   "source": [
    "## Define shape function in terms of the parameter domain xi \n",
    "def N1(xi):\n",
    "    return (0.5)*(1-xi)\n",
    "\n",
    "def N2(xi):\n",
    "    return (0.5)*(1+xi)\n",
    "\n",
    "## Define gradients of shape functions \n",
    "def dN1dxi(xi):\n",
    "    return -0.5*np.ones(xi.shape)\n",
    "\n",
    "def dN2dxi(xi):\n",
    "    return 0.5*np.ones(xi.shape)"
   ]
  },
  {
   "cell_type": "code",
   "execution_count": 7,
   "metadata": {},
   "outputs": [
    {
     "data": {
      "text/plain": [
       "Text(0, 0.5, 'du(x)/dx')"
      ]
     },
     "execution_count": 7,
     "metadata": {},
     "output_type": "execute_result"
    },
    {
     "data": {
      "image/png": "[encoded data removed]",
      "text/plain": [
       "<Figure size 720x288 with 2 Axes>"
      ]
     },
     "metadata": {
      "needs_background": "light"
     },
     "output_type": "display_data"
    }
   ],
   "source": [
    "## plot a function over the domain by plotting in each element and using the isoparametric concept  \n",
    "\n",
    "fig, (ax1,ax2) = plt.subplots(1, 2, figsize=(10,4))\n",
    "\n",
    "# Loop over elements \n",
    "for i in range(n_ele):\n",
    "    \n",
    "    # Read the nodes that make up this element 'i'\n",
    "    n1 = elements[i,0] #note I don't need the '-1' because I numbered nodes from '0'\n",
    "    n2 = elements[i,1]\n",
    "    \n",
    "    # Beginning and end 'x' coordinates of this element \n",
    "    x1e = node_X[n1]\n",
    "    x2e = node_X[n2]\n",
    "    \n",
    "    # Get the nodal values of the function 'u'\n",
    "    u1e = node_u[n1]\n",
    "    u2e = node_u[n2]\n",
    "    \n",
    "    # Eval the shape function evaluation for multiple xi in this element\n",
    "    xi_vec = np.linspace(-1,1,50)\n",
    "    \n",
    "    # use the shape functions to interpolate from the nodal u values to all the 'xi'\n",
    "    u_vec = N1(xi_vec)*u1e + N2(xi_vec)*u2e\n",
    "    \n",
    "    ## ISOPARAMETRIC MAP\n",
    "    x_vec = N1(xi_vec)*x1e + N2(xi_vec)*x2e\n",
    "    \n",
    "    ## JACOABIAN OF THE ISOPARAMETRIC MAP\n",
    "    dxdxi = dN1dxi(xi_vec)*x1e + dN2dxi(xi_vec)*x2e\n",
    "    # note, it is a vector of constants, the inverse in this case is just 1/Jac \n",
    "    # otherwise you would have to take the inverse of the jacobian matrix \n",
    "    dxidx = 1./dxdxi\n",
    "    \n",
    "    # gradient is going to be constant in this case\n",
    "    # note, we can take derivatives with respect to xi now \n",
    "    dudxi = dN1dxi(xi_vec)*u1e + dN2dxi(xi_vec)*u2e\n",
    "    # need to use the chain rule and thus the inverse jacobian to get gradients with respect to x\n",
    "    dudx_vec = dudxi*dxidx\n",
    "    \n",
    "    # plot function u\n",
    "    ax1.plot(x_vec,u_vec)\n",
    "    \n",
    "    # plot the gradient\n",
    "    ax2.plot(x_vec,dudx_vec)\n",
    "ax1.set_xlabel('x')\n",
    "ax2.set_xlabel('x')\n",
    "ax1.set_ylabel('u(x)')\n",
    "ax2.set_ylabel('du(x)/dx')"
   ]
  },
  {
   "cell_type": "markdown",
   "metadata": {},
   "source": [
    "Exactly the same thing!! "
   ]
  },
  {
   "cell_type": "markdown",
   "metadata": {},
   "source": [
    "### Python activity: quadratic shape functions \n",
    "\n",
    "Use the isoparametric concept for a similar mesh as used in the previous notebook:\n",
    "\n",
    "\n",
    "<img src=\"images/mesh_1D_quadratic.png\" alt=\"mesh example in 1D with 2-node linear elements\" style=\"width: 600px;\"/>\n",
    "\n"
   ]
  },
  {
   "cell_type": "code",
   "execution_count": 8,
   "metadata": {},
   "outputs": [],
   "source": [
    "n_ele = 3\n",
    "n_nod = 7\n",
    "elements = np.array([[0,1,2],[2,3,4],[4,5,6]])\n",
    "node_X = np.linspace(0,2,7)\n",
    "node_u = np.random.rand(7)"
   ]
  },
  {
   "cell_type": "code",
   "execution_count": null,
   "metadata": {},
   "outputs": [],
   "source": []
  },
  {
   "cell_type": "code",
   "execution_count": null,
   "metadata": {},
   "outputs": [],
   "source": []
  },
  {
   "cell_type": "markdown",
   "metadata": {},
   "source": [
    "## Gauss quadrature \n",
    "\n",
    "Assume we want to integrate the following function \n",
    "\n",
    "$$x^2+1$$\n",
    "\n",
    "over the domain $x\\in[2,4]$\n",
    "\n",
    "We will follow the approach in the video and integrate instead over the domain $\\xi$ by doing the change of variables \n",
    "\n",
    "$$\\int_x f(x)dx = \\int_\\xi f(x) |j|d\\xi$$ \n",
    "\n",
    "where the $|j|$ is the determinant of the Jacobian of the isoparametric map. In 1D this is just the absolute value. The integral over $\\xi$ is in the range $[-1,1]$ for which one can find tables with Gauss points to approximate\n",
    "\n",
    "$$\\int_{-1}^{1} f(x)|j|d\\xi \\approx \\sum_i w_i f(x(\\xi_i))|j(\\xi_i)|$$\n",
    "\n",
    "where the $w_i$ are the weights of the integration points and $\\xi_i$ are the integration points. Note that $x$ and the Jacobian of the isoparametric map need to be evaluated at the corresponding $\\xi_i$\n",
    "\n"
   ]
  },
  {
   "cell_type": "code",
   "execution_count": 11,
   "metadata": {},
   "outputs": [],
   "source": [
    "## Assume we have a function of x that we want to integrate\n",
    "def func(x):\n",
    "    return  (x**2+1)"
   ]
  },
  {
   "cell_type": "code",
   "execution_count": 12,
   "metadata": {},
   "outputs": [],
   "source": [
    "## Gauss points and weights \n",
    "gauss_1 = np.array([[0.,2.]])\n",
    "gauss_2 = np.array([[-1./np.sqrt(3.),1.],[1./np.sqrt(3.),1]])\n",
    "gauss_3 = np.array([[-np.sqrt(3./5.),5./9.],[0,8./9.],[np.sqrt(3./5.),5./9.]])"
   ]
  },
  {
   "cell_type": "code",
   "execution_count": 13,
   "metadata": {},
   "outputs": [],
   "source": [
    "## Linear shape functions for the parent element \n",
    "def N1e(xi):\n",
    "    xi1e = -1.0\n",
    "    xi2e = +1.0\n",
    "    return (xi-xi2e)/(xi1e-xi2e)\n",
    "\n",
    "def N2e(xi):\n",
    "    xi1e = -1.0\n",
    "    xi2e = +1.0\n",
    "    return (xi-xi1e)/(xi2e-xi1e)\n",
    "\n",
    "def dN1edxi(xi):\n",
    "    xi1e = -1.0\n",
    "    xi2e = +1.0\n",
    "    return (1.0)/(xi1e-xi2e)\n",
    "\n",
    "def dN2edxi(xi):\n",
    "    xi1e = -1.0\n",
    "    xi2e = +1.0\n",
    "    return (1.0)/(xi2e-xi1e)"
   ]
  },
  {
   "cell_type": "code",
   "execution_count": 16,
   "metadata": {},
   "outputs": [
    {
     "name": "stdout",
     "output_type": "stream",
     "text": [
      "Integration with 1 Gauss point\n",
      "ip  0  xi  0.0  x  3.0\n",
      "J  1.0\n",
      "1-point Gauss\n",
      "20.0\n",
      "\n",
      "Integration with 2 Gauss points\n",
      "ip  0  xi  -0.5773502691896258  x  2.422649730810374\n",
      "J  1.0\n",
      "ip  1  xi  0.5773502691896258  x  3.5773502691896257\n",
      "J  1.0\n",
      "2-point Gauss\n",
      "20.666666666666664\n",
      "\n",
      "Integration with 3 Gauss points\n",
      "ip  0  xi  -0.7745966692414834  x  2.2254033307585166\n",
      "J  1.0\n",
      "ip  1  xi  0.0  x  3.0\n",
      "J  1.0\n",
      "ip  2  xi  0.7745966692414834  x  3.7745966692414834\n",
      "J  1.0\n",
      "3-point Gauss\n",
      "20.666666666666668\n"
     ]
    }
   ],
   "source": [
    "## integrate function of func(x) in the element [2,4] numerically and compare to the analytical integral\n",
    "\n",
    "## The element is defined by\n",
    "x1e = 2.\n",
    "x2e = 4.\n",
    "\n",
    "## Numerical integral with 1,2,3 gauss point \n",
    "numint1 = 0\n",
    "numint2 = 0\n",
    "numint3 = 0\n",
    "print('Integration with 1 Gauss point')\n",
    "for i in range(len(gauss_1)):\n",
    "    # Go from xi_ip to x_ip\n",
    "    xi_ip = gauss_1[i,0] # just reading from the vector of Gauss points\n",
    "    x_ip = N1e(xi_ip)*x1e + N2e(xi_ip)*x2e \n",
    "    print('ip ',i,' xi ',xi_ip, ' x ',x_ip)\n",
    "    # Jacobian for the linear map\n",
    "    J = dN1edxi(xi_ip)*x1e + dN2edxi(xi_ip)*x2e\n",
    "    print('J ',J)\n",
    "    # Read the weight\n",
    "    w_ip = gauss_1[i,1]\n",
    "    # Add to the integral\n",
    "    numint1+= w_ip*(func(x_ip)*J)\n",
    "print('1-point Gauss')\n",
    "print(numint1)\n",
    "print('\\nIntegration with 2 Gauss points')\n",
    "for i in range(len(gauss_2)):\n",
    "    # Go from xi_ip to x_ip\n",
    "    xi_ip = gauss_2[i,0] # just reading from the vector of Gauss points\n",
    "    x_ip = N1e(xi_ip)*x1e + N2e(xi_ip)*x2e \n",
    "    print('ip ',i,' xi ',xi_ip, ' x ',x_ip)\n",
    "    # Jacobian for the linear map\n",
    "    J = dN1edxi(xi_ip)*x1e + dN2edxi(xi_ip)*x2e\n",
    "    print('J ',J)\n",
    "    # Read the weight\n",
    "    w_ip = gauss_2[i,1]\n",
    "    # Add to the integral\n",
    "    numint2+= w_ip*(func(x_ip)*J)\n",
    "print('2-point Gauss')\n",
    "print(numint2)\n",
    "print('\\nIntegration with 3 Gauss points')\n",
    "for i in range(len(gauss_3)):\n",
    "    # Go from xi_ip to x_ip\n",
    "    xi_ip = gauss_3[i,0] # just reading from the vector of Gauss points\n",
    "    x_ip = N1e(xi_ip)*x1e + N2e(xi_ip)*x2e \n",
    "    print('ip ',i,' xi ',xi_ip, ' x ',x_ip)\n",
    "    # Jacobian for the linear map\n",
    "    J = dN1edxi(xi_ip)*x1e + dN2edxi(xi_ip)*x2e\n",
    "    print('J ',J)\n",
    "    # Read the weight\n",
    "    w_ip = gauss_3[i,1]\n",
    "    # Add to the integral\n",
    "    numint3+= w_ip*(func(x_ip)*J)\n",
    "print('3-point Gauss')\n",
    "print(numint3)"
   ]
  },
  {
   "cell_type": "code",
   "execution_count": 19,
   "metadata": {},
   "outputs": [
    {
     "name": "stdout",
     "output_type": "stream",
     "text": [
      "Exact integral = 20.666667\n"
     ]
    }
   ],
   "source": [
    "## get the analytical integral to compare with our calculation\n",
    "x = sp.Symbol('x')\n",
    "x1e = 2\n",
    "x3e = 4\n",
    "integral_exact = sp.integrate( x**2+1,(x,x1e,x3e))\n",
    "print('Exact integral = %f'%integral_exact)"
   ]
  },
  {
   "cell_type": "markdown",
   "metadata": {},
   "source": [
    "The 2-point rule is already enough. We did the 3-point one but didn't get any more accuracy. This is because the Gauss points are actually specifically design to exactly interpolate polynomials. With $n_G$ Gauss points, we can integrate exactly polynomials of degree $2n_G-1$"
   ]
  },
  {
   "cell_type": "markdown",
   "metadata": {},
   "source": [
    "### Activity: Gauss quadrature \n",
    "\n",
    "Integrate the function \n",
    "\n",
    "$$f(x)= -(x-1)(x-3)$$\n",
    "\n",
    "using a linear element, in the interval $x\\in[0,4]$\n",
    "\n"
   ]
  },
  {
   "cell_type": "code",
   "execution_count": 20,
   "metadata": {},
   "outputs": [],
   "source": [
    "## Assume we have a function of x that we want to integrate\n",
    "def func(x):\n",
    "    return  -(x-1)*(x-3)"
   ]
  },
  {
   "cell_type": "code",
   "execution_count": null,
   "metadata": {},
   "outputs": [],
   "source": []
  },
  {
   "cell_type": "code",
   "execution_count": 22,
   "metadata": {},
   "outputs": [
    {
     "data": {
      "text/latex": [
       "$\\displaystyle -1.33333333333333$"
      ],
      "text/plain": [
       "-1.33333333333333"
      ]
     },
     "execution_count": 22,
     "metadata": {},
     "output_type": "execute_result"
    }
   ],
   "source": [
    "x1e = 0\n",
    "x2e = 4\n",
    "sp.integrate( -(x-1.)*(x-3.),(x,x1e,x2e))"
   ]
  },
  {
   "cell_type": "markdown",
   "metadata": {},
   "source": [
    "### Activity: integrate over a quadratic element \n",
    "\n",
    "Repeat the above integral but this time with a quadratic element"
   ]
  },
  {
   "cell_type": "code",
   "execution_count": null,
   "metadata": {},
   "outputs": [],
   "source": []
  },
  {
   "cell_type": "code",
   "execution_count": null,
   "metadata": {},
   "outputs": [],
   "source": []
  },
  {
   "cell_type": "code",
   "execution_count": null,
   "metadata": {},
   "outputs": [],
   "source": []
  }
 ],
 "metadata": {
  "kernelspec": {
   "display_name": "Python 3",
   "language": "python",
   "name": "python3"
  },
  "language_info": {
   "codemirror_mode": {
    "name": "ipython",
    "version": 3
   },
   "file_extension": ".py",
   "mimetype": "text/x-python",
   "name": "python",
   "nbconvert_exporter": "python",
   "pygments_lexer": "ipython3",
   "version": "3.8.5"
  }
 },
 "nbformat": 4,
 "nbformat_minor": 2
}
