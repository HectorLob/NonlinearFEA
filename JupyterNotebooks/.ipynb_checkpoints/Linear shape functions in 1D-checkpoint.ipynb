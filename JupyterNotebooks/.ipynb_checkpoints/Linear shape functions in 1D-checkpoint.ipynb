{
 "cells": [
  {
   "cell_type": "markdown",
   "metadata": {},
   "source": [
    "## Discretizing functions with finite elements\n",
    "\n",
    "As we saw in class, we can discretize a function inside of an element by \n",
    "\n",
    "$u^e(x) = \\sum N_i^e(x)u_i^e$\n",
    "\n",
    "Or the derivative of the function by \n",
    "\n",
    "$\\frac{du^e(x)}{dx} = \\sum \\frac{dN_i^e(x)}{dx} u_i^e$\n",
    "\n",
    "And this is true whether we have linear shape functions, quadratic shape functions, etc... \n",
    "\n",
    " "
   ]
  },
  {
   "cell_type": "code",
   "execution_count": 6,
   "metadata": {},
   "outputs": [],
   "source": [
    "import numpy as np\n",
    "import sympy as sp\n",
    "import matplotlib\n",
    "import random\n",
    "import matplotlib.pyplot as plt\n",
    "%matplotlib inline "
   ]
  },
  {
   "cell_type": "code",
   "execution_count": 7,
   "metadata": {},
   "outputs": [],
   "source": [
    "n_ele = 4\n",
    "n_nod = 5\n",
    "elements = np.array([[0,2],[2,3],[3,4],[4,1]])\n",
    "node_X = np.array([0.,1.,0.25,0.5,0.75])\n",
    "node_u = np.random.rand(5)"
   ]
  },
  {
   "cell_type": "code",
   "execution_count": 8,
   "metadata": {},
   "outputs": [],
   "source": [
    "## Define shape function\n",
    "def N1(x,x1e,x2e):\n",
    "    le = x2e-x1e\n",
    "    return (1./le)*(x2e-x)\n",
    "\n",
    "def N2(x,x1e,x2e):\n",
    "    le = x2e-x1e\n",
    "    return (1./le)*(x-x1e)\n",
    "\n",
    "## Define gradients of shape functions \n",
    "def dN1dx(x,x1e,x2e):\n",
    "    le = x2e-x1e\n",
    "    return -1./le\n",
    "\n",
    "def dN2dx(x,x1e,x2e):\n",
    "    le = x2e-x1e\n",
    "    return 1./le\n"
   ]
  },
  {
   "cell_type": "code",
   "execution_count": 9,
   "metadata": {},
   "outputs": [
    {
     "data": {
      "image/png": "[encoded data removed]",
      "text/plain": [
       "<Figure size 720x288 with 2 Axes>"
      ]
     },
     "metadata": {
      "needs_background": "light"
     },
     "output_type": "display_data"
    }
   ],
   "source": [
    "## plot a function over the domain by plotting in each element \n",
    "\n",
    "fig, (ax1,ax2) = plt.subplots(1, 2, figsize=(10,4))\n",
    "\n",
    "# Loop over elements \n",
    "for i in range(n_ele):\n",
    "    \n",
    "    # Read the nodes that make up this element 'i'\n",
    "    n1 = elements[i,0] #note I don't need the '-1' because I numbered nodes from '0'\n",
    "    n2 = elements[i,1]\n",
    "    \n",
    "    # Beginning and end 'x' coordinates of this element \n",
    "    x1e = node_X[n1]\n",
    "    x2e = node_X[n2]\n",
    "    \n",
    "    # Get the nodal values of the function 'u'\n",
    "    u1e = node_u[n1]\n",
    "    u2e = node_u[n2]\n",
    "    \n",
    "    # Eval the shape function evaluation for multiple x in this element\n",
    "    x_vec = np.linspace(x1e,x2e,50)\n",
    "    \n",
    "    # use the shape functions to interpolate from the nodal u values to all the 'x'\n",
    "    u_vec = N1(x_vec,x1e,x2e)*u1e + N2(x_vec,x1e,x2e)*u2e\n",
    "    \n",
    "    # gradient is going to be constant in this case\n",
    "    dudx = dN1dx(x_vec,x1e,x2e)*u1e + dN2dx(x_vec,x1e,x2e)*u2e\n",
    "    dudx_vec = dudx*np.ones(50)\n",
    "    \n",
    "    # plot function u\n",
    "    ax1.plot(x_vec,u_vec)\n",
    "    \n",
    "    # plot the gradient\n",
    "    ax2.plot(x_vec,dudx_vec)\n",
    "    "
   ]
  },
  {
   "cell_type": "markdown",
   "metadata": {},
   "source": [
    "## Isoparametric map \n",
    "\n",
    "Instead of creating shape functions directly in terms of the variable $x$, we can introduce a new coordinate $\\xi\\in[-1,1]$. We have the shape functions for the linear element in this domain \n",
    "\n",
    "$N_1(\\xi) \\frac{1}{2}(1-\\xi)$\n",
    "\n",
    "$N_2(\\xi) \\frac{1}{2}(1+\\xi)$\n",
    "\n",
    "Using this shape functions, we define a map between the coordinates $x$ and the coordinates $\\xi$. The fact that we are going to use the shape functions to do the map makes this a special type of mapping the two coordinates, it is called the isoparametric map. \n",
    "\n",
    "$x = N_1(\\xi)x_1^e + N_2(\\xi)x_2^e $\n",
    "\n",
    "where $x_1^e$ and $x_2^e$ are the coordinates of the nodes making up the element in the $x$ space. \n",
    "\n",
    "Any function can be interpolated in the $\\xi$ space using the shape functions, not just the geometry \n",
    "\n",
    "$u^h(\\xi) = N_1(\\xi)u_1^e + N_2(\\xi)u_2^e $\n",
    "\n",
    "where $u_1^e$ and $u_2^e$ are the values of the function at the two nodes. These are our degrees of freedom. Having those we can use the shape functions to interpolate over the entire domain. \n",
    "\n",
    "Because we have the isoparametric map, it is ok if we have $u^h(\\xi)$, we can always use the map $x=L(\\xi)$ or its inverse to evalute the function in one coordinate or the other. This is just a change of coordinates. The main advantage is that the shape functions over the domain $\\xi$ are known ahead of time because the domain for $\\xi$ is always the same. \n",
    "\n",
    "To take derivatives with respecto to $x$, we need to use the chain rule. From the derivative of the isoparametric map we get \n",
    "\n",
    "$j = \\frac{\\mathrm{d} x}{\\mathrm{d} \\xi} = \\sum \\frac{\\mathrm{d} N_i(\\xi)}{\\mathrm{d} \\xi} x_i^e $ \n",
    "\n",
    "Be careful not to confuse this with the determinant of the deformation gradient. The inverse of this Jacobian is the opposite derivative \n",
    "\n",
    "$j^{-1} = \\frac{\\mathrm{d} \\xi}{\\mathrm{d} x}$ \n",
    "\n",
    "Thus, if we want to take derivatives of $u^h$ with respect to $x$ all we need is to take derivatives with respect to the coordinate $\\xi$ and use of the inverse Jacobian \n",
    "\n",
    "$\\frac{\\mathrm{d} u^h}{\\mathrm{d} x} = j^{-1} \\sum \\frac{\\mathrm{d} N_i(\\xi)}{\\mathrm{d} \\xi} u_i^e  $"
   ]
  },
  {
   "cell_type": "code",
   "execution_count": 10,
   "metadata": {},
   "outputs": [],
   "source": [
    "## Define shape function\n",
    "def N1(xi):\n",
    "    return (0.5)*(1-xi)\n",
    "\n",
    "def N2(xi):\n",
    "    return (0.5)*(1+xi)\n",
    "\n",
    "## Define gradients of shape functions \n",
    "def dN1dxi(xi):\n",
    "    return -0.5*np.ones(xi.shape)\n",
    "\n",
    "def dN2dxi(xi):\n",
    "    return 0.5*np.ones(xi.shape)"
   ]
  },
  {
   "cell_type": "code",
   "execution_count": 11,
   "metadata": {},
   "outputs": [
    {
     "data": {
      "image/png": "[encoded data removed]",
      "text/plain": [
       "<Figure size 720x288 with 2 Axes>"
      ]
     },
     "metadata": {
      "needs_background": "light"
     },
     "output_type": "display_data"
    }
   ],
   "source": [
    "## plot a function over the domain by plotting in each element \n",
    "\n",
    "fig, (ax1,ax2) = plt.subplots(1, 2, figsize=(10,4))\n",
    "\n",
    "# Loop over elements \n",
    "for i in range(n_ele):\n",
    "    \n",
    "    # Read the nodes that make up this element 'i'\n",
    "    n1 = elements[i,0] #note I don't need the '-1' because I numbered nodes from '0'\n",
    "    n2 = elements[i,1]\n",
    "    \n",
    "    # Beginning and end 'x' coordinates of this element \n",
    "    x1e = node_X[n1]\n",
    "    x2e = node_X[n2]\n",
    "    \n",
    "    # Get the nodal values of the function 'u'\n",
    "    u1e = node_u[n1]\n",
    "    u2e = node_u[n2]\n",
    "    \n",
    "    # Eval the shape function evaluation for multiple xi in this element\n",
    "    xi_vec = np.linspace(-1,1,50)\n",
    "    \n",
    "    # use the shape functions to interpolate from the nodal u values to all the 'xi'\n",
    "    u_vec = N1(xi_vec)*u1e + N2(xi_vec)*u2e\n",
    "    \n",
    "    ## ISOPARAMETRIC MAP\n",
    "    x_vec = N1(xi_vec)*x1e + N2(xi_vec)*x2e\n",
    "    \n",
    "    ## JACOABIAN OF THE ISOPARAMETRIC MAP\n",
    "    dxdxi = dN1dxi(xi_vec)*x1e + dN2dxi(xi_vec)*x2e\n",
    "    # note, it is a vector of constants, the inverse in this case is just 1/Jac \n",
    "    # otherwise you would have to take the inverse of the jacobian matrix \n",
    "    dxidx = 1./dxdxi\n",
    "    \n",
    "    # gradient is going to be constant in this case\n",
    "    # note, we can take derivatives with respect to xi now \n",
    "    dudxi = dN1dxi(xi_vec)*u1e + dN2dxi(xi_vec)*u2e\n",
    "    # need to use the chain rule and thus the inverse jacobian to get gradients with respect to x\n",
    "    dudx_vec = dudxi*dxidx\n",
    "    \n",
    "    # plot function u\n",
    "    ax1.plot(x_vec,u_vec)\n",
    "    \n",
    "    # plot the gradient\n",
    "    ax2.plot(x_vec,dudx_vec)"
   ]
  },
  {
   "cell_type": "markdown",
   "metadata": {},
   "source": [
    "## Quadratic shape functions \n",
    "\n"
   ]
  },
  {
   "cell_type": "code",
   "execution_count": 1,
   "metadata": {},
   "outputs": [],
   "source": [
    "## Define shape functions in the parent domain \n",
    "def N1(xi):\n",
    "    xi1 = -1\n",
    "    xi2 = 0\n",
    "    xi3 = +1\n",
    "    return (xi-xi2)*(xi-xi3)/((xi1-xi2)*(xi1-xi3))\n",
    "\n",
    "def N2(xi):\n",
    "    xi1 = -1\n",
    "    xi2 = 0\n",
    "    xi3 = +1\n",
    "    return (xi-xi1)*(xi-xi3)/((xi2-xi1)*(xi2-xi3))\n",
    "\n",
    "def N3(xi):\n",
    "    xi1 = -1\n",
    "    xi2 = 0\n",
    "    xi3 = +1\n",
    "    return (xi-xi1)*(xi-xi2)/((xi3-xi1)*(xi3-xi2))\n",
    "\n",
    "## Define derivatives of shape functions in parent domain \n",
    "def dN1dxi(xi):\n",
    "    xi1 = -1\n",
    "    xi2 = 0\n",
    "    xi3 = +1\n",
    "    return ((xi-xi2)+(xi-xi3))/((xi1-xi2)*(xi1-xi3))\n",
    "\n",
    "def dN2dxi(xi):\n",
    "    xi1 = -1\n",
    "    xi2 = 0\n",
    "    xi3 = +1\n",
    "    return ((xi-xi1)+(xi-xi3))/((xi2-xi1)*(xi2-xi3))\n",
    "\n",
    "def dN3dxi(xi):\n",
    "    xi1 = -1\n",
    "    xi2 = 0\n",
    "    xi3 = +1\n",
    "    return ((xi-xi1)+(xi-xi2))/((xi3-xi1)*(xi3-xi2))"
   ]
  },
  {
   "cell_type": "code",
   "execution_count": null,
   "metadata": {},
   "outputs": [],
   "source": [
    "## plot a function over the domain by plotting in each element \n",
    "\n",
    "fig, (ax1,ax2) = plt.subplots(1, 2, figsize=(10,4))\n",
    "\n",
    "# Loop over elements \n",
    "for i in range(n_ele):\n",
    "    \n",
    "    # Read the nodes that make up this element 'i'\n",
    "    n1 = elements[i,0] \n",
    "    n2 = elements[i,1]\n",
    "    n3 = elements[i,2]\n",
    "    \n",
    "    # Beginning and end 'x' coordinates of this element \n",
    "    x1e = node_X[n1]\n",
    "    x2e = node_X[n2]\n",
    "    x3e = node_X[n3]\n",
    "    \n",
    "    # Get the nodal values of the function 'u'\n",
    "    u1e = node_u[n1]\n",
    "    u2e = node_u[n2]\n",
    "    u3e = node_u[n3]\n",
    "    \n",
    "    # Eval the shape function evaluation for multiple xi in this element\n",
    "    xi_vec = np.linspace(-1,1,50)\n",
    "    \n",
    "    # use the shape functions to interpolate from the nodal u values to all the 'xi'\n",
    "    u_vec = N1(xi_vec)*u1e + N2(xi_vec)*u2e +  N3(xi_vec)*u3e\n",
    "    \n",
    "    ## ISOPARAMETRIC MAP\n",
    "    x_vec = N1(xi_vec)*x1e + N2(xi_vec)*x2e + N3(xi_vec)*x3e\n",
    "    \n",
    "    ## JACOABIAN OF THE ISOPARAMETRIC MAP\n",
    "    dxdxi = dN1dxi(xi_vec)*x1e + dN2dxi(xi_vec)*x2e + dN3dxi(xi_vec)*x3e\n",
    "    # note, it is a vector of scalars, the inverse of the Jacobian in this case is just 1/Jac \n",
    "    # when we do 2D we will need to take the inverse of the jacobian matrix \n",
    "    dxidx = 1./dxdxi\n",
    "    \n",
    "    # note, we can take derivatives with respect to xi easily since shape functions are in terms of xi \n",
    "    dudxi = dN1dxi(xi_vec)*u1e + dN2dxi(xi_vec)*u2e + dN3dxi(xi_vec)*u3e\n",
    "    # need to use the chain rule and thus the inverse jacobian to get gradients with respect to x\n",
    "    dudx_vec = dudxi*dxidx\n",
    "    \n",
    "    # plot function u\n",
    "    ax1.plot(x_vec,u_vec)\n",
    "    \n",
    "    # plot the gradient\n",
    "    ax2.plot(x_vec,dudx_vec)"
   ]
  }
 ],
 "metadata": {
  "kernelspec": {
   "display_name": "Python 3",
   "language": "python",
   "name": "python3"
  },
  "language_info": {
   "codemirror_mode": {
    "name": "ipython",
    "version": 3
   },
   "file_extension": ".py",
   "mimetype": "text/x-python",
   "name": "python",
   "nbconvert_exporter": "python",
   "pygments_lexer": "ipython3",
   "version": "3.8.5"
  }
 },
 "nbformat": 4,
 "nbformat_minor": 2
}
