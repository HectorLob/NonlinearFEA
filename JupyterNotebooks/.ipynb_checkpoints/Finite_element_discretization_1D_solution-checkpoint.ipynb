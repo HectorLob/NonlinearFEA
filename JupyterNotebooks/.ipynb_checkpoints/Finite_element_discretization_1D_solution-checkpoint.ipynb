{
 "cells": [
  {
   "cell_type": "markdown",
   "metadata": {},
   "source": [
    "## Discretizing functions with finite elements\n",
    "\n",
    "As we saw in class, we can discretize a function inside of an element by \n",
    "\n",
    "$u^e(x) = \\sum N_i^e(x)u_i^e$\n",
    "\n",
    "Or the derivative of the function by \n",
    "\n",
    "$\\frac{du^e(x)}{dx} = \\sum \\frac{dN_i^e(x)}{dx} u_i^e$\n",
    "\n",
    "And this is true whether we have linear shape functions, quadratic shape functions, etc... \n",
    "\n",
    "We also saw in class that the shape functions may not be easily defined in the physical space $x$, but rather, it is easier to consider a fixed domain $\\xi$ and define the basis functions over that domain. In turn, a map between the $x$ coordinates and the $\\xi$ coordinates is needed. The isoparametric map is a special map that uses the shape functions themselves to describe the relationship between $\\xi$ and $x$. \n",
    "\n",
    "In this notebook we define the quadratic shape functions for the domain $\\xi\\in[-1,1]$. The shape functions used are obtained with Lagrange polynomials so as to satisfy the interpolation property and the completeness property. Other shape functions could be used. \n",
    " "
   ]
  },
  {
   "cell_type": "code",
   "execution_count": 1,
   "metadata": {},
   "outputs": [],
   "source": [
    "import numpy as np\n",
    "import sympy as sp\n",
    "import matplotlib\n",
    "import random\n",
    "import matplotlib.pyplot as plt\n",
    "%matplotlib inline "
   ]
  },
  {
   "cell_type": "code",
   "execution_count": 2,
   "metadata": {},
   "outputs": [],
   "source": [
    "n_ele = 3\n",
    "n_nod = 7\n",
    "elements = np.array([[0,1,2],[2,3,4],[4,5,6]])\n",
    "node_X = np.linspace(0,2,7)\n",
    "node_u = np.random.rand(7)"
   ]
  },
  {
   "cell_type": "code",
   "execution_count": 5,
   "metadata": {},
   "outputs": [],
   "source": [
    "## Define shape functions in the parent domain \n",
    "def N1(xi):\n",
    "    xi1 = -1\n",
    "    xi2 = 0\n",
    "    xi3 = +1\n",
    "    return (xi-xi2)*(xi-xi3)/((xi1-xi2)*(xi1-xi3))\n",
    "\n",
    "def N2(xi):\n",
    "    xi1 = -1\n",
    "    xi2 = 0\n",
    "    xi3 = +1\n",
    "    return (xi-xi1)*(xi-xi3)/((xi2-xi1)*(xi2-xi3))\n",
    "\n",
    "def N3(xi):\n",
    "    xi1 = -1\n",
    "    xi2 = 0\n",
    "    xi3 = +1\n",
    "    return (xi-xi1)*(xi-xi2)/((xi3-xi1)*(xi3-xi2))\n",
    "\n",
    "## Define derivatives of shape functions in parent domain \n",
    "def dN1dxi(xi):\n",
    "    xi1 = -1\n",
    "    xi2 = 0\n",
    "    xi3 = +1\n",
    "    return ((xi-xi2)+(xi-xi3))/((xi1-xi2)*(xi1-xi3))\n",
    "\n",
    "def dN2dxi(xi):\n",
    "    xi1 = -1\n",
    "    xi2 = 0\n",
    "    xi3 = +1\n",
    "    return ((xi-xi1)+(xi-xi3))/((xi2-xi1)*(xi2-xi3))\n",
    "\n",
    "def dN3dxi(xi):\n",
    "    xi1 = -1\n",
    "    xi2 = 0\n",
    "    xi3 = +1\n",
    "    return ((xi-xi1)+(xi-xi2))/((xi3-xi1)*(xi3-xi2))\n"
   ]
  },
  {
   "cell_type": "code",
   "execution_count": 6,
   "metadata": {},
   "outputs": [
    {
     "data": {
      "image/png": "[encoded data removed]",
      "text/plain": [
       "<Figure size 720x288 with 2 Axes>"
      ]
     },
     "metadata": {
      "needs_background": "light"
     },
     "output_type": "display_data"
    }
   ],
   "source": [
    "## plot a function over the domain by plotting in each element \n",
    "\n",
    "fig, (ax1,ax2) = plt.subplots(1, 2, figsize=(10,4))\n",
    "\n",
    "# Loop over elements \n",
    "for i in range(n_ele):\n",
    "    \n",
    "    # Read the nodes that make up this element 'i'\n",
    "    n1 = elements[i,0] \n",
    "    n2 = elements[i,1]\n",
    "    n3 = elements[i,2]\n",
    "    \n",
    "    # Beginning and end 'x' coordinates of this element \n",
    "    x1e = node_X[n1]\n",
    "    x2e = node_X[n2]\n",
    "    x3e = node_X[n3]\n",
    "    \n",
    "    # Get the nodal values of the function 'u'\n",
    "    u1e = node_u[n1]\n",
    "    u2e = node_u[n2]\n",
    "    u3e = node_u[n3]\n",
    "    \n",
    "    # Eval the shape function evaluation for multiple xi in this element\n",
    "    xi_vec = np.linspace(-1,1,50)\n",
    "    \n",
    "    # use the shape functions to interpolate from the nodal u values to all the 'xi'\n",
    "    u_vec = N1(xi_vec)*u1e + N2(xi_vec)*u2e +  N3(xi_vec)*u3e\n",
    "    \n",
    "    ## ISOPARAMETRIC MAP\n",
    "    x_vec = N1(xi_vec)*x1e + N2(xi_vec)*x2e + N3(xi_vec)*x3e\n",
    "    \n",
    "    ## JACOABIAN OF THE ISOPARAMETRIC MAP\n",
    "    dxdxi = dN1dxi(xi_vec)*x1e + dN2dxi(xi_vec)*x2e + dN3dxi(xi_vec)*x3e\n",
    "    # note, it is a vector of scalars, the inverse of the Jacobian in this case is just 1/Jac \n",
    "    # when we do 2D we will need to take the inverse of the jacobian matrix \n",
    "    dxidx = 1./dxdxi\n",
    "    \n",
    "    # note, we can take derivatives with respect to xi easily since shape functions are in terms of xi \n",
    "    dudxi = dN1dxi(xi_vec)*u1e + dN2dxi(xi_vec)*u2e + dN3dxi(xi_vec)*u3e\n",
    "    # need to use the chain rule and thus the inverse jacobian to get gradients with respect to x\n",
    "    dudx_vec = dudxi*dxidx\n",
    "    \n",
    "    # plot function u\n",
    "    ax1.plot(x_vec,u_vec)\n",
    "    \n",
    "    # plot the gradient\n",
    "    ax2.plot(x_vec,dudx_vec)\n",
    "    "
   ]
  },
  {
   "cell_type": "code",
   "execution_count": null,
   "metadata": {},
   "outputs": [],
   "source": []
  }
 ],
 "metadata": {
  "kernelspec": {
   "display_name": "Python 3",
   "language": "python",
   "name": "python3"
  },
  "language_info": {
   "codemirror_mode": {
    "name": "ipython",
    "version": 3
   },
   "file_extension": ".py",
   "mimetype": "text/x-python",
   "name": "python",
   "nbconvert_exporter": "python",
   "pygments_lexer": "ipython3",
   "version": "3.8.5"
  }
 },
 "nbformat": 4,
 "nbformat_minor": 2
}
