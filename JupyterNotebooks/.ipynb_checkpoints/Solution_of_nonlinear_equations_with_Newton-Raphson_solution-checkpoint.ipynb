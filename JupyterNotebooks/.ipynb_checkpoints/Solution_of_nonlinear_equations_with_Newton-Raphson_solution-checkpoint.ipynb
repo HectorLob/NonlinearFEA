{
 "cells": [
  {
   "cell_type": "code",
   "execution_count": 1,
   "metadata": {},
   "outputs": [],
   "source": [
    "import numpy as np\n",
    "from numpy import sqrt, cos, sin\n",
    "import matplotlib\n",
    "import matplotlib.pyplot as plt"
   ]
  },
  {
   "cell_type": "markdown",
   "metadata": {},
   "source": [
    "# Solution of nonlinear system of equations \n"
   ]
  },
  {
   "cell_type": "markdown",
   "metadata": {},
   "source": [
    "Consider polynomials for a moment. You are probably already aware that there is no general algebraic formula for the roots of fifth degree polynomials or above. In fact you might have come across the Newton-Raphson algorithm precisely in this context, that is, obtaining the zeros of higher order polynomials numerically. If you have, then this notebook won't be too alien. In the previous python notebook and video 1 (nonlinearities in solid mechanics) we already talked about expanding the nonlinear function of a problem using Taylor series to end up with a polynomial of manageable order (for which we could solve exactly). However, many times we might want to solve the original problem directly. Because the solution can have no algebraic solution, we have to do numerically. The Newton-Raphson algorithm was already implemented in the previous Python notebook to compute the *exact* solution, so you can go back and check those solutions as well after doing the activities of this notebook. \n",
    "\n",
    "Problem for a function of a single variable: find $x$ such that $f(x)=0$\n",
    "\n",
    "The Newton-Raphson algorithm is simply to start with some guess $x^{(0)}$ and then do \n",
    "\n",
    "$$x^{(i+1)}=x^{(i)} - \\frac{f(x^{(i)})}{f'(x^{(i)})}$$\n",
    "\n",
    "where $f'(x)$ is the derivative of $f$ with respect to $x$. "
   ]
  },
  {
   "cell_type": "markdown",
   "metadata": {},
   "source": [
    "## Example 1\n",
    "\n",
    "Find the roots of \n",
    "\n",
    "$ 4x^5 +3x^4 + 2x^3 + x^2 -1 = 0$"
   ]
  },
  {
   "cell_type": "code",
   "execution_count": 2,
   "metadata": {},
   "outputs": [],
   "source": [
    "## Defining the function and it's derivative \n",
    "# NOTE: that's all we need to be able to do, evaluate the function and its derivative! \n",
    "\n",
    "def f(x): \n",
    "    return 4*x**5 + 3*x**4 + 2*x**3 + x**2 - 1 \n",
    "\n",
    "def fprime(x):\n",
    "    return 20*x**4 + 12*x**3 + 6*x**2 + 2*x \n",
    "\n"
   ]
  },
  {
   "cell_type": "code",
   "execution_count": 33,
   "metadata": {},
   "outputs": [
    {
     "name": "stdout",
     "output_type": "stream",
     "text": [
      "iter =  1 res =  2.7321711328125\n",
      "iter =  2 res =  0.6974499167192494\n",
      "iter =  3 res =  0.1061922799480044\n",
      "iter =  4 res =  0.004006006811365648\n",
      "iter =  5 res =  6.389191156586094e-06\n",
      "iter =  6 res =  1.6329160246186802e-11\n",
      "\n",
      "FINAL value of f(x) was  1.6329160246186802e-11  at x =  0.5328203015411785\n",
      "the solution converged! (up to desired tolerance)\n"
     ]
    }
   ],
   "source": [
    "## Newton raphson, \n",
    "# start with some guess \n",
    "x_i = 1\n",
    "# this array is to store all the steps of the NR algorithm \n",
    "x_sol = [x_i]\n",
    "# LOOP until convergence or max number of iterations has been reached \n",
    "# evaluate the function to see how far we are from the solution \n",
    "res = f(x_i) \n",
    "# tolerance for convergence \n",
    "tol = 1e-7\n",
    "# max number of iterations and iteration counter\n",
    "iter = 0\n",
    "max_iter = 20\n",
    "# now the loop \n",
    "while np.abs(res)>tol and iter<max_iter:\n",
    "    # calcualte the new value for x\n",
    "    x_i1 = x_i - f(x_i)/fprime(x_i)\n",
    "    # compute the new value of the function to see how close we are to f==0\n",
    "    res = f(x_i1)\n",
    "    # reset the variable x_i for the next iteration \n",
    "    x_i = x_i1 \n",
    "    # increment of iterations \n",
    "    iter += 1 \n",
    "    # print so you can see how the residual goes down with every iteration \n",
    "    print('iter = ',iter,'res = ',res)\n",
    "    # store the solution so we can plot the path of the solution later \n",
    "    x_sol.append(x_i)\n",
    "print('\\nFINAL value of f(x) was ',res, ' at x = ',x_i)\n",
    "if iter<max_iter:\n",
    "    print('the solution converged! (up to desired tolerance)')"
   ]
  },
  {
   "cell_type": "code",
   "execution_count": 34,
   "metadata": {},
   "outputs": [
    {
     "data": {
      "text/plain": [
       "<matplotlib.collections.PathCollection at 0x7fa3583df490>"
      ]
     },
     "execution_count": 34,
     "metadata": {},
     "output_type": "execute_result"
    },
    {
     "data": {
      "image/png": "[encoded data removed]",
      "text/plain": [
       "<Figure size 432x288 with 1 Axes>"
      ]
     },
     "metadata": {
      "needs_background": "light"
     },
     "output_type": "display_data"
    }
   ],
   "source": [
    "# plot just to get an idea\n",
    "x_ls = np.linspace(-1.3,1.3,200)\n",
    "font = {'family' : 'Arial',\n",
    "        'size'   : 18}\n",
    "matplotlib.rc('font', **font)\n",
    "# plotting the function\n",
    "plt.plot(x_ls,f(x_ls),color='black',linewidth=2)\n",
    "# plot the y=0 line\n",
    "plt.plot(x_ls,np.zeros((200)),color='black',linestyle='dashed')\n",
    "# plot the sequence of steps of the NR\n",
    "plt.plot(x_sol,f(np.asarray(x_sol)),color='red')\n",
    "plt.scatter(x_sol,f(np.asarray(x_sol)),color='red')\n",
    "#plt.savefig('L02E1r.png')"
   ]
  },
  {
   "cell_type": "markdown",
   "metadata": {},
   "source": [
    "**Activity** \n",
    "\n",
    "Repeat the evaluation of the algorithm in the example, but for different initial guesses\n",
    "* Do you always get to the solution regardless of where you start? I recommend trying the initial points [-0.8,-0.3,0.2, 0.7]\n",
    "* How many iterations does it take to converge as you start with guesses that are farther from the actual zero of the polynomial? \n",
    "* Try with the initial guess $x^{(0)}=0$, what happens? "
   ]
  },
  {
   "cell_type": "code",
   "execution_count": 46,
   "metadata": {},
   "outputs": [
    {
     "name": "stdout",
     "output_type": "stream",
     "text": [
      "iter =  1 x = -0.45813432835820894 res =  -0.9309961319000346\n",
      "iter =  2 x = 12.79869157998185 res =  1458540.764455723\n",
      "iter =  3 x = 10.207195156041184 res =  477986.9600396632\n",
      "iter =  4 x = 8.133543302736127 res =  156653.81191601808\n",
      "iter =  5 x = 6.474048071623807 res =  51346.26213591558\n",
      "iter =  6 x = 5.145730289942824 res =  16832.276166133957\n",
      "iter =  7 x = 4.082176237270207 res =  5519.187895175684\n",
      "iter =  8 x = 3.230232567375035 res =  1810.2647082375076\n",
      "iter =  9 x = 2.5473891433703897 res =  593.9572090852619\n",
      "iter =  10 x = 1.9997551896866237 res =  194.89132849062835\n",
      "iter =  11 x = 1.5606146631749551 res =  63.8612694091115\n",
      "iter =  12 x = 1.2096903372733259 res =  20.789639907373797\n",
      "iter =  13 x = 0.9334887485938916 res =  6.611650001615715\n",
      "iter =  14 x = 0.7271552131884979 res =  1.949669483183774\n",
      "iter =  15 x = 0.5957077550318558 res =  0.4555285066408157\n",
      "iter =  16 x = 0.5413228729020971 res =  0.05380591598211737\n",
      "iter =  17 x = 0.5329959162987131 res =  0.001088613886953027\n",
      "iter =  18 x = 0.532820377947338 res =  4.734425076424742e-07\n",
      "iter =  19 x = 0.5328203015385576 res =  8.970602038971265e-14\n",
      "For initial guess x_0 =  -0.8 NR took  19 iterations to arrive at x =  0.5328203015385576 , and final residual was f(x)= 8.970602038971265e-14 \n",
      "\n",
      "iter =  1 x = -4.576666666666666 res =  -6887.26946577591\n",
      "iter =  2 x = -3.6869271124356895 res =  -2258.400339892926\n",
      "iter =  3 x = -2.9741378685783064 res =  -740.8610563147583\n",
      "iter =  4 x = -2.4026128308742454 res =  -243.2413920080639\n",
      "iter =  5 x = -1.9435333999522557 res =  -80.0234931126341\n",
      "iter =  6 x = -1.5731295251777988 res =  -26.47586257104619\n",
      "iter =  7 x = -1.2704500059445412 res =  -8.910450376310195\n",
      "iter =  8 x = -1.0132149750610897 res =  -3.163364615221842\n",
      "iter =  9 x = -0.7647080626367705 res =  -1.3297097435485212\n",
      "iter =  10 x = -0.3795476563835149 res =  -0.9345452491140445\n",
      "iter =  11 x = -7.259953950570935 res =  -73052.73793746969\n",
      "iter =  12 x = -5.835100034156342 res =  -23944.787175526708\n",
      "iter =  13 x = -4.694566375535322 res =  -7849.6353402995155\n",
      "iter =  14 x = -3.78135021797221 res =  -2573.8785216956303\n",
      "iter =  15 x = -3.049805744154335 res =  -844.2989213635137\n",
      "iter =  16 x = -2.463320500162733 res =  -277.1644383370952\n",
      "iter =  17 x = -1.992363511807601 res =  -91.15173938291112\n",
      "iter =  18 x = -1.6126727717301395 res =  -30.126961823531197\n",
      "iter =  19 x = -1.3031193447270604 res =  -10.107511575373014\n",
      "iter =  20 x = -1.0419465560848953 res =  -3.5531328549174352\n",
      "For initial guess x_0 =  -0.30000000000000004 NR took  20 iterations to arrive at x =  -1.0419465560848953 , and final residual was f(x)= -3.5531328549174352 \n",
      "\n",
      "iter =  1 x = 1.4212500000000006 res =  42.1982383533455\n",
      "iter =  2 x = 1.099166781887018 res =  13.66080862652332\n",
      "iter =  3 x = 0.8488608666992904 res =  4.264484400170188\n",
      "iter =  4 x = 0.6692680352103222 res =  1.1864790620690715\n",
      "iter =  5 x = 0.567302116053677 res =  0.23274491388186602\n",
      "iter =  6 x = 0.5355411467514679 res =  0.01697293036079195\n",
      "iter =  7 x = 0.5328385320600997 res =  0.00011296464280308172\n",
      "iter =  8 x = 0.5328203023622686 res =  5.103948819140669e-09\n",
      "For initial guess x_0 =  0.19999999999999996 NR took  8 iterations to arrive at x =  0.5328203023622686 , and final residual was f(x)= 5.103948819140669e-09 \n",
      "\n",
      "iter =  1 x = 0.5816880374113742 res =  0.3418520216092924\n",
      "iter =  2 x = 0.5381130939327637 res =  0.03322824366683719\n",
      "iter =  3 x = 0.5328888685865998 res =  0.0004249257764887826\n",
      "iter =  4 x = 0.5328203131895402 res =  7.219164177563187e-08\n",
      "For initial guess x_0 =  0.7 NR took  4 iterations to arrive at x =  0.5328203131895402 , and final residual was f(x)= 7.219164177563187e-08 \n",
      "\n"
     ]
    },
    {
     "data": {
      "image/png": "[encoded data removed]",
      "text/plain": [
       "<Figure size 432x432 with 4 Axes>"
      ]
     },
     "metadata": {
      "needs_background": "light"
     },
     "output_type": "display_data"
    }
   ],
   "source": [
    "## Doing it for 4 different initial conditions \n",
    "fig,axs = plt.subplots(nrows=2, ncols=2, figsize=(6,6))\n",
    "for i in range(4):\n",
    "    # just some random initial guess \n",
    "    x_0 = i/2-0.8\n",
    "    x_i = x_0\n",
    "    x_sol = [x_i]\n",
    "    res = f(x_i) \n",
    "    tol = 1e-7\n",
    "    iter = 0\n",
    "    max_iter = 20\n",
    "    while np.abs(res)>tol and iter<max_iter:\n",
    "        x_i1 = x_i - f(x_i)/fprime(x_i)\n",
    "        res = f(x_i1)\n",
    "        x_i = x_i1 \n",
    "        iter += 1 \n",
    "        print('iter = ',iter, 'x =', x_i, 'res = ',res)\n",
    "        x_sol.append(x_i)\n",
    "    print('For initial guess x_0 = ', x_0, 'NR took ', iter, 'iterations to arrive at x = ',x_i,', and final residual was f(x)=',f(x_i),'\\n')\n",
    "    axs[int(i/2),i%2].plot(x_ls,f(x_ls),color='black',linewidth=2)\n",
    "    axs[int(i/2),i%2].plot(x_ls,np.zeros((200)),color='black',linestyle='dashed')\n",
    "    axs[int(i/2),i%2].plot(x_sol,f(np.asarray(x_sol)),color='red')\n",
    "    axs[int(i/2),i%2].scatter(x_sol,f(np.asarray(x_sol)),color='red')\n",
    "    \n",
    "plt.tight_layout()\n",
    "    "
   ]
  },
  {
   "cell_type": "markdown",
   "metadata": {},
   "source": [
    "As you can see, there is no guarantee that the algorithm will work! \n",
    "\n",
    "In the first one of the plots above the initial guess was $x^{(0)}=-0.93$ and the solution did converge, but it took 19 iterations and it went on a good detour. If you want to understand what happened you should plot the derivative at every step of the process and you will see that for $x^{(1)}=-0.45$ the derivative is very small $f'(-0.45)=0.041$ and if you trace the line with slope $f'(-0.45)=0.041$ at $x=-0.45$ you will see that it crosses the line $y=0$ at $x=12.8$. We have gone too far to the right, we overshot, now the polynomial takes in pretty high values!! While the iterations eventually converge to the correct solution the overshooting doesnt help. \n",
    "\n",
    "For the second case you can see that if the initial guess was $x^{(0)}=-0.3$ the solution does not converge! You can see that for the first iteration, the value of the derivative $f'(-0.3)=-0.222$ and this in turn pushes us to the left for the next iteration. This is because, again, the way the next point is found is by seeing where the tangent line crosses $y=0$ and that's the next $x$ in the algorithm. Because the derivative was negative at $x=-0.3$ we end up with a point to the left. We gradually move to the right, toward the solution, but every time we hit a point for which $f(x^{(i)}<0$ and $f'(x^{(i)}<0$ we get pushed back again to the left. \n",
    "\n",
    "Why is this happening? \n",
    "\n",
    "Because the origin of the Newton Raphson algorithm is a Taylor approximation! \n",
    "\n",
    "We want to find $x$ such that $f(x)=0$. Assume we are somewhat close to the solution but not quite there. We are at $x^{(i)}$, the Taylor expansion is \n",
    "\n",
    "$$f(x^{(i)} + \\Delta x) = f(x^{(i)}) + f'(x^{(i)}) \\Delta x $$ \n",
    "\n",
    "Solve the above equation for $\\Delta x$ such that $f(x^{(i)} + \\Delta x)=0$, in other words we want $\\Delta x$ such that\n",
    "\n",
    "$$0 = f(x^{(i)}) + f'(x^{(i)}) \\Delta x $$ \n",
    "\n",
    "Solving for $\\Delta x$ leads to \n",
    "\n",
    "$$\\Delta x = -f(x^{(i)})/f'(x^{(i)})$$ \n",
    "\n",
    "and to the Newton Raphson algorithm \n",
    "\n",
    "$$x^{(i+1)} = x^{(i)} - f(x^{(i)})/f'(x^{(i)})$$ \n",
    "\n"
   ]
  },
  {
   "cell_type": "markdown",
   "metadata": {},
   "source": [
    "## Example 2\n",
    "\n",
    "Solve: \n",
    "\n",
    "$ R_1(x_1,x_2) \\equiv 2x_1^2x_2 - 2x_1x_2^2 + x_1x_2 - 1 = 0$\n",
    "\n",
    "$ R_2(x_1, x_2) \\equiv x_1 - x_2 = 0$\n",
    "\n",
    "The algorithm is described in the video. Briefly, now we have a vector of unknowns, in this case $\\mathbf{x}=[x_1,x_2]$, and we have a vector of equations we want to solve $\\mathbf{R}(\\mathbf{x})$. We have some initial guess $mathbf{x}^{(0)} = [x_1^{(0)},x_2^{(0)}]$, the Newton Raphson algorithm is \n",
    "\n",
    "$$\\mathbf{x}^{(i+1)} = \\mathbf{x}^{(i)} - \\mathbf{K}^{-1} \\mathbf{R}(\\mathbf{x}^{(i)})$$ \n",
    "\n",
    "where the matrix $\\mathbf{K}^{-1}$ is the inverse of the tangent matrix $\\mathbf{K}$. The tangent matrix is basically the gradient of the residual function with respect to the vector of variables \n",
    "\n",
    "$$\\mathbf{K} = \\frac{\\partial \\mathbf{R}(\\mathbf{x})}{\\partial \\mathbf{x}}$$ \n",
    "\n",
    "Note that if we have a vecto of $m$ unknowns and a corresponding system of $m$ equations, then the matrix $\\mathbf{K}$ is $m\\times m$. In this case, the matrix is $2\\times 2$ and we can expand a little \n",
    "\n",
    "$$\n",
    "\\mathbf{K} = \\begin{pmatrix}\\frac{\\partial R_1(x_1,x_2)}{\\partial x_1}&\\frac{\\partial R_1(x_1,x_2)}{\\partial x_2}\\\\ \\frac{\\partial R_2(x_1,x_2)}{\\partial x_1}&\\frac{\\partial R_2(x_1,x_2)}{\\partial x_2} \\end{pmatrix}\n",
    "$$\n",
    "\n",
    "In this particular case it is easy to take the derivatives of the polynomials and explicitly write \n",
    "\n",
    "$$\n",
    "\\mathbf{K} = \\begin{pmatrix} 4x_1 x_2 -2x_2^2+x_2 & 2x_1^2-4x_1 x_2 + x_1\\\\ 1&-1 \\end{pmatrix}\n",
    "$$\n",
    "\n",
    "Note again, as before, all we need to be able to do is evaluate the function and the tange matrix, and then just let the algorithm run and hopefully it will work :) "
   ]
  },
  {
   "cell_type": "code",
   "execution_count": 1,
   "metadata": {},
   "outputs": [],
   "source": [
    "def res(x):\n",
    "    res1 = 2*x[0]**2*x[1] - 2*x[0]*x[1]**2+x[0]*x[1]-1\n",
    "    res2 = x[0]-x[1]\n",
    "    \n",
    "    return np.array([res1,res2])\n",
    "\n",
    "def dres(x):\n",
    "    dres1dx1 = 4*x[0]*x[1] - 2*x[1]**2+x[1]\n",
    "    dres1dx2 = 2*x[0]**2 - 4*x[0]*x[1]+x[0]\n",
    "    dres2dx1 = 1\n",
    "    dres2dx2 = -1\n",
    "    return np.array([[dres1dx1,dres1dx2],[dres2dx1,dres2dx2]])"
   ]
  },
  {
   "cell_type": "code",
   "execution_count": 2,
   "metadata": {},
   "outputs": [
    {
     "ename": "NameError",
     "evalue": "name 'np' is not defined",
     "output_type": "error",
     "traceback": [
      "\u001b[0;31m---------------------------------------------------------------------------\u001b[0m",
      "\u001b[0;31mNameError\u001b[0m                                 Traceback (most recent call last)",
      "\u001b[0;32m<ipython-input-2-875fdd6dc5ae>\u001b[0m in \u001b[0;36m<module>\u001b[0;34m\u001b[0m\n\u001b[1;32m      1\u001b[0m \u001b[0;31m# plot just to get an idea\u001b[0m\u001b[0;34m\u001b[0m\u001b[0;34m\u001b[0m\u001b[0;34m\u001b[0m\u001b[0m\n\u001b[1;32m      2\u001b[0m \u001b[0;34m\u001b[0m\u001b[0m\n\u001b[0;32m----> 3\u001b[0;31m \u001b[0mx1_ls\u001b[0m \u001b[0;34m=\u001b[0m \u001b[0mnp\u001b[0m\u001b[0;34m.\u001b[0m\u001b[0mlinspace\u001b[0m\u001b[0;34m(\u001b[0m\u001b[0;34m-\u001b[0m\u001b[0;36m5\u001b[0m\u001b[0;34m,\u001b[0m\u001b[0;36m5\u001b[0m\u001b[0;34m,\u001b[0m\u001b[0;36m50\u001b[0m\u001b[0;34m)\u001b[0m\u001b[0;34m\u001b[0m\u001b[0;34m\u001b[0m\u001b[0m\n\u001b[0m\u001b[1;32m      4\u001b[0m \u001b[0mx2_ls\u001b[0m \u001b[0;34m=\u001b[0m \u001b[0mnp\u001b[0m\u001b[0;34m.\u001b[0m\u001b[0mlinspace\u001b[0m\u001b[0;34m(\u001b[0m\u001b[0;34m-\u001b[0m\u001b[0;36m5\u001b[0m\u001b[0;34m,\u001b[0m\u001b[0;36m5\u001b[0m\u001b[0;34m,\u001b[0m\u001b[0;36m50\u001b[0m\u001b[0;34m)\u001b[0m\u001b[0;34m\u001b[0m\u001b[0;34m\u001b[0m\u001b[0m\n\u001b[1;32m      5\u001b[0m \u001b[0mx1_mg\u001b[0m \u001b[0;34m=\u001b[0m \u001b[0mnp\u001b[0m\u001b[0;34m.\u001b[0m\u001b[0mzeros\u001b[0m\u001b[0;34m(\u001b[0m\u001b[0;34m(\u001b[0m\u001b[0;36m50\u001b[0m\u001b[0;34m,\u001b[0m\u001b[0;36m50\u001b[0m\u001b[0;34m)\u001b[0m\u001b[0;34m)\u001b[0m\u001b[0;34m\u001b[0m\u001b[0;34m\u001b[0m\u001b[0m\n",
      "\u001b[0;31mNameError\u001b[0m: name 'np' is not defined"
     ]
    }
   ],
   "source": [
    "# plot just to get an idea \n",
    "\n",
    "x1_ls = np.linspace(-5,5,50)\n",
    "x2_ls = np.linspace(-5,5,50)\n",
    "x1_mg = np.zeros((50,50))\n",
    "x2_mg = np.zeros((50,50))\n",
    "res1_mg = np.zeros((50,50))\n",
    "res2_mg = np.zeros((50,50))\n",
    "for i in range(50):\n",
    "    for j in range(50):\n",
    "        x1_mg[i,j] = x1_ls[i]\n",
    "        x2_mg[i,j] = x2_ls[j]\n",
    "        res1_mg[i,j] = res([x1_ls[i],x2_ls[j]])[0]\n",
    "        res2_mg[i,j] = res([x1_ls[i],x2_ls[j]])[1]\n",
    "\n",
    "fig, _axs = plt.subplots(nrows=1, ncols=2,figsize=(12,4))\n",
    "cs1 = _axs[0].contourf(x1_mg,x2_mg,res1_mg)\n",
    "cs2 = _axs[1].contourf(x1_mg,x2_mg,res2_mg)\n",
    "fig.colorbar(cs1, ax=_axs[0])\n",
    "fig.colorbar(cs2, ax=_axs[1])\n",
    "\n",
    "#plt.savefig('L2E02contour.png')"
   ]
  },
  {
   "cell_type": "code",
   "execution_count": 23,
   "metadata": {},
   "outputs": [
    {
     "name": "stdout",
     "output_type": "stream",
     "text": [
      "Iterations: 4\n",
      "solution, x=1.000076,1.000076 \n"
     ]
    }
   ],
   "source": [
    "# Newton Raphson, start at 0.2,0.5 \n",
    "#x_sol = np.array([0.2,0.5])\n",
    "x_sol = np.array([2.5,2.0])\n",
    "tol = 1e-3\n",
    "itermax=100\n",
    "iter=0\n",
    "x1_iter = [x_sol[0]]\n",
    "x2_iter = [x_sol[1]]\n",
    "while np.linalg.norm(res(x_sol))>tol and iter<itermax:\n",
    "    x_sol -= np.linalg.solve(dres(x_sol),res(x_sol))\n",
    "    x1_iter.append(x_sol[0])\n",
    "    x2_iter.append(x_sol[1])\n",
    "    iter+=1\n",
    "print('Iterations: %i'%(iter))\n",
    "print('solution, x=%f,%f '%(x_sol[0],x_sol[1]))"
   ]
  },
  {
   "cell_type": "code",
   "execution_count": 27,
   "metadata": {},
   "outputs": [
    {
     "data": {
      "image/png": "[encoded data removed]",
      "text/plain": [
       "<Figure size 864x288 with 4 Axes>"
      ]
     },
     "metadata": {
      "needs_background": "light"
     },
     "output_type": "display_data"
    }
   ],
   "source": [
    "# plot sequence of points \n",
    "x1_ls = np.linspace(-3.6,3.6,50)\n",
    "x2_ls = np.linspace(-3.6,3.6,50)\n",
    "x1_mg = np.zeros((50,50))\n",
    "x2_mg = np.zeros((50,50))\n",
    "res1_mg = np.zeros((50,50))\n",
    "res2_mg = np.zeros((50,50))\n",
    "for i in range(50):\n",
    "    for j in range(50):\n",
    "        x1_mg[i,j] = x1_ls[i]\n",
    "        x2_mg[i,j] = x2_ls[j]\n",
    "        res1_mg[i,j] = res([x1_ls[i],x2_ls[j]])[0]\n",
    "        res2_mg[i,j] = res([x1_ls[i],x2_ls[j]])[1]\n",
    "\n",
    "fig, axs = plt.subplots(nrows=1, ncols=2,figsize=(12,4))\n",
    "cs1 = axs[0].contourf(x1_mg,x2_mg,res1_mg,levels=np.linspace(-50,50,25))\n",
    "# Plot up to point 'i' in the iterations \n",
    "i=4\n",
    "axs[0].plot(x1_iter[:i],x2_iter[:i],color='grey')\n",
    "axs[0].scatter(x1_iter[:i],x2_iter[:i],color='white')\n",
    "cs2 = axs[1].contourf(x1_mg,x2_mg,res2_mg)\n",
    "axs[1].plot(x1_iter[:i],x2_iter[:i],color='grey')\n",
    "axs[1].scatter(x1_iter[:i],x2_iter[:i],color='white')\n",
    "fig.colorbar(cs1, ax=axs[0])\n",
    "fig.colorbar(cs2, ax=axs[1])\n",
    "plt.savefig('images/L02E02NR_i4.png')"
   ]
  },
  {
   "cell_type": "code",
   "execution_count": null,
   "metadata": {},
   "outputs": [],
   "source": []
  },
  {
   "cell_type": "code",
   "execution_count": null,
   "metadata": {},
   "outputs": [],
   "source": []
  }
 ],
 "metadata": {
  "kernelspec": {
   "display_name": "Python 3",
   "language": "python",
   "name": "python3"
  },
  "language_info": {
   "codemirror_mode": {
    "name": "ipython",
    "version": 3
   },
   "file_extension": ".py",
   "mimetype": "text/x-python",
   "name": "python",
   "nbconvert_exporter": "python",
   "pygments_lexer": "ipython3",
   "version": "3.8.5"
  }
 },
 "nbformat": 4,
 "nbformat_minor": 4
}
